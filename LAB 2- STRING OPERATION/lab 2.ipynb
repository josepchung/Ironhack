{
 "cells": [
  {
   "cell_type": "markdown",
   "metadata": {},
   "source": [
    "# Before your start:\n",
    "- Read the README.md file\n",
    "- Comment as much as you can and use the resources in the README.md file\n",
    "- Happy learning!"
   ]
  },
  {
   "cell_type": "code",
   "execution_count": 330,
   "metadata": {},
   "outputs": [],
   "source": [
    "import re\n"
   ]
  },
  {
   "cell_type": "markdown",
   "metadata": {},
   "source": [
    "# Challenge 1 - Combining Strings\n",
    "\n",
    "Combining strings is an important skill to acquire. There are multiple ways of combining strings in Python, as well as combining strings with variables. We will explore this in the first challenge. In the cell below, combine the strings in the list and add spaces between the strings (do not add a space after the last string). Insert a period after the last string."
   ]
  },
  {
   "cell_type": "code",
   "execution_count": 331,
   "metadata": {},
   "outputs": [
    {
     "name": "stdout",
     "output_type": "stream",
     "text": [
      "Durante un tiempo no estuvo segura de si su marido era su marido.\n"
     ]
    }
   ],
   "source": [
    "str_list = ['Durante', 'un', 'tiempo', 'no', 'estuvo', 'segura', 'de', 'si', 'su', 'marido', 'era', 'su', 'marido']\n",
    "# Your code here:\n",
    "\n",
    "newlist=\" \".join(str_list)+\".\"\n",
    "print(newlist)\n",
    "\n"
   ]
  },
  {
   "cell_type": "markdown",
   "metadata": {},
   "source": [
    "In the cell below, use the list of strings to create a grocery list. Start the list with the string `Grocery list: ` and include a comma and a space between each item except for the last one. Include a period at the end. Only include foods in the list that start with the letter 'b' and ensure all foods are lower case."
   ]
  },
  {
   "cell_type": "code",
   "execution_count": 332,
   "metadata": {},
   "outputs": [],
   "source": [
    "food_list = ['Bananas', 'Chocolate', 'bread', 'diapers', 'Ice Cream', 'Brownie Mix', 'broccoli']\n",
    "\n",
    "# Your code here:\n",
    "\n",
    "x= [\"Grocery list:\"]\n",
    "\n",
    "\n",
    "\n"
   ]
  },
  {
   "cell_type": "code",
   "execution_count": 333,
   "metadata": {},
   "outputs": [
    {
     "name": "stdout",
     "output_type": "stream",
     "text": [
      "['bananas', 'bread', 'brownie mix', 'broccoli']\n"
     ]
    }
   ],
   "source": [
    "list_with_b=[]\n",
    "\n",
    "for b in food_list:\n",
    "    b=b.lower()\n",
    "    if b.startswith(\"b\"):\n",
    "        list_with_b.append(b)  \n",
    "\n",
    "    \n",
    "    \n",
    "print(list_with_b)"
   ]
  },
  {
   "cell_type": "code",
   "execution_count": 334,
   "metadata": {},
   "outputs": [
    {
     "name": "stdout",
     "output_type": "stream",
     "text": [
      "bananas\n",
      "chocolate\n",
      "bread\n",
      "diapers\n",
      "ice cream\n",
      "brownie mix\n",
      "broccoli\n"
     ]
    }
   ],
   "source": [
    "list_with_b=[]\n",
    "\n",
    "for b in food_list:\n",
    "    b=b.lower()\n",
    "    print(b)"
   ]
  },
  {
   "cell_type": "code",
   "execution_count": 335,
   "metadata": {},
   "outputs": [],
   "source": [
    "list_with_b=[]\n",
    "\n",
    "for b in food_list:\n",
    "    b.lower()\n",
    "    \n",
    "    \n",
    "    if (b.startswith(\"B\")) or (b.startswith(\"b\")): \n",
    "        list_with_b.append(b)\n",
    "        \n",
    "\n"
   ]
  },
  {
   "cell_type": "code",
   "execution_count": 336,
   "metadata": {},
   "outputs": [
    {
     "name": "stdout",
     "output_type": "stream",
     "text": [
      "Grocery list: bananas, bread, brownie mix, broccoli.\n"
     ]
    }
   ],
   "source": [
    "newgrocerylist= \"Grocery list: \"+ \", \".join(list_with_b).lower()+\".\"\n",
    "print(newgrocerylist)"
   ]
  },
  {
   "cell_type": "code",
   "execution_count": null,
   "metadata": {},
   "outputs": [],
   "source": []
  },
  {
   "cell_type": "code",
   "execution_count": null,
   "metadata": {},
   "outputs": [],
   "source": []
  },
  {
   "cell_type": "code",
   "execution_count": null,
   "metadata": {},
   "outputs": [],
   "source": []
  },
  {
   "cell_type": "markdown",
   "metadata": {},
   "source": [
    "In the cell below, write a function that computes the area of a circle using its radius. Compute the area of the circle and insert the radius and the area between the two strings. Make sure to include spaces between the variable and the strings. \n",
    "\n",
    "Note: You can use the techniques we have learned so far or use f-strings. F-strings allow us to embed code inside strings. You can read more about f-strings [here](https://www.python.org/dev/peps/pep-0498/)."
   ]
  },
  {
   "cell_type": "code",
   "execution_count": 337,
   "metadata": {},
   "outputs": [],
   "source": [
    "import math\n",
    "\n",
    "string1 = \"The area of the circle with radius:\"\n",
    "string2  = \"is:\"\n",
    "radius = 4.5\n",
    "\n",
    "def area(x, pi = math.pi):\n",
    "    \"\"\"\n",
    "    This function takes a radius and returns the area of a circle. \n",
    "    We also pass a default value for pi.\n",
    "    \n",
    "    Input: Float (and default value for pi)\n",
    "    Output: Float\n",
    "    \n",
    "    Sample input: 5.0\n",
    "    Sample Output: 78.53981633\n",
    "    \"\"\"\n",
    "    \n",
    "    # Your code here:\n",
    "    \n",
    "    \n",
    "# Your output string here:\n",
    "\n"
   ]
  },
  {
   "cell_type": "code",
   "execution_count": 338,
   "metadata": {},
   "outputs": [
    {
     "name": "stdout",
     "output_type": "stream",
     "text": [
      "63.61725123519331\n"
     ]
    }
   ],
   "source": [
    "area= math.pi *(radius**2)\n",
    "print(area)\n",
    "\n"
   ]
  },
  {
   "cell_type": "code",
   "execution_count": 339,
   "metadata": {},
   "outputs": [
    {
     "name": "stdout",
     "output_type": "stream",
     "text": [
      "63.61725123519331\n",
      "4.5\n"
     ]
    }
   ],
   "source": [
    "area= str(area)\n",
    "print(area)\n",
    "\n",
    "radius= str(radius)\n",
    "print(radius)"
   ]
  },
  {
   "cell_type": "code",
   "execution_count": null,
   "metadata": {},
   "outputs": [],
   "source": []
  },
  {
   "cell_type": "code",
   "execution_count": 340,
   "metadata": {},
   "outputs": [
    {
     "name": "stdout",
     "output_type": "stream",
     "text": [
      "The area of the circle with radius: 4.5 is: 63.61725123519331.\n"
     ]
    }
   ],
   "source": [
    "answer = string1+\" \" +radius +\" \"+ string2 + \" \" +area +\".\" \n",
    "print(answer)"
   ]
  },
  {
   "cell_type": "markdown",
   "metadata": {},
   "source": [
    "# Challenge 2 - Splitting Strings\n",
    "\n",
    "We have first looked at combining strings into one long string. There are times where we need to do the opposite and split the string into smaller components for further analysis. \n",
    "\n",
    "In the cell below, split the string into a list of strings using the space delimiter. Count the frequency of each word in the string in a dictionary. Strip the periods, line breaks and commas from the text. Make sure to remove empty strings from your dictionary."
   ]
  },
  {
   "cell_type": "code",
   "execution_count": 341,
   "metadata": {},
   "outputs": [
    {
     "name": "stdout",
     "output_type": "stream",
     "text": [
      "['Some', 'say', 'the', 'world', 'will', 'end', 'in', 'fire', '', 'Some', 'say', 'in', 'ice', '', 'From', 'what', 'I’ve', 'tasted', 'of', 'desire', 'I', 'hold', 'with', 'those', 'who', 'favor', 'fire', '', 'But', 'if', 'it', 'had', 'to', 'perish', 'twice', '', 'I', 'think', 'I', 'know', 'enough', 'of', 'hate', 'To', 'say', 'that', 'for', 'destruction', 'ice', 'Is', 'also', 'great', 'And', 'would', 'suffice', '']\n"
     ]
    }
   ],
   "source": [
    "poem = \"\"\"Some say the world will end in fire,\n",
    "Some say in ice.\n",
    "From what I’ve tasted of desire\n",
    "I hold with those who favor fire.\n",
    "But if it had to perish twice,\n",
    "I think I know enough of hate\n",
    "To say that for destruction ice\n",
    "Is also great\n",
    "And would suffice.\"\"\"\n",
    "\n",
    "# Your code here:\n",
    "\n",
    "poem_list= re.split('[,.\\n ]', poem)\n",
    "\n",
    "\n",
    "\n",
    "print(poem_list)\n"
   ]
  },
  {
   "cell_type": "code",
   "execution_count": null,
   "metadata": {},
   "outputs": [],
   "source": []
  },
  {
   "cell_type": "code",
   "execution_count": 342,
   "metadata": {},
   "outputs": [
    {
     "name": "stdout",
     "output_type": "stream",
     "text": [
      "['Some', 'say', 'the', 'world', 'will', 'end', 'in', 'fire', 'Some', 'say', 'in', 'ice', 'From', 'what', 'I’ve', 'tasted', 'of', 'desire', 'I', 'hold', 'with', 'those', 'who', 'favor', 'fire', 'But', 'if', 'it', 'had', 'to', 'perish', 'twice', 'I', 'think', 'I', 'know', 'enough', 'of', 'hate', 'To', 'say', 'that', 'for', 'destruction', 'ice', 'Is', 'also', 'great', 'And', 'would', 'suffice']\n"
     ]
    }
   ],
   "source": [
    "while \"\" in poem_list:\n",
    "    poem_list.remove(\"\")\n",
    "    \n",
    "print(poem_list)\n",
    "poem_list2 = poem_list"
   ]
  },
  {
   "cell_type": "code",
   "execution_count": 343,
   "metadata": {},
   "outputs": [
    {
     "name": "stdout",
     "output_type": "stream",
     "text": [
      "Some 1\n",
      "say 2\n",
      "the 3\n",
      "world 4\n",
      "will 5\n",
      "end 6\n",
      "in 7\n",
      "fire 8\n",
      "Some 9\n",
      "say 10\n",
      "in 11\n",
      "ice 12\n",
      "From 13\n",
      "what 14\n",
      "I’ve 15\n",
      "tasted 16\n",
      "of 17\n",
      "desire 18\n",
      "I 19\n",
      "hold 20\n",
      "with 21\n",
      "those 22\n",
      "who 23\n",
      "favor 24\n",
      "fire 25\n",
      "But 26\n",
      "if 27\n",
      "it 28\n",
      "had 29\n",
      "to 30\n",
      "perish 31\n",
      "twice 32\n",
      "I 33\n",
      "think 34\n",
      "I 35\n",
      "know 36\n",
      "enough 37\n",
      "of 38\n",
      "hate 39\n",
      "To 40\n",
      "say 41\n",
      "that 42\n",
      "for 43\n",
      "destruction 44\n",
      "ice 45\n",
      "Is 46\n",
      "also 47\n",
      "great 48\n",
      "And 49\n",
      "would 50\n",
      "suffice 51\n"
     ]
    }
   ],
   "source": [
    "counter =0 \n",
    "for each_item in poem_list:\n",
    "    \n",
    "    if each_item in poem_list  :\n",
    "        counter= counter +1  \n",
    "        print(each_item, counter)\n",
    "          \n",
    "   "
   ]
  },
  {
   "cell_type": "code",
   "execution_count": 344,
   "metadata": {},
   "outputs": [],
   "source": [
    "poem_newlist= list(set(poem_list))"
   ]
  },
  {
   "cell_type": "code",
   "execution_count": 345,
   "metadata": {},
   "outputs": [],
   "source": [
    "dicionarionovo={}\n",
    "\n",
    "for each_item in poem_newlist:\n",
    "    counter= poem_list.count(each_item)\n",
    "    dicionarionovo[each_item]=counter    "
   ]
  },
  {
   "cell_type": "code",
   "execution_count": 346,
   "metadata": {},
   "outputs": [
    {
     "name": "stdout",
     "output_type": "stream",
     "text": [
      "{'hate': 1, 'To': 1, 'Some': 2, 'Is': 1, 'would': 1, 'ice': 2, 'desire': 1, 'that': 1, 'And': 1, 'for': 1, 'perish': 1, 'From': 1, 'suffice': 1, 'hold': 1, 'the': 1, 'to': 1, 'end': 1, 'enough': 1, 'destruction': 1, 'in': 2, 'those': 1, 'great': 1, 'who': 1, 'tasted': 1, 'world': 1, 'think': 1, 'will': 1, 'twice': 1, 'say': 3, 'I': 3, 'fire': 2, 'it': 1, 'what': 1, 'But': 1, 'also': 1, 'favor': 1, 'with': 1, 'if': 1, 'know': 1, 'I’ve': 1, 'of': 2, 'had': 1}\n"
     ]
    }
   ],
   "source": [
    "print(dicionarionovo)"
   ]
  },
  {
   "cell_type": "code",
   "execution_count": null,
   "metadata": {},
   "outputs": [],
   "source": []
  },
  {
   "cell_type": "code",
   "execution_count": null,
   "metadata": {},
   "outputs": [],
   "source": []
  },
  {
   "cell_type": "markdown",
   "metadata": {},
   "source": [
    "In the cell below, find all the words that appear in the text and do not appear in the blacklist. You must parse the string but can choose any data structure you wish for the words that do not appear in the blacklist. Remove all non letter characters and convert all words to lower case."
   ]
  },
  {
   "cell_type": "code",
   "execution_count": null,
   "metadata": {},
   "outputs": [],
   "source": []
  },
  {
   "cell_type": "code",
   "execution_count": 347,
   "metadata": {},
   "outputs": [
    {
     "name": "stdout",
     "output_type": "stream",
     "text": [
      "['I', 'was', 'angry', 'with', 'my', 'friend', 'I', 'told', 'my', 'wrath', 'my', 'wrath', 'did', 'end', 'I', 'was', 'angry', 'with', 'my', 'foe', 'I', 'told', 'it', 'not', 'my', 'wrath', 'did', 'grow', 'And', 'I', 'waterd', 'it', 'in', 'fears', 'Night', 'morning', 'with', 'my', 'tears', 'And', 'I', 'sunned', 'it', 'with', 'smiles', 'And', 'with', 'soft', 'deceitful', 'wiles', 'And', 'it', 'grew', 'both', 'day', 'and', 'night', 'Till', 'it', 'bore', 'an', 'apple', 'bright', 'And', 'my', 'foe', 'beheld', 'it', 'shine', 'And', 'he', 'knew', 'that', 'it', 'was', 'mine', 'And', 'into', 'my', 'garden', 'stole', 'When', 'the', 'night', 'had', 'veild', 'the', 'pole', 'In', 'the', 'morning', 'glad', 'I', 'see', 'My', 'foe', 'outstretched', 'beneath', 'the', 'tree']\n"
     ]
    }
   ],
   "source": [
    "blacklist = ['and', 'as', 'an', 'a', 'the', 'in', 'it']\n",
    "\n",
    "poem = \"\"\"I was angry with my friend; \n",
    "I told my wrath, my wrath did end.\n",
    "I was angry with my foe: \n",
    "I told it not, my wrath did grow. \n",
    "\n",
    "And I waterd it in fears,\n",
    "Night & morning with my tears: \n",
    "And I sunned it with smiles,\n",
    "And with soft deceitful wiles. \n",
    "\n",
    "And it grew both day and night. \n",
    "Till it bore an apple bright. \n",
    "And my foe beheld it shine,\n",
    "And he knew that it was mine. \n",
    "\n",
    "And into my garden stole, \n",
    "When the night had veild the pole; \n",
    "In the morning glad I see; \n",
    "My foe outstretched beneath the tree.\"\"\"\n",
    "\n",
    "# Your code here:\n",
    "\n",
    "\n",
    "poem_list= re.split('[,.\\n;&: ]', poem)\n",
    "while \"\" in poem_list:\n",
    "    poem_list.remove(\"\")\n",
    "    \n",
    "print(poem_list)"
   ]
  },
  {
   "cell_type": "code",
   "execution_count": 348,
   "metadata": {},
   "outputs": [
    {
     "name": "stdout",
     "output_type": "stream",
     "text": [
      "{'waterd', 'veild', 'fears', 'and', 'sunned', 'both', 'morning', 'garden', 'outstretched', 'wiles', 'did', 'into', 'bore', 'he', 'bright', 'And', 'that', 'When', 'In', 'foe', 'was', 'grow', 'Night', 'deceitful', 'the', 'glad', 'end', 'tree', 'beneath', 'in', 'friend', 'My', 'told', 'tears', 'angry', 'night', 'knew', 'see', 'I', 'wrath', 'an', 'beheld', 'stole', 'it', 'grew', 'soft', 'pole', 'with', 'Till', 'not', 'smiles', 'my', 'shine', 'mine', 'day', 'apple', 'had'}\n"
     ]
    }
   ],
   "source": [
    "poem_set= set(poem_list)\n",
    "print(poem_set)\n",
    "blacklist_set= set(blacklist)"
   ]
  },
  {
   "cell_type": "code",
   "execution_count": 349,
   "metadata": {},
   "outputs": [],
   "source": [
    "result = poem_set - blacklist_set\n",
    "\n"
   ]
  },
  {
   "cell_type": "code",
   "execution_count": 350,
   "metadata": {},
   "outputs": [
    {
     "name": "stdout",
     "output_type": "stream",
     "text": [
      "{'waterd', 'veild', 'fears', 'sunned', 'both', 'morning', 'garden', 'outstretched', 'wiles', 'did', 'into', 'bore', 'he', 'bright', 'And', 'that', 'When', 'In', 'foe', 'was', 'grow', 'Night', 'deceitful', 'glad', 'end', 'tree', 'beneath', 'friend', 'My', 'told', 'tears', 'angry', 'night', 'knew', 'see', 'I', 'wrath', 'beheld', 'stole', 'grew', 'soft', 'pole', 'with', 'Till', 'not', 'smiles', 'my', 'shine', 'mine', 'day', 'apple', 'had'}\n"
     ]
    }
   ],
   "source": [
    "print(result)"
   ]
  },
  {
   "cell_type": "code",
   "execution_count": null,
   "metadata": {},
   "outputs": [],
   "source": []
  },
  {
   "cell_type": "markdown",
   "metadata": {},
   "source": [
    "# Challenge 3 - Regular Expressions\n",
    "\n",
    "Sometimes, we would like to perform more complex manipulations of our string. This is where regular expressions come in handy. In the cell below, return all characters that are upper case from the string specified below."
   ]
  },
  {
   "cell_type": "code",
   "execution_count": 351,
   "metadata": {},
   "outputs": [
    {
     "data": {
      "text/plain": [
       "['T', 'P']"
      ]
     },
     "execution_count": 351,
     "metadata": {},
     "output_type": "execute_result"
    }
   ],
   "source": [
    "poem = \"\"\"The apparition of these faces in the crowd;\n",
    "Petals on a wet, black bough.\"\"\"\n",
    "\n",
    "\n",
    "# Your code here:\n",
    "re.findall(\"[A-Z]\", poem)\n"
   ]
  },
  {
   "cell_type": "markdown",
   "metadata": {},
   "source": [
    "In the cell below, filter the list provided and return all elements of the list containing a number. To filter the list, use the `re.search` function. Check if the function does not return `None`. You can read more about the `re.search` function [here](https://docs.python.org/3/library/re.html)."
   ]
  },
  {
   "cell_type": "code",
   "execution_count": 365,
   "metadata": {},
   "outputs": [
    {
     "name": "stdout",
     "output_type": "stream",
     "text": [
      "123abc abc123 JohnSmith1 ABBY4 JANE\n"
     ]
    },
    {
     "data": {
      "text/plain": [
       "<re.Match object; span=(0, 3), match='123'>"
      ]
     },
     "execution_count": 365,
     "metadata": {},
     "output_type": "execute_result"
    }
   ],
   "source": [
    "data = ['123abc', 'abc123', 'JohnSmith1', 'ABBY4', 'JANE']\n",
    "\n",
    "# Your code here:\n",
    "new_data= \" \".join(data)\n",
    "print(new_data)\n",
    "\n",
    "re.findall(\"[A-Z]\", poem)\n",
    "re.search(\"^\\d*$*\", new_data)\n",
    "\n"
   ]
  },
  {
   "cell_type": "code",
   "execution_count": 371,
   "metadata": {},
   "outputs": [
    {
     "data": {
      "text/plain": [
       "['123', '123']"
      ]
     },
     "execution_count": 371,
     "metadata": {},
     "output_type": "execute_result"
    }
   ],
   "source": [
    "re.findall(\"\\d\\d\\d\", new_data)"
   ]
  },
  {
   "cell_type": "markdown",
   "metadata": {},
   "source": [
    "# Bonus Challenge - Regular Expressions II\n",
    "\n",
    "In the cell below, filter the list provided to keep only strings containing at least one digit and at least one lower case letter. As in the previous question, use the `re.search` function and check that the result is not `None`.\n",
    "\n",
    "To read more about regular expressions, check out [this link](https://developers.google.com/edu/python/regular-expressions)."
   ]
  },
  {
   "cell_type": "code",
   "execution_count": null,
   "metadata": {},
   "outputs": [],
   "source": [
    "data = ['123abc', 'abc123', 'JohnSmith1', 'ABBY4', 'JANE']\n",
    "# Your code here:\n"
   ]
  },
  {
   "cell_type": "code",
   "execution_count": null,
   "metadata": {},
   "outputs": [],
   "source": []
  },
  {
   "cell_type": "code",
   "execution_count": null,
   "metadata": {},
   "outputs": [],
   "source": []
  }
 ],
 "metadata": {
  "kernelspec": {
   "display_name": "Python 3",
   "language": "python",
   "name": "python3"
  },
  "language_info": {
   "codemirror_mode": {
    "name": "ipython",
    "version": 3
   },
   "file_extension": ".py",
   "mimetype": "text/x-python",
   "name": "python",
   "nbconvert_exporter": "python",
   "pygments_lexer": "ipython3",
   "version": "3.7.6"
  }
 },
 "nbformat": 4,
 "nbformat_minor": 2
}
