{
 "cells": [
  {
   "cell_type": "markdown",
   "metadata": {},
   "source": [
    "# Review"
   ]
  },
  {
   "cell_type": "markdown",
   "metadata": {},
   "source": [
    "- Dicts\n",
    "- Sets\n",
    "- Tuples "
   ]
  },
  {
   "cell_type": "markdown",
   "metadata": {},
   "source": [
    "- Strings"
   ]
  },
  {
   "cell_type": "code",
   "execution_count": null,
   "metadata": {
    "ExecuteTime": {
     "end_time": "2020-06-03T12:31:50.501587Z",
     "start_time": "2020-06-03T12:31:50.498595Z"
    }
   },
   "outputs": [],
   "source": [
    "my_string = 'Andre Park and Andre Aguiar are part of Ironhack'"
   ]
  },
  {
   "cell_type": "code",
   "execution_count": null,
   "metadata": {
    "ExecuteTime": {
     "end_time": "2020-07-15T22:30:13.039807Z",
     "start_time": "2020-07-15T22:30:13.030830Z"
    }
   },
   "outputs": [],
   "source": [
    "my_string.replace('Andre', 'Joao')"
   ]
  },
  {
   "cell_type": "markdown",
   "metadata": {},
   "source": [
    "# REGular EXpression - INTRO TO REGEX"
   ]
  },
  {
   "cell_type": "code",
   "execution_count": null,
   "metadata": {
    "ExecuteTime": {
     "end_time": "2020-06-03T12:35:16.141547Z",
     "start_time": "2020-06-03T12:35:16.138555Z"
    }
   },
   "outputs": [],
   "source": [
    "import re"
   ]
  },
  {
   "cell_type": "markdown",
   "metadata": {},
   "source": [
    "1. `re.search`: Returns the first instance of an expression in a string.\n",
    "2. `re.findall`: Finds all instances of an expression in a string and returns them as a list.\n",
    "3. `re.split`: Splits a string based on a specified delimiter.\n",
    "4. `re.sub`: Substitutes a string/substring with another."
   ]
  },
  {
   "cell_type": "markdown",
   "metadata": {},
   "source": [
    "Website to visually see what your regular expressions look like: https://regexper.com/"
   ]
  },
  {
   "cell_type": "code",
   "execution_count": null,
   "metadata": {
    "ExecuteTime": {
     "end_time": "2020-06-03T12:39:31.939052Z",
     "start_time": "2020-06-03T12:39:31.934038Z"
    }
   },
   "outputs": [],
   "source": [
    "text = 'My neighbor, Mr. Rogers, has 5 dogs.'\n",
    "pattern = 'neigh'\n",
    "\n",
    "re.findall(pattern, text)"
   ]
  },
  {
   "cell_type": "code",
   "execution_count": null,
   "metadata": {
    "ExecuteTime": {
     "end_time": "2020-06-03T12:40:40.371344Z",
     "start_time": "2020-06-03T12:40:40.367385Z"
    }
   },
   "outputs": [],
   "source": [
    "text = 'My neighbor, Mr. neighrogers, has 5 dogs.'\n",
    "pattern = 'neigh'\n",
    "\n",
    "re.findall(pattern, text)"
   ]
  },
  {
   "cell_type": "code",
   "execution_count": null,
   "metadata": {
    "ExecuteTime": {
     "end_time": "2020-06-03T12:40:03.296990Z",
     "start_time": "2020-06-03T12:40:03.293000Z"
    }
   },
   "outputs": [],
   "source": [
    "text = 'My , Mr. Rogers, has 5 dogs.'\n",
    "pattern = 'neigh'\n",
    "\n",
    "re.findall(pattern, text)"
   ]
  },
  {
   "cell_type": "markdown",
   "metadata": {},
   "source": [
    "## Introducing Sets"
   ]
  },
  {
   "cell_type": "code",
   "execution_count": null,
   "metadata": {
    "ExecuteTime": {
     "end_time": "2020-06-03T12:42:43.348604Z",
     "start_time": "2020-06-03T12:42:43.345584Z"
    }
   },
   "outputs": [],
   "source": [
    "text = 'My neighbor, Mr. Rogers, has 5 dogs.'\n",
    "pattern = '[neigh]'\n",
    "\n",
    "re.findall(pattern, text)"
   ]
  },
  {
   "cell_type": "code",
   "execution_count": null,
   "metadata": {
    "ExecuteTime": {
     "end_time": "2020-06-03T13:05:25.593447Z",
     "start_time": "2020-06-03T13:05:25.588739Z"
    }
   },
   "outputs": [],
   "source": [
    "text = 'My neighbor, Mr. Rogers, has 5 rogers.'\n",
    "pattern = '[Rr]ogers'\n",
    "# pattern = rogers ou Rogers ou xogers\n",
    "\n",
    "re.findall(pattern, text)"
   ]
  },
  {
   "cell_type": "code",
   "execution_count": null,
   "metadata": {
    "ExecuteTime": {
     "end_time": "2020-06-03T12:58:34.248259Z",
     "start_time": "2020-06-03T12:58:34.243272Z"
    }
   },
   "outputs": [],
   "source": [
    "text = 'Sáo Paulo São Paulo Sao Paulo Sao Paolo San Pablo sao paulo sao Paulo são Paulo sao-paulo são paulo São SãoPaulo'\n",
    "\n",
    "pattern = ''\n",
    "\n",
    "re.findall(pattern, text)"
   ]
  },
  {
   "cell_type": "code",
   "execution_count": null,
   "metadata": {
    "ExecuteTime": {
     "end_time": "2020-06-03T12:58:34.573436Z",
     "start_time": "2020-06-03T12:58:34.569447Z"
    }
   },
   "outputs": [],
   "source": [
    "re.sub(pattern, 'São Paulo', text)"
   ]
  },
  {
   "cell_type": "markdown",
   "metadata": {},
   "source": [
    "# Patterns sets:\n",
    "\n",
    "1. [a-z]: Any lowercase letter between a and z.\n",
    "2. [A-Z]: Any uppercase letter between A and Z.\n",
    "3. [0-9]: Any numeric character between 0 and 9."
   ]
  },
  {
   "cell_type": "code",
   "execution_count": null,
   "metadata": {
    "ExecuteTime": {
     "end_time": "2020-06-03T12:59:12.257264Z",
     "start_time": "2020-06-03T12:59:12.252278Z"
    },
    "scrolled": true
   },
   "outputs": [],
   "source": [
    "text = 'My neighbor, Mr. Rogers, has 5 rogers.'\n",
    "pattern = '[a-e]'\n",
    "re.findall(pattern, text)"
   ]
  },
  {
   "cell_type": "code",
   "execution_count": null,
   "metadata": {
    "ExecuteTime": {
     "end_time": "2020-06-03T12:59:22.310485Z",
     "start_time": "2020-06-03T12:59:22.305470Z"
    }
   },
   "outputs": [],
   "source": [
    "re.findall('[A-Z]', text)"
   ]
  },
  {
   "cell_type": "code",
   "execution_count": null,
   "metadata": {
    "ExecuteTime": {
     "end_time": "2020-06-03T13:02:09.714081Z",
     "start_time": "2020-06-03T13:02:09.709093Z"
    }
   },
   "outputs": [],
   "source": [
    "re.findall('[efghijklmno]', text)"
   ]
  },
  {
   "cell_type": "code",
   "execution_count": null,
   "metadata": {},
   "outputs": [],
   "source": [
    "re.findall('[e-o]', text)"
   ]
  },
  {
   "cell_type": "code",
   "execution_count": null,
   "metadata": {
    "ExecuteTime": {
     "end_time": "2020-06-03T13:00:03.350729Z",
     "start_time": "2020-06-03T13:00:03.345741Z"
    }
   },
   "outputs": [],
   "source": [
    "re.findall('[0-9]', text)"
   ]
  },
  {
   "cell_type": "code",
   "execution_count": null,
   "metadata": {
    "ExecuteTime": {
     "end_time": "2020-06-03T13:00:27.764160Z",
     "start_time": "2020-06-03T13:00:27.759145Z"
    },
    "scrolled": true
   },
   "outputs": [],
   "source": [
    "re.findall('[A-Za-z0-9]', text)"
   ]
  },
  {
   "cell_type": "code",
   "execution_count": null,
   "metadata": {
    "ExecuteTime": {
     "end_time": "2020-06-03T13:00:35.246743Z",
     "start_time": "2020-06-03T13:00:35.242791Z"
    }
   },
   "outputs": [],
   "source": [
    "re.findall('[A-Z0-9]', text)"
   ]
  },
  {
   "cell_type": "markdown",
   "metadata": {},
   "source": [
    "The opposite: \n",
    "- `^` matches everything except the pattern "
   ]
  },
  {
   "cell_type": "code",
   "execution_count": null,
   "metadata": {
    "ExecuteTime": {
     "end_time": "2020-06-03T13:08:36.567431Z",
     "start_time": "2020-06-03T13:08:36.562444Z"
    }
   },
   "outputs": [],
   "source": [
    "pattern = '[^a-z]'\n",
    "re.findall(pattern, text)"
   ]
  },
  {
   "cell_type": "code",
   "execution_count": null,
   "metadata": {
    "ExecuteTime": {
     "end_time": "2020-06-03T13:11:30.241331Z",
     "start_time": "2020-06-03T13:11:30.236315Z"
    }
   },
   "outputs": [],
   "source": [
    "# concat patterns [] \n",
    "# space character == \\s\n",
    "pattern = '[^a-zA-Z0-9\\s]'\n",
    "pattern = '[^a-zA-Z0-9 ]'\n",
    "re.findall(pattern, text)\n"
   ]
  },
  {
   "cell_type": "code",
   "execution_count": null,
   "metadata": {
    "ExecuteTime": {
     "end_time": "2020-06-03T13:10:42.428758Z",
     "start_time": "2020-06-03T13:10:42.424769Z"
    }
   },
   "outputs": [],
   "source": [
    "re.findall('[ ]', text)"
   ]
  },
  {
   "cell_type": "code",
   "execution_count": null,
   "metadata": {
    "ExecuteTime": {
     "end_time": "2020-06-03T13:10:42.770891Z",
     "start_time": "2020-06-03T13:10:42.766902Z"
    }
   },
   "outputs": [],
   "source": [
    "re.findall('[\\s]', text)"
   ]
  },
  {
   "cell_type": "markdown",
   "metadata": {},
   "source": [
    "# Meta Characters:\n",
    "\n",
    "Characters that don't mean what they are.\n",
    "\n",
    "1. `\\w`: Any alphanumeric character.\n",
    "3. `\\d`: Any numeric character.\n",
    "7. `.` : Any character except newline (\\n)."
   ]
  },
  {
   "cell_type": "code",
   "execution_count": null,
   "metadata": {
    "ExecuteTime": {
     "end_time": "2020-06-03T13:12:08.313809Z",
     "start_time": "2020-06-03T13:12:08.310847Z"
    }
   },
   "outputs": [],
   "source": [
    "text = 'My neighbor, Mr. Rogers, ] has 5 - dogs 10.'\n"
   ]
  },
  {
   "cell_type": "code",
   "execution_count": null,
   "metadata": {
    "ExecuteTime": {
     "end_time": "2020-06-03T13:13:00.119466Z",
     "start_time": "2020-06-03T13:13:00.116474Z"
    },
    "scrolled": true
   },
   "outputs": [],
   "source": [
    "print(re.findall('\\w', text))"
   ]
  },
  {
   "cell_type": "code",
   "execution_count": null,
   "metadata": {
    "ExecuteTime": {
     "end_time": "2020-06-03T13:12:55.852348Z",
     "start_time": "2020-06-03T13:12:55.848358Z"
    }
   },
   "outputs": [],
   "source": [
    "print(re.findall('\\d', text))\n"
   ]
  },
  {
   "cell_type": "code",
   "execution_count": null,
   "metadata": {
    "ExecuteTime": {
     "end_time": "2020-06-03T13:13:40.460976Z",
     "start_time": "2020-06-03T13:13:40.456988Z"
    }
   },
   "outputs": [],
   "source": [
    "print(re.findall('.', text))"
   ]
  },
  {
   "cell_type": "code",
   "execution_count": null,
   "metadata": {},
   "outputs": [],
   "source": []
  },
  {
   "cell_type": "markdown",
   "metadata": {},
   "source": [
    "## Quantifiers"
   ]
  },
  {
   "cell_type": "markdown",
   "metadata": {},
   "source": [
    "1. `*`: 0 or more\n",
    "2. `?`: 0 or 1\n",
    "3. `+`: 1 or more"
   ]
  },
  {
   "cell_type": "code",
   "execution_count": null,
   "metadata": {
    "ExecuteTime": {
     "end_time": "2020-06-03T13:57:05.856716Z",
     "start_time": "2020-06-03T13:57:05.852727Z"
    }
   },
   "outputs": [],
   "source": [
    "text = '''My neighbor, Mr. Rogers, has 5 - dogs and 100 cats and β sheeps.'''"
   ]
  },
  {
   "cell_type": "code",
   "execution_count": null,
   "metadata": {
    "ExecuteTime": {
     "end_time": "2020-06-03T13:57:26.023432Z",
     "start_time": "2020-06-03T13:57:26.019467Z"
    }
   },
   "outputs": [],
   "source": [
    "print(re.findall('- .*', text))"
   ]
  },
  {
   "cell_type": "code",
   "execution_count": null,
   "metadata": {
    "ExecuteTime": {
     "end_time": "2020-06-03T13:19:56.379179Z",
     "start_time": "2020-06-03T13:19:56.375189Z"
    },
    "scrolled": true
   },
   "outputs": [],
   "source": [
    "print(re.findall('\\d*', text))"
   ]
  },
  {
   "cell_type": "code",
   "execution_count": null,
   "metadata": {
    "ExecuteTime": {
     "end_time": "2020-06-03T13:19:57.225478Z",
     "start_time": "2020-06-03T13:19:57.222457Z"
    }
   },
   "outputs": [],
   "source": [
    "re.findall('\\d+', text)"
   ]
  },
  {
   "cell_type": "code",
   "execution_count": null,
   "metadata": {
    "ExecuteTime": {
     "end_time": "2020-06-03T13:20:05.042760Z",
     "start_time": "2020-06-03T13:20:05.039768Z"
    }
   },
   "outputs": [],
   "source": [
    "print(re.findall('\\w+', text))"
   ]
  },
  {
   "cell_type": "code",
   "execution_count": null,
   "metadata": {
    "ExecuteTime": {
     "end_time": "2020-06-03T13:21:54.866895Z",
     "start_time": "2020-06-03T13:21:54.861882Z"
    }
   },
   "outputs": [],
   "source": [
    "text = 'Sáo Paulo São Paulo Sao Paulo Sao Paolo San Pablo sao paulo sao Paulo são Paulo sao-paulo são paulo São SãoPaulo'\n",
    "\n",
    "pattern = '[Ss][ãaáàâä][on] ?[Pp]a[buo]lo'\n",
    "\n",
    "re.findall(pattern, text)"
   ]
  },
  {
   "cell_type": "code",
   "execution_count": null,
   "metadata": {
    "ExecuteTime": {
     "end_time": "2020-06-03T13:23:58.774420Z",
     "start_time": "2020-06-03T13:23:58.769432Z"
    }
   },
   "outputs": [],
   "source": [
    "text = 'This colonel has the colour or color blue'\n",
    "\n",
    "re.findall('colou?r', text)"
   ]
  },
  {
   "cell_type": "code",
   "execution_count": null,
   "metadata": {
    "ExecuteTime": {
     "end_time": "2020-06-03T13:26:11.925912Z",
     "start_time": "2020-06-03T13:26:11.920927Z"
    }
   },
   "outputs": [],
   "source": [
    "text = 'These apples are beautiful and the apple is blue.'\n",
    "\n",
    "re.findall('apples?', text)"
   ]
  },
  {
   "cell_type": "code",
   "execution_count": null,
   "metadata": {
    "ExecuteTime": {
     "end_time": "2020-06-03T13:28:31.138986Z",
     "start_time": "2020-06-03T13:28:31.134000Z"
    }
   },
   "outputs": [],
   "source": [
    "text = 'Andre Aguiar and Andre Park are from the Ironhack team'\n",
    "\n",
    "re.findall('\\w+ Aguiar', text)"
   ]
  },
  {
   "cell_type": "code",
   "execution_count": null,
   "metadata": {
    "ExecuteTime": {
     "end_time": "2020-06-03T13:29:12.343113Z",
     "start_time": "2020-06-03T13:29:12.339124Z"
    }
   },
   "outputs": [],
   "source": [
    "re.sub('\\w+ Park', 'Joao Park', text)"
   ]
  },
  {
   "cell_type": "markdown",
   "metadata": {},
   "source": [
    "# Other methods for regular expressions"
   ]
  },
  {
   "cell_type": "code",
   "execution_count": null,
   "metadata": {
    "ExecuteTime": {
     "end_time": "2020-06-03T13:30:04.802378Z",
     "start_time": "2020-06-03T13:30:04.798389Z"
    }
   },
   "outputs": [],
   "source": [
    "text = 'My neighbor, Mr. Rogers, ] has 5 - rogers 1000,'"
   ]
  },
  {
   "cell_type": "code",
   "execution_count": null,
   "metadata": {
    "ExecuteTime": {
     "end_time": "2020-06-03T13:29:36.890946Z",
     "start_time": "2020-06-03T13:29:36.886957Z"
    }
   },
   "outputs": [],
   "source": [
    "re.sub('[Rr]ogers','Andre', text)"
   ]
  },
  {
   "cell_type": "code",
   "execution_count": null,
   "metadata": {
    "ExecuteTime": {
     "end_time": "2020-06-03T13:29:56.313386Z",
     "start_time": "2020-06-03T13:29:56.309395Z"
    }
   },
   "outputs": [],
   "source": [
    "re.sub('\\d+','-1', text)"
   ]
  },
  {
   "cell_type": "code",
   "execution_count": null,
   "metadata": {
    "ExecuteTime": {
     "end_time": "2020-06-03T13:30:06.459655Z",
     "start_time": "2020-06-03T13:30:06.455665Z"
    }
   },
   "outputs": [],
   "source": [
    "text.split('Rogers')"
   ]
  },
  {
   "cell_type": "code",
   "execution_count": null,
   "metadata": {
    "ExecuteTime": {
     "end_time": "2020-06-03T13:30:23.387999Z",
     "start_time": "2020-06-03T13:30:23.385008Z"
    }
   },
   "outputs": [],
   "source": [
    "print(re.split('[Rr]ogers', text))"
   ]
  },
  {
   "cell_type": "code",
   "execution_count": null,
   "metadata": {
    "ExecuteTime": {
     "end_time": "2020-06-03T13:30:42.198315Z",
     "start_time": "2020-06-03T13:30:42.195323Z"
    }
   },
   "outputs": [],
   "source": [
    "print(re.split('[0-9]+', text))"
   ]
  },
  {
   "cell_type": "markdown",
   "metadata": {},
   "source": [
    "# Examples"
   ]
  },
  {
   "cell_type": "markdown",
   "metadata": {},
   "source": [
    "Find the regexes that: \n",
    "1. Matches “Dan” and “Ban” (first letter can be \"D\" or \"B\").\n",
    "2. Matches “Dan”, “Ban”, “Tan”, and “Pan”.\n",
    "3. Matches “Dan” and “Dag” (last letter can be \"n\" or \"g\").\n",
    "4. Matches Dan followed by lower case \"and\"\n"
   ]
  },
  {
   "cell_type": "code",
   "execution_count": null,
   "metadata": {
    "ExecuteTime": {
     "end_time": "2020-06-03T13:31:16.986819Z",
     "start_time": "2020-06-03T13:31:16.984797Z"
    }
   },
   "outputs": [],
   "source": [
    "text = 'Dan and Ban and Tan Dah andSan And Dag wasodkpDanksdpofk i9as09riPan i 09wie'"
   ]
  },
  {
   "cell_type": "code",
   "execution_count": null,
   "metadata": {
    "ExecuteTime": {
     "end_time": "2020-06-03T13:31:40.407102Z",
     "start_time": "2020-06-03T13:31:40.402116Z"
    }
   },
   "outputs": [],
   "source": [
    "pattern = ''\n",
    "re.findall(pattern, text)"
   ]
  },
  {
   "cell_type": "code",
   "execution_count": null,
   "metadata": {
    "ExecuteTime": {
     "end_time": "2020-06-03T13:32:18.542443Z",
     "start_time": "2020-06-03T13:32:18.538454Z"
    }
   },
   "outputs": [],
   "source": [
    "pattern = ''\n",
    "re.findall(pattern, text)"
   ]
  },
  {
   "cell_type": "code",
   "execution_count": null,
   "metadata": {
    "ExecuteTime": {
     "end_time": "2020-06-03T13:32:19.256214Z",
     "start_time": "2020-06-03T13:32:19.252252Z"
    }
   },
   "outputs": [],
   "source": [
    "pattern = ''\n",
    "re.findall(pattern, text)"
   ]
  },
  {
   "cell_type": "code",
   "execution_count": null,
   "metadata": {
    "ExecuteTime": {
     "end_time": "2020-06-03T13:32:51.814033Z",
     "start_time": "2020-06-03T13:32:51.810044Z"
    },
    "scrolled": true
   },
   "outputs": [],
   "source": [
    "pattern = ''\n",
    "print(re.findall(pattern, text))"
   ]
  },
  {
   "cell_type": "code",
   "execution_count": null,
   "metadata": {
    "ExecuteTime": {
     "end_time": "2020-06-03T13:33:06.622157Z",
     "start_time": "2020-06-03T13:33:06.618168Z"
    }
   },
   "outputs": [],
   "source": [
    "pattern = ''\n",
    "print(re.findall(pattern, text))"
   ]
  }
 ],
 "metadata": {
  "kernelspec": {
   "display_name": "Python 3",
   "language": "python",
   "name": "python3"
  },
  "language_info": {
   "codemirror_mode": {
    "name": "ipython",
    "version": 3
   },
   "file_extension": ".py",
   "mimetype": "text/x-python",
   "name": "python",
   "nbconvert_exporter": "python",
   "pygments_lexer": "ipython3",
   "version": "3.7.3"
  },
  "toc": {
   "base_numbering": 1,
   "nav_menu": {},
   "number_sections": true,
   "sideBar": true,
   "skip_h1_title": false,
   "title_cell": "Table of Contents",
   "title_sidebar": "Contents",
   "toc_cell": false,
   "toc_position": {},
   "toc_section_display": true,
   "toc_window_display": false
  }
 },
 "nbformat": 4,
 "nbformat_minor": 2
}
