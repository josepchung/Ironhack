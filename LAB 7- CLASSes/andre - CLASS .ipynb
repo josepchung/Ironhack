{
 "cells": [
  {
   "cell_type": "markdown",
   "metadata": {},
   "source": [
    "# Imperative paradigm"
   ]
  },
  {
   "cell_type": "code",
   "execution_count": 36,
   "metadata": {
    "ExecuteTime": {
     "end_time": "2020-07-24T00:06:23.625263Z",
     "start_time": "2020-07-24T00:06:23.623264Z"
    }
   },
   "outputs": [],
   "source": [
    "def accelerate(car, speed):\n",
    "    \"\"\"Function that accelerates the car\"\"\"\n",
    "    ..."
   ]
  },
  {
   "cell_type": "code",
   "execution_count": null,
   "metadata": {},
   "outputs": [],
   "source": [
    "car.accelerate(speed)"
   ]
  },
  {
   "cell_type": "code",
   "execution_count": null,
   "metadata": {},
   "outputs": [],
   "source": []
  },
  {
   "cell_type": "code",
   "execution_count": null,
   "metadata": {},
   "outputs": [],
   "source": []
  },
  {
   "cell_type": "code",
   "execution_count": 37,
   "metadata": {
    "ExecuteTime": {
     "end_time": "2020-07-24T00:21:59.410848Z",
     "start_time": "2020-07-24T00:21:59.404847Z"
    }
   },
   "outputs": [
    {
     "data": {
      "text/plain": [
       "4"
      ]
     },
     "execution_count": 37,
     "metadata": {},
     "output_type": "execute_result"
    }
   ],
   "source": [
    "example_list = [1, 2, 3, 3, 2, 1, 3, 4, 3]\n",
    "\n",
    "def count(my_list, number):\n",
    "    \"\"\"\n",
    "    Count how many times `number` appears in my_list\n",
    "    \"\"\"\n",
    "    counter = 0\n",
    "    \n",
    "    for x in my_list:\n",
    "        if x == number:\n",
    "            counter += 1    \n",
    "    \n",
    "    return counter\n",
    "\n",
    "count(example_list, 3)"
   ]
  },
  {
   "cell_type": "code",
   "execution_count": 38,
   "metadata": {
    "ExecuteTime": {
     "end_time": "2020-07-24T00:23:38.447849Z",
     "start_time": "2020-07-24T00:23:38.442848Z"
    }
   },
   "outputs": [
    {
     "data": {
      "text/plain": [
       "4"
      ]
     },
     "execution_count": 38,
     "metadata": {},
     "output_type": "execute_result"
    }
   ],
   "source": [
    "example_list.count(3)"
   ]
  },
  {
   "cell_type": "markdown",
   "metadata": {},
   "source": [
    "# Object-Oriented Class"
   ]
  },
  {
   "cell_type": "markdown",
   "metadata": {},
   "source": [
    "Introduction to object-oriented computer paradigm"
   ]
  },
  {
   "cell_type": "markdown",
   "metadata": {},
   "source": [
    "## Classes"
   ]
  },
  {
   "cell_type": "markdown",
   "metadata": {},
   "source": [
    "### What is a class"
   ]
  },
  {
   "cell_type": "markdown",
   "metadata": {},
   "source": [
    "> A data structure to gather together both data and functions. Inside of classes, functions are called `methods` and data information is called `attribute`."
   ]
  },
  {
   "cell_type": "markdown",
   "metadata": {},
   "source": [
    "### Creating a simple class"
   ]
  },
  {
   "cell_type": "code",
   "execution_count": 6,
   "metadata": {
    "ExecuteTime": {
     "end_time": "2020-06-04T17:37:11.637313Z",
     "start_time": "2020-06-04T17:37:11.634295Z"
    }
   },
   "outputs": [],
   "source": [
    "# function definition: \n",
    "def nome_da_funcao():\n",
    "    x = 2\n",
    "    \n",
    "    return x\n",
    "\n",
    "# snake_case"
   ]
  },
  {
   "cell_type": "code",
   "execution_count": 7,
   "metadata": {
    "ExecuteTime": {
     "end_time": "2020-06-04T17:38:09.894025Z",
     "start_time": "2020-06-04T17:38:09.891061Z"
    }
   },
   "outputs": [],
   "source": [
    "class NomeDaClasse:\n",
    "    ...\n",
    "\n",
    "# pascal case"
   ]
  },
  {
   "cell_type": "code",
   "execution_count": 42,
   "metadata": {
    "ExecuteTime": {
     "end_time": "2020-07-24T00:33:19.802586Z",
     "start_time": "2020-07-24T00:33:19.800587Z"
    }
   },
   "outputs": [
    {
     "name": "stdout",
     "output_type": "stream",
     "text": [
      "Criando uma pessoa\n"
     ]
    }
   ],
   "source": [
    "class Person:\n",
    "    print('Criando uma pessoa')"
   ]
  },
  {
   "cell_type": "code",
   "execution_count": 43,
   "metadata": {
    "ExecuteTime": {
     "end_time": "2020-07-24T00:33:32.893588Z",
     "start_time": "2020-07-24T00:33:32.890588Z"
    }
   },
   "outputs": [
    {
     "data": {
      "text/plain": [
       "__main__.Person"
      ]
     },
     "execution_count": 43,
     "metadata": {},
     "output_type": "execute_result"
    }
   ],
   "source": [
    "Person"
   ]
  },
  {
   "cell_type": "markdown",
   "metadata": {},
   "source": [
    "## Attributes\n",
    "\n",
    "Atributos são como características de uma classe. São como variáveis associadas à alguma classe"
   ]
  },
  {
   "cell_type": "code",
   "execution_count": 44,
   "metadata": {
    "ExecuteTime": {
     "end_time": "2020-07-24T00:37:15.740588Z",
     "start_time": "2020-07-24T00:37:15.736587Z"
    }
   },
   "outputs": [],
   "source": [
    "class Person:\n",
    "    \n",
    "    orgaos = ['rim','figado','pele','coracao']\n",
    "    cor_olhos = 'preto'\n",
    "    cabelo = False\n",
    "    hobbies = ['jogar video game', 'correr','ler livros']\n",
    "    nome = 'Andre'\n",
    "    altura = 175\n",
    "    \n",
    "    \n",
    "    "
   ]
  },
  {
   "cell_type": "markdown",
   "metadata": {},
   "source": [
    "`Person.<TAB>`"
   ]
  },
  {
   "cell_type": "code",
   "execution_count": 45,
   "metadata": {
    "ExecuteTime": {
     "end_time": "2020-07-24T00:37:25.696586Z",
     "start_time": "2020-07-24T00:37:25.692587Z"
    }
   },
   "outputs": [],
   "source": [
    "andre = Person"
   ]
  },
  {
   "cell_type": "code",
   "execution_count": 47,
   "metadata": {
    "ExecuteTime": {
     "end_time": "2020-07-24T00:38:01.310587Z",
     "start_time": "2020-07-24T00:38:01.307587Z"
    }
   },
   "outputs": [
    {
     "data": {
      "text/plain": [
       "['rim', 'figado', 'pele', 'coracao']"
      ]
     },
     "execution_count": 47,
     "metadata": {},
     "output_type": "execute_result"
    }
   ],
   "source": [
    "andre.orgaos"
   ]
  },
  {
   "cell_type": "markdown",
   "metadata": {},
   "source": [
    "## Methods\n",
    "\n",
    "Métodos são como funções. A diferença é que esta função é específica desta classe"
   ]
  },
  {
   "cell_type": "code",
   "execution_count": 66,
   "metadata": {
    "ExecuteTime": {
     "end_time": "2020-07-24T00:47:15.183127Z",
     "start_time": "2020-07-24T00:47:15.180127Z"
    }
   },
   "outputs": [],
   "source": [
    "class Person:\n",
    "    peso = 10\n",
    "    \n",
    "    def say_hi(frase):\n",
    "        print(frase)\n",
    "        \n",
    "    def dormir():\n",
    "        print('ZzzZzzzZ')\n",
    "        \n",
    "    def engordar(kg):\n",
    "        Person.peso = Person.peso + kg\n",
    "        \n",
    "        "
   ]
  },
  {
   "cell_type": "code",
   "execution_count": 67,
   "metadata": {
    "ExecuteTime": {
     "end_time": "2020-07-24T00:47:17.397129Z",
     "start_time": "2020-07-24T00:47:17.395127Z"
    }
   },
   "outputs": [],
   "source": [
    "andre = Person"
   ]
  },
  {
   "cell_type": "code",
   "execution_count": 68,
   "metadata": {
    "ExecuteTime": {
     "end_time": "2020-07-24T00:47:17.725127Z",
     "start_time": "2020-07-24T00:47:17.722127Z"
    }
   },
   "outputs": [
    {
     "data": {
      "text/plain": [
       "10"
      ]
     },
     "execution_count": 68,
     "metadata": {},
     "output_type": "execute_result"
    }
   ],
   "source": [
    "andre.peso"
   ]
  },
  {
   "cell_type": "code",
   "execution_count": 69,
   "metadata": {
    "ExecuteTime": {
     "end_time": "2020-07-24T00:47:18.688127Z",
     "start_time": "2020-07-24T00:47:18.684129Z"
    }
   },
   "outputs": [],
   "source": [
    "andre.engordar(10)"
   ]
  },
  {
   "cell_type": "code",
   "execution_count": 70,
   "metadata": {
    "ExecuteTime": {
     "end_time": "2020-07-24T00:47:19.135128Z",
     "start_time": "2020-07-24T00:47:19.131127Z"
    }
   },
   "outputs": [
    {
     "data": {
      "text/plain": [
       "20"
      ]
     },
     "execution_count": 70,
     "metadata": {},
     "output_type": "execute_result"
    }
   ],
   "source": [
    "andre.peso"
   ]
  },
  {
   "cell_type": "markdown",
   "metadata": {},
   "source": [
    "`Person.<TAB>`"
   ]
  },
  {
   "cell_type": "code",
   "execution_count": 55,
   "metadata": {
    "ExecuteTime": {
     "end_time": "2020-07-24T00:43:15.463127Z",
     "start_time": "2020-07-24T00:43:15.460128Z"
    }
   },
   "outputs": [],
   "source": [
    "andre = Person"
   ]
  },
  {
   "cell_type": "code",
   "execution_count": 74,
   "metadata": {
    "ExecuteTime": {
     "end_time": "2020-07-24T00:49:15.810128Z",
     "start_time": "2020-07-24T00:49:15.807126Z"
    }
   },
   "outputs": [
    {
     "name": "stdout",
     "output_type": "stream",
     "text": [
      "ooooi\n"
     ]
    }
   ],
   "source": [
    "andre.say_hi('ooooi')"
   ]
  },
  {
   "cell_type": "code",
   "execution_count": 75,
   "metadata": {
    "ExecuteTime": {
     "end_time": "2020-07-24T00:49:21.654126Z",
     "start_time": "2020-07-24T00:49:21.651126Z"
    }
   },
   "outputs": [
    {
     "name": "stdout",
     "output_type": "stream",
     "text": [
      "3.1415\n"
     ]
    }
   ],
   "source": [
    "andre.say_hi(3.1415)"
   ]
  },
  {
   "cell_type": "code",
   "execution_count": 73,
   "metadata": {
    "ExecuteTime": {
     "end_time": "2020-07-24T00:48:19.222127Z",
     "start_time": "2020-07-24T00:48:19.219128Z"
    }
   },
   "outputs": [
    {
     "name": "stdout",
     "output_type": "stream",
     "text": [
      "[1, 'a', 'xx', 444]\n"
     ]
    }
   ],
   "source": [
    "andre.say_hi([1, 'a','xx', 444])"
   ]
  },
  {
   "cell_type": "code",
   "execution_count": 58,
   "metadata": {
    "ExecuteTime": {
     "end_time": "2020-06-04T17:52:27.360304Z",
     "start_time": "2020-06-04T17:52:27.354320Z"
    }
   },
   "outputs": [
    {
     "ename": "NameError",
     "evalue": "name 'say_hi' is not defined",
     "output_type": "error",
     "traceback": [
      "\u001b[1;31m---------------------------------------------------------------------------\u001b[0m",
      "\u001b[1;31mNameError\u001b[0m                                 Traceback (most recent call last)",
      "\u001b[1;32m<ipython-input-58-c55923c7eea5>\u001b[0m in \u001b[0;36m<module>\u001b[1;34m\u001b[0m\n\u001b[0;32m      1\u001b[0m \u001b[1;31m# say_hi only exists inside the Person\u001b[0m\u001b[1;33m\u001b[0m\u001b[1;33m\u001b[0m\u001b[1;33m\u001b[0m\u001b[0m\n\u001b[1;32m----> 2\u001b[1;33m \u001b[0msay_hi\u001b[0m\u001b[1;33m(\u001b[0m\u001b[1;33m)\u001b[0m\u001b[1;33m\u001b[0m\u001b[1;33m\u001b[0m\u001b[0m\n\u001b[0m",
      "\u001b[1;31mNameError\u001b[0m: name 'say_hi' is not defined"
     ]
    }
   ],
   "source": [
    "# say_hi only exists inside the Person\n",
    "say_hi()"
   ]
  },
  {
   "cell_type": "code",
   "execution_count": 60,
   "metadata": {
    "ExecuteTime": {
     "end_time": "2020-07-24T00:44:28.335128Z",
     "start_time": "2020-07-24T00:44:28.333126Z"
    }
   },
   "outputs": [],
   "source": [
    "# this is a different `say_hi`\n",
    "def say_hi():\n",
    "    print('Tchaaaau')"
   ]
  },
  {
   "cell_type": "code",
   "execution_count": 61,
   "metadata": {
    "ExecuteTime": {
     "end_time": "2020-07-24T00:44:29.595127Z",
     "start_time": "2020-07-24T00:44:29.592126Z"
    }
   },
   "outputs": [
    {
     "name": "stdout",
     "output_type": "stream",
     "text": [
      "Tchaaaau\n"
     ]
    }
   ],
   "source": [
    "say_hi()"
   ]
  },
  {
   "cell_type": "code",
   "execution_count": 62,
   "metadata": {
    "ExecuteTime": {
     "end_time": "2020-07-24T00:44:34.198127Z",
     "start_time": "2020-07-24T00:44:34.195126Z"
    }
   },
   "outputs": [
    {
     "name": "stdout",
     "output_type": "stream",
     "text": [
      "Oooooiiii\n"
     ]
    }
   ],
   "source": [
    "andre.say_hi()"
   ]
  },
  {
   "cell_type": "markdown",
   "metadata": {},
   "source": [
    "## A Class can have both attributes and methods"
   ]
  },
  {
   "cell_type": "code",
   "execution_count": 77,
   "metadata": {
    "ExecuteTime": {
     "end_time": "2020-07-24T00:53:51.811794Z",
     "start_time": "2020-07-24T00:53:51.806794Z"
    }
   },
   "outputs": [],
   "source": [
    "class Person:\n",
    "    orgaos = ['rim','figado','pele','coracao']\n",
    "    cor_olhos = 'preto'\n",
    "    cabelo = False\n",
    "    hobbies = ['jogar video game', 'correr', 'ler livros']\n",
    "    nome = 'Andre'\n",
    "    altura = 175\n",
    "    peso = 80\n",
    "    \n",
    "    def say_hi():\n",
    "        print('Oooooiiii') \n",
    "        \n",
    "    def engordar(kg):\n",
    "        Person.peso = Person.peso + kg\n",
    "        \n",
    "    def aprender_hobby(hobby):\n",
    "        Person.hobbies.append(hobby)"
   ]
  },
  {
   "cell_type": "markdown",
   "metadata": {},
   "source": [
    "`Person.<TAB>`"
   ]
  },
  {
   "cell_type": "code",
   "execution_count": 78,
   "metadata": {
    "ExecuteTime": {
     "end_time": "2020-07-24T00:53:55.805227Z",
     "start_time": "2020-07-24T00:53:55.802226Z"
    }
   },
   "outputs": [],
   "source": [
    "andre = Person"
   ]
  },
  {
   "cell_type": "code",
   "execution_count": 79,
   "metadata": {
    "ExecuteTime": {
     "end_time": "2020-07-24T00:54:00.585361Z",
     "start_time": "2020-07-24T00:54:00.581361Z"
    }
   },
   "outputs": [
    {
     "data": {
      "text/plain": [
       "['jogar video game', 'correr', 'ler livros']"
      ]
     },
     "execution_count": 79,
     "metadata": {},
     "output_type": "execute_result"
    }
   ],
   "source": [
    "andre.hobbies"
   ]
  },
  {
   "cell_type": "code",
   "execution_count": 80,
   "metadata": {
    "ExecuteTime": {
     "end_time": "2020-07-24T00:54:07.239582Z",
     "start_time": "2020-07-24T00:54:07.237611Z"
    }
   },
   "outputs": [],
   "source": [
    "andre.aprender_hobby('nadar')"
   ]
  },
  {
   "cell_type": "code",
   "execution_count": 81,
   "metadata": {
    "ExecuteTime": {
     "end_time": "2020-07-24T00:54:10.288911Z",
     "start_time": "2020-07-24T00:54:10.283916Z"
    }
   },
   "outputs": [
    {
     "data": {
      "text/plain": [
       "['jogar video game', 'correr', 'ler livros', 'nadar']"
      ]
     },
     "execution_count": 81,
     "metadata": {},
     "output_type": "execute_result"
    }
   ],
   "source": [
    "andre.hobbies"
   ]
  },
  {
   "cell_type": "markdown",
   "metadata": {},
   "source": [
    "## Objects"
   ]
  },
  {
   "cell_type": "code",
   "execution_count": 72,
   "metadata": {
    "ExecuteTime": {
     "end_time": "2020-06-04T18:02:47.520311Z",
     "start_time": "2020-06-04T18:02:47.517319Z"
    }
   },
   "outputs": [],
   "source": [
    "my_list = [1, 2, 3]"
   ]
  },
  {
   "cell_type": "code",
   "execution_count": 73,
   "metadata": {
    "ExecuteTime": {
     "end_time": "2020-06-04T18:03:40.585885Z",
     "start_time": "2020-06-04T18:03:40.581897Z"
    }
   },
   "outputs": [],
   "source": [
    "my_another_list = [1,2,3,4,5]"
   ]
  },
  {
   "cell_type": "markdown",
   "metadata": {},
   "source": [
    "### What is an object?"
   ]
  },
  {
   "cell_type": "markdown",
   "metadata": {},
   "source": [
    "## Instantiating objects"
   ]
  },
  {
   "cell_type": "markdown",
   "metadata": {},
   "source": [
    "`my_example_person.<TAB>` shows methods and attributes of your objects."
   ]
  },
  {
   "cell_type": "markdown",
   "metadata": {},
   "source": [
    "An instance: um exemplo"
   ]
  },
  {
   "cell_type": "markdown",
   "metadata": {},
   "source": [
    "### EM RESUMO: \n",
    "\n",
    "Classes são como **moldes** que criam uma **instância** ou um **exemplo** de um objeto que compartilham propriedades (como `nome`,`cor_cabelo`, etc) entre si, porém, se diferenciam pelo valor que estas propriedades tomam (como `nome = 'Andre'` vs `nome = 'Rodrigo'`)"
   ]
  },
  {
   "cell_type": "markdown",
   "metadata": {},
   "source": [
    "# How can I, then, differentiate them?"
   ]
  },
  {
   "cell_type": "markdown",
   "metadata": {},
   "source": [
    "## Special Functions\n",
    "\n",
    "That's when the special function `__init__` comes in.\n",
    "\n",
    "`__init__` is the method that runs when you `call` a class."
   ]
  },
  {
   "cell_type": "code",
   "execution_count": 82,
   "metadata": {
    "ExecuteTime": {
     "end_time": "2020-07-24T01:13:58.687721Z",
     "start_time": "2020-07-24T01:13:58.684719Z"
    }
   },
   "outputs": [],
   "source": [
    "class Person:\n",
    "    \n",
    "    def __init__(self):\n",
    "        print('Estou criando uma pessoinha ...')\n",
    "\n",
    "# dunder init == __init__  (double underline) "
   ]
  },
  {
   "cell_type": "code",
   "execution_count": 83,
   "metadata": {
    "ExecuteTime": {
     "end_time": "2020-07-24T01:14:03.884544Z",
     "start_time": "2020-07-24T01:14:03.881544Z"
    }
   },
   "outputs": [
    {
     "data": {
      "text/plain": [
       "__main__.Person"
      ]
     },
     "execution_count": 83,
     "metadata": {},
     "output_type": "execute_result"
    }
   ],
   "source": [
    "Person"
   ]
  },
  {
   "cell_type": "code",
   "execution_count": 85,
   "metadata": {
    "ExecuteTime": {
     "end_time": "2020-07-24T01:15:12.254233Z",
     "start_time": "2020-07-24T01:15:12.251235Z"
    }
   },
   "outputs": [
    {
     "name": "stdout",
     "output_type": "stream",
     "text": [
      "Estou criando uma pessoinha ...\n"
     ]
    }
   ],
   "source": [
    "andre = Person()\n"
   ]
  },
  {
   "cell_type": "markdown",
   "metadata": {},
   "source": [
    "## However, until now, we haven't given an argument to specify which person I'm talking about\n",
    "\n",
    "In order to call a class with an argument, just add the argument to the `__init__` method."
   ]
  },
  {
   "cell_type": "code",
   "execution_count": 98,
   "metadata": {
    "ExecuteTime": {
     "end_time": "2020-07-24T01:19:12.732139Z",
     "start_time": "2020-07-24T01:19:12.728141Z"
    }
   },
   "outputs": [],
   "source": [
    "class Person:\n",
    "    \n",
    "    def __init__(self, nome):\n",
    "        # attributes\n",
    "        self.name = nome"
   ]
  },
  {
   "cell_type": "code",
   "execution_count": 99,
   "metadata": {
    "ExecuteTime": {
     "end_time": "2020-07-24T01:19:13.450611Z",
     "start_time": "2020-07-24T01:19:13.446613Z"
    }
   },
   "outputs": [],
   "source": [
    "andre = Person(nome='Andre')"
   ]
  },
  {
   "cell_type": "code",
   "execution_count": null,
   "metadata": {},
   "outputs": [],
   "source": [
    "# Person(self=andre, nome='Andre')"
   ]
  },
  {
   "cell_type": "code",
   "execution_count": 100,
   "metadata": {
    "ExecuteTime": {
     "end_time": "2020-07-24T01:20:20.406740Z",
     "start_time": "2020-07-24T01:20:20.402739Z"
    }
   },
   "outputs": [
    {
     "data": {
      "text/plain": [
       "'Andre'"
      ]
     },
     "execution_count": 100,
     "metadata": {},
     "output_type": "execute_result"
    }
   ],
   "source": [
    "andre.name"
   ]
  },
  {
   "cell_type": "code",
   "execution_count": 90,
   "metadata": {
    "ExecuteTime": {
     "end_time": "2020-07-24T01:16:43.583527Z",
     "start_time": "2020-07-24T01:16:43.579525Z"
    }
   },
   "outputs": [
    {
     "data": {
      "text/plain": [
       "'Andre'"
      ]
     },
     "execution_count": 90,
     "metadata": {},
     "output_type": "execute_result"
    }
   ],
   "source": [
    "andre.name"
   ]
  },
  {
   "cell_type": "code",
   "execution_count": 92,
   "metadata": {
    "ExecuteTime": {
     "end_time": "2020-07-24T01:17:52.716336Z",
     "start_time": "2020-07-24T01:17:52.713341Z"
    }
   },
   "outputs": [],
   "source": [
    "dayana = Person(nome='Dayana')"
   ]
  },
  {
   "cell_type": "code",
   "execution_count": 93,
   "metadata": {
    "ExecuteTime": {
     "end_time": "2020-07-24T01:17:56.166819Z",
     "start_time": "2020-07-24T01:17:56.163820Z"
    }
   },
   "outputs": [
    {
     "data": {
      "text/plain": [
       "'Dayana'"
      ]
     },
     "execution_count": 93,
     "metadata": {},
     "output_type": "execute_result"
    }
   ],
   "source": [
    "dayana.name"
   ]
  },
  {
   "cell_type": "code",
   "execution_count": 96,
   "metadata": {
    "ExecuteTime": {
     "end_time": "2020-07-24T01:18:25.655986Z",
     "start_time": "2020-07-24T01:18:25.652986Z"
    }
   },
   "outputs": [],
   "source": [
    "pessoa = Person('Joao')"
   ]
  },
  {
   "cell_type": "code",
   "execution_count": 97,
   "metadata": {
    "ExecuteTime": {
     "end_time": "2020-07-24T01:18:26.203107Z",
     "start_time": "2020-07-24T01:18:26.200107Z"
    }
   },
   "outputs": [
    {
     "data": {
      "text/plain": [
       "'Joao'"
      ]
     },
     "execution_count": 97,
     "metadata": {},
     "output_type": "execute_result"
    }
   ],
   "source": [
    "pessoa.name"
   ]
  },
  {
   "cell_type": "code",
   "execution_count": 101,
   "metadata": {
    "ExecuteTime": {
     "end_time": "2020-07-24T01:22:48.556545Z",
     "start_time": "2020-07-24T01:22:48.551544Z"
    }
   },
   "outputs": [],
   "source": [
    "class Person:\n",
    "    peso = 80\n",
    "    \n",
    "    def engordar(kg):\n",
    "        Person.peso = Person.peso + kg\n",
    "    "
   ]
  },
  {
   "cell_type": "code",
   "execution_count": 102,
   "metadata": {
    "ExecuteTime": {
     "end_time": "2020-07-24T01:22:55.511705Z",
     "start_time": "2020-07-24T01:22:55.507704Z"
    }
   },
   "outputs": [],
   "source": [
    "andre = Person"
   ]
  },
  {
   "cell_type": "code",
   "execution_count": 103,
   "metadata": {
    "ExecuteTime": {
     "end_time": "2020-07-24T01:22:57.923873Z",
     "start_time": "2020-07-24T01:22:57.919843Z"
    }
   },
   "outputs": [
    {
     "data": {
      "text/plain": [
       "80"
      ]
     },
     "execution_count": 103,
     "metadata": {},
     "output_type": "execute_result"
    }
   ],
   "source": [
    "andre.peso"
   ]
  },
  {
   "cell_type": "code",
   "execution_count": 104,
   "metadata": {
    "ExecuteTime": {
     "end_time": "2020-07-24T01:23:04.793206Z",
     "start_time": "2020-07-24T01:23:04.791206Z"
    }
   },
   "outputs": [],
   "source": [
    "andre.engordar(10)"
   ]
  },
  {
   "cell_type": "code",
   "execution_count": 105,
   "metadata": {
    "ExecuteTime": {
     "end_time": "2020-07-24T01:23:08.892756Z",
     "start_time": "2020-07-24T01:23:08.888753Z"
    }
   },
   "outputs": [
    {
     "data": {
      "text/plain": [
       "90"
      ]
     },
     "execution_count": 105,
     "metadata": {},
     "output_type": "execute_result"
    }
   ],
   "source": [
    "andre.peso"
   ]
  },
  {
   "cell_type": "code",
   "execution_count": 106,
   "metadata": {
    "ExecuteTime": {
     "end_time": "2020-07-24T01:23:40.270065Z",
     "start_time": "2020-07-24T01:23:40.267067Z"
    }
   },
   "outputs": [],
   "source": [
    "darua = Person"
   ]
  },
  {
   "cell_type": "code",
   "execution_count": 107,
   "metadata": {
    "ExecuteTime": {
     "end_time": "2020-07-24T01:23:55.014606Z",
     "start_time": "2020-07-24T01:23:55.011604Z"
    }
   },
   "outputs": [
    {
     "data": {
      "text/plain": [
       "90"
      ]
     },
     "execution_count": 107,
     "metadata": {},
     "output_type": "execute_result"
    }
   ],
   "source": [
    "darua.peso"
   ]
  },
  {
   "cell_type": "code",
   "execution_count": 109,
   "metadata": {
    "ExecuteTime": {
     "end_time": "2020-07-24T01:26:23.584185Z",
     "start_time": "2020-07-24T01:26:23.580184Z"
    }
   },
   "outputs": [],
   "source": [
    "class Person:\n",
    "    def __init__(self):\n",
    "        self.cor_olhos = 'verde'\n",
    "        self.peso = 80\n",
    "    \n",
    "    def engordar(self, kg):\n",
    "        self.peso = self.peso + kg"
   ]
  },
  {
   "cell_type": "code",
   "execution_count": 110,
   "metadata": {
    "ExecuteTime": {
     "end_time": "2020-07-24T01:26:28.379709Z",
     "start_time": "2020-07-24T01:26:28.376713Z"
    }
   },
   "outputs": [],
   "source": [
    "andre = Person()"
   ]
  },
  {
   "cell_type": "code",
   "execution_count": 111,
   "metadata": {
    "ExecuteTime": {
     "end_time": "2020-07-24T01:26:30.890580Z",
     "start_time": "2020-07-24T01:26:30.887579Z"
    }
   },
   "outputs": [
    {
     "data": {
      "text/plain": [
       "80"
      ]
     },
     "execution_count": 111,
     "metadata": {},
     "output_type": "execute_result"
    }
   ],
   "source": [
    "andre.peso"
   ]
  },
  {
   "cell_type": "code",
   "execution_count": 112,
   "metadata": {
    "ExecuteTime": {
     "end_time": "2020-07-24T01:26:36.107507Z",
     "start_time": "2020-07-24T01:26:36.104508Z"
    }
   },
   "outputs": [],
   "source": [
    "andre.engordar(10)"
   ]
  },
  {
   "cell_type": "code",
   "execution_count": 113,
   "metadata": {
    "ExecuteTime": {
     "end_time": "2020-07-24T01:26:38.757068Z",
     "start_time": "2020-07-24T01:26:38.754069Z"
    }
   },
   "outputs": [
    {
     "data": {
      "text/plain": [
       "90"
      ]
     },
     "execution_count": 113,
     "metadata": {},
     "output_type": "execute_result"
    }
   ],
   "source": [
    "andre.peso"
   ]
  },
  {
   "cell_type": "code",
   "execution_count": 114,
   "metadata": {
    "ExecuteTime": {
     "end_time": "2020-07-24T01:26:49.289506Z",
     "start_time": "2020-07-24T01:26:49.286530Z"
    }
   },
   "outputs": [],
   "source": [
    "darua = Person()"
   ]
  },
  {
   "cell_type": "code",
   "execution_count": 115,
   "metadata": {
    "ExecuteTime": {
     "end_time": "2020-07-24T01:26:57.791290Z",
     "start_time": "2020-07-24T01:26:57.787290Z"
    }
   },
   "outputs": [
    {
     "data": {
      "text/plain": [
       "80"
      ]
     },
     "execution_count": 115,
     "metadata": {},
     "output_type": "execute_result"
    }
   ],
   "source": [
    "darua.peso"
   ]
  },
  {
   "cell_type": "markdown",
   "metadata": {},
   "source": [
    "## We can now use the `name attribute` everywhere in our class by assessing it on the `object itself`."
   ]
  },
  {
   "cell_type": "markdown",
   "metadata": {},
   "source": [
    "> Note that the name `self` is just a standard, but you could call it `abobrinha` if you want.\n"
   ]
  },
  {
   "cell_type": "markdown",
   "metadata": {},
   "source": [
    "## But to instantiate an object, i.e., in order to create our example of Person, we have to `call` the class.\n"
   ]
  },
  {
   "cell_type": "code",
   "execution_count": null,
   "metadata": {},
   "outputs": [],
   "source": [
    "my_example_person = Person()"
   ]
  },
  {
   "cell_type": "markdown",
   "metadata": {},
   "source": [
    "In order to `call` our class, we see that 1 parameter is always given. We'll soon see that this first argument is always the `object itself`. Why would it pass itself? In that manner, you always are allowed to access all your objects attributes and methods everywhere.\n",
    "\n",
    "So let's add an argument to the `__init__` method"
   ]
  },
  {
   "cell_type": "markdown",
   "metadata": {},
   "source": [
    "When you run `andre.engordar()`, you are effectively running `engordar(andre, )`"
   ]
  },
  {
   "cell_type": "markdown",
   "metadata": {},
   "source": [
    "> As soon as you include the `self` variable in the `__init__()` method, you start to always pass the object it**self** as an argument of all methods."
   ]
  },
  {
   "cell_type": "code",
   "execution_count": 114,
   "metadata": {
    "ExecuteTime": {
     "end_time": "2020-06-04T18:31:48.488881Z",
     "start_time": "2020-06-04T18:31:48.484892Z"
    }
   },
   "outputs": [
    {
     "name": "stdout",
     "output_type": "stream",
     "text": [
      "Criei uma pessoinha ...\n"
     ]
    }
   ],
   "source": [
    "andre = Person()"
   ]
  },
  {
   "cell_type": "markdown",
   "metadata": {},
   "source": [
    "## Methods"
   ]
  },
  {
   "cell_type": "markdown",
   "metadata": {},
   "source": [
    "So if you want `engordar` to be available on all instances (examples) of your class, you also have to give it an argument (`self`)."
   ]
  },
  {
   "cell_type": "code",
   "execution_count": 243,
   "metadata": {
    "ExecuteTime": {
     "end_time": "2020-06-04T19:09:25.059560Z",
     "start_time": "2020-06-04T19:09:25.054572Z"
    }
   },
   "outputs": [],
   "source": [
    "class Person:\n",
    "    \"\"\"\n",
    "    Docstring da classe\n",
    "    \"\"\"\n",
    "    \n",
    "    def __init__(self, ):\n",
    "        self.weight\n",
    "        print('Criei uma pessoinha ...')\n",
    "    \n",
    "    def engordar(self, kg):\n",
    "        self.weight = self.weight + kg\n",
    "            "
   ]
  },
  {
   "cell_type": "code",
   "execution_count": 245,
   "metadata": {
    "ExecuteTime": {
     "end_time": "2020-06-04T19:09:33.942073Z",
     "start_time": "2020-06-04T19:09:33.939053Z"
    }
   },
   "outputs": [
    {
     "name": "stdout",
     "output_type": "stream",
     "text": [
      "Criei uma pessoinha ...\n"
     ]
    }
   ],
   "source": [
    "andre = Person()"
   ]
  },
  {
   "cell_type": "markdown",
   "metadata": {},
   "source": [
    "# Class Inheritence - Herança"
   ]
  },
  {
   "cell_type": "markdown",
   "metadata": {},
   "source": [
    "Imagine you have created a `Car class` and now you want to create a `Taxi class`.\n",
    "\n",
    "Taxis are just a specific kind of `Car` and, hence, they share the same attributes and methods. \n",
    "\n",
    "However, they have their own different attributes and methods. How can I reuse the classes I have and just make a better class?"
   ]
  },
  {
   "cell_type": "code",
   "execution_count": 118,
   "metadata": {
    "ExecuteTime": {
     "end_time": "2020-07-24T01:34:39.572490Z",
     "start_time": "2020-07-24T01:34:39.569490Z"
    }
   },
   "outputs": [],
   "source": [
    "class Pessoa:\n",
    "    \n",
    "    def __init__(self, nome, altura):\n",
    "        \n",
    "        self.nome = nome\n",
    "        self.altura = altura\n",
    "        "
   ]
  },
  {
   "cell_type": "code",
   "execution_count": 119,
   "metadata": {
    "ExecuteTime": {
     "end_time": "2020-07-24T01:34:41.610894Z",
     "start_time": "2020-07-24T01:34:41.607923Z"
    }
   },
   "outputs": [],
   "source": [
    "import random"
   ]
  },
  {
   "cell_type": "code",
   "execution_count": 124,
   "metadata": {
    "ExecuteTime": {
     "end_time": "2020-07-24T01:35:45.284561Z",
     "start_time": "2020-07-24T01:35:45.281562Z"
    }
   },
   "outputs": [],
   "source": [
    "class Student(Pessoa):\n",
    "    \n",
    "    def get_id(self):\n",
    "        self.student_id = random.randint(1, 100)"
   ]
  },
  {
   "cell_type": "code",
   "execution_count": 125,
   "metadata": {
    "ExecuteTime": {
     "end_time": "2020-07-24T01:35:46.140748Z",
     "start_time": "2020-07-24T01:35:46.137745Z"
    }
   },
   "outputs": [],
   "source": [
    "andre = Student('Andre', 175)"
   ]
  },
  {
   "cell_type": "code",
   "execution_count": 126,
   "metadata": {
    "ExecuteTime": {
     "end_time": "2020-07-24T01:35:46.627906Z",
     "start_time": "2020-07-24T01:35:46.624905Z"
    }
   },
   "outputs": [],
   "source": [
    "andre.get_id()"
   ]
  },
  {
   "cell_type": "code",
   "execution_count": 128,
   "metadata": {
    "ExecuteTime": {
     "end_time": "2020-07-24T01:36:12.615150Z",
     "start_time": "2020-07-24T01:36:12.612151Z"
    }
   },
   "outputs": [],
   "source": [
    "class Car:\n",
    "    \n",
    "    def __init__(self, name, color, km):\n",
    "        self.name = name\n",
    "        self.color = color\n",
    "        self.km = km\n",
    "        self.speed = 0\n",
    "        \n",
    "    def accelerate(self, speed):\n",
    "        self.speed += speed\n"
   ]
  },
  {
   "cell_type": "code",
   "execution_count": 135,
   "metadata": {
    "ExecuteTime": {
     "end_time": "2020-07-24T01:39:25.702183Z",
     "start_time": "2020-07-24T01:39:25.699184Z"
    }
   },
   "outputs": [],
   "source": [
    "class Taxi(Car):\n",
    "    \n",
    "    def __repr__(self):\n",
    "        return '------o----------o-----'\n",
    "    \n",
    "    def get_id(self):\n",
    "        self.taxi_id = random.randint(1,10)\n",
    "    "
   ]
  },
  {
   "cell_type": "code",
   "execution_count": 136,
   "metadata": {
    "ExecuteTime": {
     "end_time": "2020-07-24T01:39:27.485779Z",
     "start_time": "2020-07-24T01:39:27.482779Z"
    }
   },
   "outputs": [],
   "source": [
    "meu_taxi = Taxi('Hubble', 'Yellow', 100)"
   ]
  },
  {
   "cell_type": "code",
   "execution_count": 137,
   "metadata": {
    "ExecuteTime": {
     "end_time": "2020-07-24T01:39:33.472495Z",
     "start_time": "2020-07-24T01:39:33.468494Z"
    }
   },
   "outputs": [
    {
     "data": {
      "text/plain": [
       "------o----------o-----"
      ]
     },
     "execution_count": 137,
     "metadata": {},
     "output_type": "execute_result"
    }
   ],
   "source": [
    "meu_taxi"
   ]
  },
  {
   "cell_type": "code",
   "execution_count": 134,
   "metadata": {
    "ExecuteTime": {
     "end_time": "2020-07-24T01:38:01.787368Z",
     "start_time": "2020-07-24T01:38:01.784392Z"
    },
    "scrolled": true
   },
   "outputs": [
    {
     "data": {
      "text/plain": [
       "['__class__',\n",
       " '__delattr__',\n",
       " '__dict__',\n",
       " '__dir__',\n",
       " '__doc__',\n",
       " '__eq__',\n",
       " '__format__',\n",
       " '__ge__',\n",
       " '__getattribute__',\n",
       " '__gt__',\n",
       " '__hash__',\n",
       " '__init__',\n",
       " '__init_subclass__',\n",
       " '__le__',\n",
       " '__lt__',\n",
       " '__module__',\n",
       " '__ne__',\n",
       " '__new__',\n",
       " '__reduce__',\n",
       " '__reduce_ex__',\n",
       " '__repr__',\n",
       " '__setattr__',\n",
       " '__sizeof__',\n",
       " '__str__',\n",
       " '__subclasshook__',\n",
       " '__weakref__',\n",
       " 'accelerate',\n",
       " 'get_id']"
      ]
     },
     "execution_count": 134,
     "metadata": {},
     "output_type": "execute_result"
    }
   ],
   "source": [
    "dir(Taxi)"
   ]
  },
  {
   "cell_type": "code",
   "execution_count": 138,
   "metadata": {
    "ExecuteTime": {
     "end_time": "2020-07-24T01:40:02.373385Z",
     "start_time": "2020-07-24T01:40:02.371385Z"
    }
   },
   "outputs": [],
   "source": [
    "import pandas as pd"
   ]
  },
  {
   "cell_type": "code",
   "execution_count": 140,
   "metadata": {
    "ExecuteTime": {
     "end_time": "2020-07-24T01:44:49.286241Z",
     "start_time": "2020-07-24T01:44:49.283240Z"
    }
   },
   "outputs": [],
   "source": [
    "import qgrid"
   ]
  },
  {
   "cell_type": "code",
   "execution_count": 143,
   "metadata": {
    "ExecuteTime": {
     "end_time": "2020-07-24T01:47:04.069666Z",
     "start_time": "2020-07-24T01:47:04.053695Z"
    },
    "scrolled": true
   },
   "outputs": [],
   "source": [
    "widg = qgrid.show_grid(pd.DataFrame([i for i in range(1000)]))"
   ]
  },
  {
   "cell_type": "code",
   "execution_count": null,
   "metadata": {},
   "outputs": [],
   "source": []
  }
 ],
 "metadata": {
  "kernelspec": {
   "display_name": "Python 3",
   "language": "python",
   "name": "python3"
  },
  "language_info": {
   "codemirror_mode": {
    "name": "ipython",
    "version": 3
   },
   "file_extension": ".py",
   "mimetype": "text/x-python",
   "name": "python",
   "nbconvert_exporter": "python",
   "pygments_lexer": "ipython3",
   "version": "3.7.3"
  },
  "toc": {
   "base_numbering": 1,
   "nav_menu": {},
   "number_sections": true,
   "sideBar": true,
   "skip_h1_title": false,
   "title_cell": "Table of Contents",
   "title_sidebar": "Contents",
   "toc_cell": false,
   "toc_position": {},
   "toc_section_display": true,
   "toc_window_display": false
  }
 },
 "nbformat": 4,
 "nbformat_minor": 2
}
