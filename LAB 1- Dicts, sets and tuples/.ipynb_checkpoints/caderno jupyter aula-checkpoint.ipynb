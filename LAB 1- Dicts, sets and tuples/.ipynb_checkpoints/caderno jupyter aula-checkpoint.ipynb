{
 "cells": [
  {
   "cell_type": "markdown",
   "metadata": {},
   "source": [
    "# Some python inherent `data structures`"
   ]
  },
  {
   "cell_type": "markdown",
   "metadata": {},
   "source": [
    "- Tuples\n",
    "- Dicts\n",
    "- Sets"
   ]
  },
  {
   "cell_type": "markdown",
   "metadata": {},
   "source": [
    "# Tuples"
   ]
  },
  {
   "cell_type": "markdown",
   "metadata": {},
   "source": [
    "## Creating a tuple"
   ]
  },
  {
   "cell_type": "code",
   "execution_count": 1,
   "metadata": {
    "ExecuteTime": {
     "end_time": "2020-07-09T22:45:47.947147Z",
     "start_time": "2020-07-09T22:45:47.939168Z"
    }
   },
   "outputs": [
    {
     "data": {
      "text/plain": [
       "(10, 20)"
      ]
     },
     "execution_count": 1,
     "metadata": {},
     "output_type": "execute_result"
    }
   ],
   "source": [
    "# parenthesis and separate by comma\n",
    "x = (10, 20)\n",
    "x"
   ]
  },
  {
   "cell_type": "code",
   "execution_count": 2,
   "metadata": {
    "ExecuteTime": {
     "end_time": "2020-07-09T22:45:56.919443Z",
     "start_time": "2020-07-09T22:45:56.915420Z"
    }
   },
   "outputs": [
    {
     "data": {
      "text/plain": [
       "tuple"
      ]
     },
     "execution_count": 2,
     "metadata": {},
     "output_type": "execute_result"
    }
   ],
   "source": [
    "type(x)"
   ]
  },
  {
   "cell_type": "code",
   "execution_count": 3,
   "metadata": {
    "ExecuteTime": {
     "end_time": "2020-07-09T22:46:23.438333Z",
     "start_time": "2020-07-09T22:46:23.435342Z"
    }
   },
   "outputs": [],
   "source": [
    "y = (10)"
   ]
  },
  {
   "cell_type": "code",
   "execution_count": 4,
   "metadata": {
    "ExecuteTime": {
     "end_time": "2020-07-09T22:46:23.924645Z",
     "start_time": "2020-07-09T22:46:23.920656Z"
    }
   },
   "outputs": [
    {
     "data": {
      "text/plain": [
       "int"
      ]
     },
     "execution_count": 4,
     "metadata": {},
     "output_type": "execute_result"
    }
   ],
   "source": [
    "type(y)"
   ]
  },
  {
   "cell_type": "code",
   "execution_count": 5,
   "metadata": {
    "ExecuteTime": {
     "end_time": "2020-07-09T22:47:07.157845Z",
     "start_time": "2020-07-09T22:47:07.154853Z"
    }
   },
   "outputs": [],
   "source": [
    "y = (10,)"
   ]
  },
  {
   "cell_type": "code",
   "execution_count": 6,
   "metadata": {
    "ExecuteTime": {
     "end_time": "2020-07-09T22:47:10.471569Z",
     "start_time": "2020-07-09T22:47:10.467581Z"
    }
   },
   "outputs": [
    {
     "data": {
      "text/plain": [
       "tuple"
      ]
     },
     "execution_count": 6,
     "metadata": {},
     "output_type": "execute_result"
    }
   ],
   "source": [
    "type(y)"
   ]
  },
  {
   "cell_type": "code",
   "execution_count": 7,
   "metadata": {
    "ExecuteTime": {
     "end_time": "2020-07-09T22:47:30.588494Z",
     "start_time": "2020-07-09T22:47:30.583508Z"
    }
   },
   "outputs": [
    {
     "data": {
      "text/plain": [
       "(10, 20, 10, 2, 113, 54)"
      ]
     },
     "execution_count": 7,
     "metadata": {},
     "output_type": "execute_result"
    }
   ],
   "source": [
    "y = (10,20, 10, 2, 113, 54)\n",
    "y"
   ]
  },
  {
   "cell_type": "code",
   "execution_count": 8,
   "metadata": {
    "ExecuteTime": {
     "end_time": "2020-07-09T22:48:12.272164Z",
     "start_time": "2020-07-09T22:48:12.268146Z"
    }
   },
   "outputs": [
    {
     "data": {
      "text/plain": [
       "[10, 50, 30]"
      ]
     },
     "execution_count": 8,
     "metadata": {},
     "output_type": "execute_result"
    }
   ],
   "source": [
    "x = [10, 50, 30]\n",
    "x"
   ]
  },
  {
   "cell_type": "code",
   "execution_count": 9,
   "metadata": {
    "ExecuteTime": {
     "end_time": "2020-07-09T22:48:20.601577Z",
     "start_time": "2020-07-09T22:48:20.597588Z"
    }
   },
   "outputs": [
    {
     "data": {
      "text/plain": [
       "list"
      ]
     },
     "execution_count": 9,
     "metadata": {},
     "output_type": "execute_result"
    }
   ],
   "source": [
    "type(x)"
   ]
  },
  {
   "cell_type": "code",
   "execution_count": 11,
   "metadata": {
    "ExecuteTime": {
     "end_time": "2020-07-09T22:49:19.888382Z",
     "start_time": "2020-07-09T22:49:19.884394Z"
    }
   },
   "outputs": [
    {
     "data": {
      "text/plain": [
       "(10, 50, 30)"
      ]
     },
     "execution_count": 11,
     "metadata": {},
     "output_type": "execute_result"
    }
   ],
   "source": [
    "y = tuple(x)\n",
    "y"
   ]
  },
  {
   "cell_type": "code",
   "execution_count": 12,
   "metadata": {
    "ExecuteTime": {
     "end_time": "2020-07-09T22:49:21.627076Z",
     "start_time": "2020-07-09T22:49:21.623087Z"
    }
   },
   "outputs": [
    {
     "data": {
      "text/plain": [
       "tuple"
      ]
     },
     "execution_count": 12,
     "metadata": {},
     "output_type": "execute_result"
    }
   ],
   "source": [
    "type(y)"
   ]
  },
  {
   "cell_type": "code",
   "execution_count": 14,
   "metadata": {
    "ExecuteTime": {
     "end_time": "2020-07-09T22:49:53.331000Z",
     "start_time": "2020-07-09T22:49:53.327010Z"
    }
   },
   "outputs": [
    {
     "data": {
      "text/plain": [
       "[10, 50, 30]"
      ]
     },
     "execution_count": 14,
     "metadata": {},
     "output_type": "execute_result"
    }
   ],
   "source": [
    "list(y)"
   ]
  },
  {
   "cell_type": "code",
   "execution_count": 17,
   "metadata": {
    "ExecuteTime": {
     "end_time": "2020-07-09T22:52:12.952903Z",
     "start_time": "2020-07-09T22:52:12.948915Z"
    }
   },
   "outputs": [
    {
     "data": {
      "text/plain": [
       "()"
      ]
     },
     "execution_count": 17,
     "metadata": {},
     "output_type": "execute_result"
    }
   ],
   "source": [
    "tuple()"
   ]
  },
  {
   "cell_type": "markdown",
   "metadata": {},
   "source": [
    "## Transforming a list into a tuple"
   ]
  },
  {
   "cell_type": "code",
   "execution_count": 18,
   "metadata": {
    "ExecuteTime": {
     "end_time": "2020-07-09T22:52:57.206445Z",
     "start_time": "2020-07-09T22:52:57.203454Z"
    }
   },
   "outputs": [],
   "source": [
    "my_list = [1,3,5,8]"
   ]
  },
  {
   "cell_type": "code",
   "execution_count": 19,
   "metadata": {
    "ExecuteTime": {
     "end_time": "2020-07-09T22:52:57.536562Z",
     "start_time": "2020-07-09T22:52:57.532573Z"
    }
   },
   "outputs": [
    {
     "data": {
      "text/plain": [
       "list"
      ]
     },
     "execution_count": 19,
     "metadata": {},
     "output_type": "execute_result"
    }
   ],
   "source": [
    "type(my_list)"
   ]
  },
  {
   "cell_type": "code",
   "execution_count": 20,
   "metadata": {
    "ExecuteTime": {
     "end_time": "2020-07-09T22:52:59.378175Z",
     "start_time": "2020-07-09T22:52:59.375154Z"
    }
   },
   "outputs": [
    {
     "data": {
      "text/plain": [
       "(1, 3, 5, 8)"
      ]
     },
     "execution_count": 20,
     "metadata": {},
     "output_type": "execute_result"
    }
   ],
   "source": [
    "y = tuple(my_list)\n",
    "y"
   ]
  },
  {
   "cell_type": "code",
   "execution_count": 22,
   "metadata": {
    "ExecuteTime": {
     "end_time": "2020-07-09T22:53:37.037379Z",
     "start_time": "2020-07-09T22:53:37.033390Z"
    }
   },
   "outputs": [
    {
     "data": {
      "text/plain": [
       "(0, 1, 2, 3, 4)"
      ]
     },
     "execution_count": 22,
     "metadata": {},
     "output_type": "execute_result"
    }
   ],
   "source": [
    "tuple(range(5))"
   ]
  },
  {
   "cell_type": "code",
   "execution_count": 24,
   "metadata": {
    "ExecuteTime": {
     "end_time": "2020-07-09T22:54:11.078528Z",
     "start_time": "2020-07-09T22:54:11.073542Z"
    }
   },
   "outputs": [
    {
     "data": {
      "text/plain": [
       "(5, 6, 7, 8, 9, 10, 11, 12, 13, 14, 15, 16, 17, 18, 19)"
      ]
     },
     "execution_count": 24,
     "metadata": {},
     "output_type": "execute_result"
    }
   ],
   "source": [
    "tuple(range(5,20))"
   ]
  },
  {
   "cell_type": "code",
   "execution_count": 29,
   "metadata": {
    "ExecuteTime": {
     "end_time": "2020-07-09T22:56:09.628904Z",
     "start_time": "2020-07-09T22:56:09.625885Z"
    }
   },
   "outputs": [
    {
     "data": {
      "text/plain": [
       "(1, 3, 5, 8)"
      ]
     },
     "execution_count": 29,
     "metadata": {},
     "output_type": "execute_result"
    }
   ],
   "source": [
    "y"
   ]
  },
  {
   "cell_type": "code",
   "execution_count": 32,
   "metadata": {
    "ExecuteTime": {
     "end_time": "2020-07-09T22:56:26.257008Z",
     "start_time": "2020-07-09T22:56:26.253019Z"
    }
   },
   "outputs": [
    {
     "data": {
      "text/plain": [
       "[1, 3, 5, 8]"
      ]
     },
     "execution_count": 32,
     "metadata": {},
     "output_type": "execute_result"
    }
   ],
   "source": [
    "list(y)"
   ]
  },
  {
   "cell_type": "code",
   "execution_count": 33,
   "metadata": {
    "ExecuteTime": {
     "end_time": "2020-07-09T22:57:09.314955Z",
     "start_time": "2020-07-09T22:57:09.311963Z"
    }
   },
   "outputs": [],
   "source": [
    "y = list(y)"
   ]
  },
  {
   "cell_type": "code",
   "execution_count": 35,
   "metadata": {
    "ExecuteTime": {
     "end_time": "2020-07-09T22:59:16.059564Z",
     "start_time": "2020-07-09T22:59:16.055553Z"
    }
   },
   "outputs": [
    {
     "data": {
      "text/plain": [
       "[]"
      ]
     },
     "execution_count": 35,
     "metadata": {},
     "output_type": "execute_result"
    }
   ],
   "source": [
    "list()"
   ]
  },
  {
   "cell_type": "code",
   "execution_count": 36,
   "metadata": {
    "ExecuteTime": {
     "end_time": "2020-07-09T22:59:32.439158Z",
     "start_time": "2020-07-09T22:59:32.435197Z"
    }
   },
   "outputs": [
    {
     "data": {
      "text/plain": [
       "[]"
      ]
     },
     "execution_count": 36,
     "metadata": {},
     "output_type": "execute_result"
    }
   ],
   "source": [
    "[]"
   ]
  },
  {
   "cell_type": "code",
   "execution_count": null,
   "metadata": {},
   "outputs": [],
   "source": [
    "tuple()"
   ]
  },
  {
   "cell_type": "code",
   "execution_count": null,
   "metadata": {},
   "outputs": [],
   "source": [
    "()"
   ]
  },
  {
   "cell_type": "code",
   "execution_count": 39,
   "metadata": {
    "ExecuteTime": {
     "end_time": "2020-07-09T23:01:43.955787Z",
     "start_time": "2020-07-09T23:01:43.951797Z"
    }
   },
   "outputs": [
    {
     "data": {
      "text/plain": [
       "{}"
      ]
     },
     "execution_count": 39,
     "metadata": {},
     "output_type": "execute_result"
    }
   ],
   "source": [
    "dict()"
   ]
  },
  {
   "cell_type": "code",
   "execution_count": null,
   "metadata": {},
   "outputs": [],
   "source": [
    "{}"
   ]
  },
  {
   "cell_type": "markdown",
   "metadata": {},
   "source": [
    "## Accessing an element in a tuple"
   ]
  },
  {
   "cell_type": "code",
   "execution_count": 44,
   "metadata": {
    "ExecuteTime": {
     "end_time": "2020-07-09T23:04:54.802409Z",
     "start_time": "2020-07-09T23:04:54.799414Z"
    }
   },
   "outputs": [],
   "source": [
    "coords = (10, 20, 30)"
   ]
  },
  {
   "cell_type": "code",
   "execution_count": 46,
   "metadata": {
    "ExecuteTime": {
     "end_time": "2020-07-09T23:07:01.270774Z",
     "start_time": "2020-07-09T23:07:01.267764Z"
    }
   },
   "outputs": [
    {
     "data": {
      "text/plain": [
       "20"
      ]
     },
     "execution_count": 46,
     "metadata": {},
     "output_type": "execute_result"
    }
   ],
   "source": [
    "coords[1]"
   ]
  },
  {
   "cell_type": "code",
   "execution_count": 47,
   "metadata": {
    "ExecuteTime": {
     "end_time": "2020-07-09T23:07:46.600099Z",
     "start_time": "2020-07-09T23:07:46.595112Z"
    }
   },
   "outputs": [
    {
     "data": {
      "text/plain": [
       "[10, 20, 30]"
      ]
     },
     "execution_count": 47,
     "metadata": {},
     "output_type": "execute_result"
    }
   ],
   "source": [
    "y = list((10, 20, 30))\n",
    "y"
   ]
  },
  {
   "cell_type": "code",
   "execution_count": 51,
   "metadata": {
    "ExecuteTime": {
     "end_time": "2020-07-09T23:08:10.688092Z",
     "start_time": "2020-07-09T23:08:10.684103Z"
    }
   },
   "outputs": [
    {
     "data": {
      "text/plain": [
       "30"
      ]
     },
     "execution_count": 51,
     "metadata": {},
     "output_type": "execute_result"
    }
   ],
   "source": [
    "y[2]"
   ]
  },
  {
   "cell_type": "code",
   "execution_count": 52,
   "metadata": {
    "ExecuteTime": {
     "end_time": "2020-07-09T23:09:49.217940Z",
     "start_time": "2020-07-09T23:09:49.213923Z"
    }
   },
   "outputs": [
    {
     "data": {
      "text/plain": [
       "30"
      ]
     },
     "execution_count": 52,
     "metadata": {},
     "output_type": "execute_result"
    }
   ],
   "source": [
    "coords[-1]"
   ]
  },
  {
   "cell_type": "code",
   "execution_count": 53,
   "metadata": {
    "ExecuteTime": {
     "end_time": "2020-07-09T23:09:59.615189Z",
     "start_time": "2020-07-09T23:09:59.610203Z"
    }
   },
   "outputs": [
    {
     "data": {
      "text/plain": [
       "20"
      ]
     },
     "execution_count": 53,
     "metadata": {},
     "output_type": "execute_result"
    }
   ],
   "source": [
    "coords[-2]"
   ]
  },
  {
   "cell_type": "markdown",
   "metadata": {},
   "source": [
    "## Running through a tuple"
   ]
  },
  {
   "cell_type": "markdown",
   "metadata": {},
   "source": [
    "Tuples and lists are what is called in Python **iterators**. It means you can run through it. \n",
    "\n",
    "The syntax is simple: \n",
    "\n",
    "```python\n",
    "my_tuple = (1, 5, 8)\n",
    "\n",
    "for element in my_tuple:\n",
    "    # now you have access to each element\n",
    "    print(element)\n",
    "\n",
    "# Output\n",
    "1\n",
    "5\n",
    "8\n",
    "```\n"
   ]
  },
  {
   "cell_type": "code",
   "execution_count": 56,
   "metadata": {
    "ExecuteTime": {
     "end_time": "2020-07-09T23:17:35.185815Z",
     "start_time": "2020-07-09T23:17:35.181828Z"
    }
   },
   "outputs": [
    {
     "name": "stdout",
     "output_type": "stream",
     "text": [
      "8\n",
      "Oi\n",
      "18\n",
      "Oi\n",
      "28\n",
      "Oi\n"
     ]
    }
   ],
   "source": [
    "for each_coord in coords:\n",
    "    # each_coord = coords[0]\n",
    "    \n",
    "    \n",
    "    print(each_coord - 2)\n",
    "    print('Oi')"
   ]
  },
  {
   "cell_type": "code",
   "execution_count": 60,
   "metadata": {
    "ExecuteTime": {
     "end_time": "2020-07-09T23:19:04.442284Z",
     "start_time": "2020-07-09T23:19:04.438295Z"
    }
   },
   "outputs": [
    {
     "data": {
      "text/plain": [
       "[10, 20, 30]"
      ]
     },
     "execution_count": 60,
     "metadata": {},
     "output_type": "execute_result"
    }
   ],
   "source": [
    "coords_list = list(coords)\n",
    "coords_list"
   ]
  },
  {
   "cell_type": "code",
   "execution_count": 59,
   "metadata": {
    "ExecuteTime": {
     "end_time": "2020-07-09T23:18:32.840220Z",
     "start_time": "2020-07-09T23:18:32.833238Z"
    }
   },
   "outputs": [
    {
     "ename": "TypeError",
     "evalue": "'tuple' object does not support item assignment",
     "output_type": "error",
     "traceback": [
      "\u001b[1;31m---------------------------------------------------------------------------\u001b[0m",
      "\u001b[1;31mTypeError\u001b[0m                                 Traceback (most recent call last)",
      "\u001b[1;32m<ipython-input-59-eda74d937499>\u001b[0m in \u001b[0;36m<module>\u001b[1;34m\u001b[0m\n\u001b[1;32m----> 1\u001b[1;33m \u001b[0mcoords\u001b[0m\u001b[1;33m[\u001b[0m\u001b[1;36m0\u001b[0m\u001b[1;33m]\u001b[0m \u001b[1;33m=\u001b[0m \u001b[1;36m30\u001b[0m\u001b[1;33m\u001b[0m\u001b[1;33m\u001b[0m\u001b[0m\n\u001b[0m",
      "\u001b[1;31mTypeError\u001b[0m: 'tuple' object does not support item assignment"
     ]
    }
   ],
   "source": [
    "coords[0] = 30"
   ]
  },
  {
   "cell_type": "code",
   "execution_count": 62,
   "metadata": {
    "ExecuteTime": {
     "end_time": "2020-07-09T23:19:18.830008Z",
     "start_time": "2020-07-09T23:19:18.827016Z"
    }
   },
   "outputs": [],
   "source": [
    "coords_list[0] = 300"
   ]
  },
  {
   "cell_type": "code",
   "execution_count": 63,
   "metadata": {
    "ExecuteTime": {
     "end_time": "2020-07-09T23:19:25.690411Z",
     "start_time": "2020-07-09T23:19:25.686423Z"
    }
   },
   "outputs": [
    {
     "data": {
      "text/plain": [
       "[300, 20, 30]"
      ]
     },
     "execution_count": 63,
     "metadata": {},
     "output_type": "execute_result"
    }
   ],
   "source": [
    "coords_list"
   ]
  },
  {
   "cell_type": "code",
   "execution_count": 65,
   "metadata": {
    "ExecuteTime": {
     "end_time": "2020-07-09T23:21:11.782746Z",
     "start_time": "2020-07-09T23:21:11.778734Z"
    }
   },
   "outputs": [
    {
     "name": "stdout",
     "output_type": "stream",
     "text": [
      "300\n",
      "20\n",
      "30\n"
     ]
    }
   ],
   "source": [
    "for each_coord in coords_list:\n",
    "    print(each_coord)\n",
    "    coords_list[0] = each_coord"
   ]
  },
  {
   "cell_type": "code",
   "execution_count": 66,
   "metadata": {
    "ExecuteTime": {
     "end_time": "2020-07-09T23:21:14.514606Z",
     "start_time": "2020-07-09T23:21:14.510591Z"
    }
   },
   "outputs": [
    {
     "data": {
      "text/plain": [
       "[30, 20, 30]"
      ]
     },
     "execution_count": 66,
     "metadata": {},
     "output_type": "execute_result"
    }
   ],
   "source": [
    "coords_list"
   ]
  },
  {
   "cell_type": "code",
   "execution_count": 67,
   "metadata": {
    "ExecuteTime": {
     "end_time": "2020-07-09T23:21:41.034390Z",
     "start_time": "2020-07-09T23:21:41.030371Z"
    }
   },
   "outputs": [
    {
     "name": "stdout",
     "output_type": "stream",
     "text": [
      "10\n",
      "20\n",
      "30\n"
     ]
    }
   ],
   "source": [
    "for banana in coords:\n",
    "    print(banana)"
   ]
  },
  {
   "cell_type": "code",
   "execution_count": 68,
   "metadata": {
    "ExecuteTime": {
     "end_time": "2020-07-09T23:22:21.037729Z",
     "start_time": "2020-07-09T23:22:21.033740Z"
    }
   },
   "outputs": [
    {
     "data": {
      "text/plain": [
       "(0, 1, 2)"
      ]
     },
     "execution_count": 68,
     "metadata": {},
     "output_type": "execute_result"
    }
   ],
   "source": [
    "tuple(range(3))"
   ]
  },
  {
   "cell_type": "code",
   "execution_count": 71,
   "metadata": {
    "ExecuteTime": {
     "end_time": "2020-07-09T23:23:44.534541Z",
     "start_time": "2020-07-09T23:23:44.531577Z"
    }
   },
   "outputs": [
    {
     "name": "stdout",
     "output_type": "stream",
     "text": [
      "0 10\n",
      "1 20\n",
      "2 30\n"
     ]
    }
   ],
   "source": [
    "for index in range(3):\n",
    "    print(index, coords[index])\n",
    "    "
   ]
  },
  {
   "cell_type": "code",
   "execution_count": 73,
   "metadata": {
    "ExecuteTime": {
     "end_time": "2020-07-09T23:24:27.471913Z",
     "start_time": "2020-07-09T23:24:27.467923Z"
    }
   },
   "outputs": [
    {
     "data": {
      "text/plain": [
       "3"
      ]
     },
     "execution_count": 73,
     "metadata": {},
     "output_type": "execute_result"
    }
   ],
   "source": [
    "len(coords)"
   ]
  },
  {
   "cell_type": "code",
   "execution_count": 74,
   "metadata": {
    "ExecuteTime": {
     "end_time": "2020-07-09T23:24:37.874909Z",
     "start_time": "2020-07-09T23:24:37.870920Z"
    }
   },
   "outputs": [
    {
     "name": "stdout",
     "output_type": "stream",
     "text": [
      "0 10\n",
      "1 20\n",
      "2 30\n"
     ]
    }
   ],
   "source": [
    "for index in range(len(coords)):\n",
    "    print(index, coords[index])"
   ]
  },
  {
   "cell_type": "markdown",
   "metadata": {},
   "source": [
    "## Applications"
   ]
  },
  {
   "cell_type": "code",
   "execution_count": 75,
   "metadata": {
    "ExecuteTime": {
     "end_time": "2020-07-09T23:25:47.966511Z",
     "start_time": "2020-07-09T23:25:47.962522Z"
    }
   },
   "outputs": [
    {
     "data": {
      "text/plain": [
       "(17, 23)"
      ]
     },
     "execution_count": 75,
     "metadata": {},
     "output_type": "execute_result"
    }
   ],
   "source": [
    "x = 17\n",
    "y = 23\n",
    "\n",
    "coords = (x,y)\n",
    "coords"
   ]
  },
  {
   "cell_type": "code",
   "execution_count": 76,
   "metadata": {
    "ExecuteTime": {
     "end_time": "2020-07-09T23:25:57.929932Z",
     "start_time": "2020-07-09T23:25:57.926967Z"
    }
   },
   "outputs": [],
   "source": [
    "z = 0"
   ]
  },
  {
   "cell_type": "code",
   "execution_count": 77,
   "metadata": {
    "ExecuteTime": {
     "end_time": "2020-07-09T23:26:03.033822Z",
     "start_time": "2020-07-09T23:26:03.029833Z"
    }
   },
   "outputs": [
    {
     "data": {
      "text/plain": [
       "(17, 23, 0)"
      ]
     },
     "execution_count": 77,
     "metadata": {},
     "output_type": "execute_result"
    }
   ],
   "source": [
    "coords = (x,y,z)\n",
    "coords"
   ]
  },
  {
   "cell_type": "markdown",
   "metadata": {},
   "source": [
    "## Tuples are immutable"
   ]
  },
  {
   "cell_type": "code",
   "execution_count": 78,
   "metadata": {
    "ExecuteTime": {
     "end_time": "2020-07-09T23:26:44.489158Z",
     "start_time": "2020-07-09T23:26:44.484165Z"
    }
   },
   "outputs": [
    {
     "ename": "TypeError",
     "evalue": "'tuple' object does not support item assignment",
     "output_type": "error",
     "traceback": [
      "\u001b[1;31m---------------------------------------------------------------------------\u001b[0m",
      "\u001b[1;31mTypeError\u001b[0m                                 Traceback (most recent call last)",
      "\u001b[1;32m<ipython-input-78-eda74d937499>\u001b[0m in \u001b[0;36m<module>\u001b[1;34m\u001b[0m\n\u001b[1;32m----> 1\u001b[1;33m \u001b[0mcoords\u001b[0m\u001b[1;33m[\u001b[0m\u001b[1;36m0\u001b[0m\u001b[1;33m]\u001b[0m \u001b[1;33m=\u001b[0m \u001b[1;36m30\u001b[0m\u001b[1;33m\u001b[0m\u001b[1;33m\u001b[0m\u001b[0m\n\u001b[0m",
      "\u001b[1;31mTypeError\u001b[0m: 'tuple' object does not support item assignment"
     ]
    }
   ],
   "source": [
    "# will through an error\n",
    "coords[0] = 30"
   ]
  },
  {
   "cell_type": "code",
   "execution_count": 81,
   "metadata": {
    "ExecuteTime": {
     "end_time": "2020-07-09T23:27:27.660384Z",
     "start_time": "2020-07-09T23:27:27.657392Z"
    }
   },
   "outputs": [],
   "source": [
    "# eliminate variable\n",
    "del coords"
   ]
  },
  {
   "cell_type": "code",
   "execution_count": 82,
   "metadata": {
    "ExecuteTime": {
     "end_time": "2020-07-09T23:27:29.066746Z",
     "start_time": "2020-07-09T23:27:29.059766Z"
    }
   },
   "outputs": [
    {
     "ename": "NameError",
     "evalue": "name 'coords' is not defined",
     "output_type": "error",
     "traceback": [
      "\u001b[1;31m---------------------------------------------------------------------------\u001b[0m",
      "\u001b[1;31mNameError\u001b[0m                                 Traceback (most recent call last)",
      "\u001b[1;32m<ipython-input-82-e1d5c79a0573>\u001b[0m in \u001b[0;36m<module>\u001b[1;34m\u001b[0m\n\u001b[1;32m----> 1\u001b[1;33m \u001b[0mcoords\u001b[0m\u001b[1;33m\u001b[0m\u001b[1;33m\u001b[0m\u001b[0m\n\u001b[0m",
      "\u001b[1;31mNameError\u001b[0m: name 'coords' is not defined"
     ]
    }
   ],
   "source": [
    "coords"
   ]
  },
  {
   "cell_type": "code",
   "execution_count": 83,
   "metadata": {
    "ExecuteTime": {
     "end_time": "2020-07-09T23:27:51.538681Z",
     "start_time": "2020-07-09T23:27:51.534664Z"
    }
   },
   "outputs": [
    {
     "data": {
      "text/plain": [
       "(17, 23, 0)"
      ]
     },
     "execution_count": 83,
     "metadata": {},
     "output_type": "execute_result"
    }
   ],
   "source": [
    "coords = (x,y,z)\n",
    "coords"
   ]
  },
  {
   "cell_type": "markdown",
   "metadata": {},
   "source": [
    "## Tuple methods"
   ]
  },
  {
   "cell_type": "code",
   "execution_count": 85,
   "metadata": {
    "ExecuteTime": {
     "end_time": "2020-07-09T23:31:19.002090Z",
     "start_time": "2020-07-09T23:31:18.997102Z"
    }
   },
   "outputs": [
    {
     "data": {
      "text/plain": [
       "0"
      ]
     },
     "execution_count": 85,
     "metadata": {},
     "output_type": "execute_result"
    }
   ],
   "source": [
    "coords.count(15)"
   ]
  },
  {
   "cell_type": "code",
   "execution_count": 86,
   "metadata": {
    "ExecuteTime": {
     "end_time": "2020-07-09T23:31:25.752964Z",
     "start_time": "2020-07-09T23:31:25.748975Z"
    }
   },
   "outputs": [
    {
     "data": {
      "text/plain": [
       "1"
      ]
     },
     "execution_count": 86,
     "metadata": {},
     "output_type": "execute_result"
    }
   ],
   "source": [
    "coords.count(23)"
   ]
  },
  {
   "cell_type": "code",
   "execution_count": 87,
   "metadata": {
    "ExecuteTime": {
     "end_time": "2020-07-09T23:32:03.570210Z",
     "start_time": "2020-07-09T23:32:03.566220Z"
    }
   },
   "outputs": [],
   "source": [
    "y = (1,3,7,4,6,3,8,8)"
   ]
  },
  {
   "cell_type": "code",
   "execution_count": 88,
   "metadata": {
    "ExecuteTime": {
     "end_time": "2020-07-09T23:32:08.200990Z",
     "start_time": "2020-07-09T23:32:08.197001Z"
    }
   },
   "outputs": [
    {
     "data": {
      "text/plain": [
       "2"
      ]
     },
     "execution_count": 88,
     "metadata": {},
     "output_type": "execute_result"
    }
   ],
   "source": [
    "y.count(8)"
   ]
  },
  {
   "cell_type": "code",
   "execution_count": 89,
   "metadata": {
    "ExecuteTime": {
     "end_time": "2020-07-09T23:32:17.479626Z",
     "start_time": "2020-07-09T23:32:17.475638Z"
    }
   },
   "outputs": [
    {
     "data": {
      "text/plain": [
       "2"
      ]
     },
     "execution_count": 89,
     "metadata": {},
     "output_type": "execute_result"
    }
   ],
   "source": [
    "y.count(3)"
   ]
  },
  {
   "cell_type": "code",
   "execution_count": 90,
   "metadata": {
    "ExecuteTime": {
     "end_time": "2020-07-09T23:33:23.204809Z",
     "start_time": "2020-07-09T23:33:23.200819Z"
    }
   },
   "outputs": [
    {
     "data": {
      "text/plain": [
       "3"
      ]
     },
     "execution_count": 90,
     "metadata": {},
     "output_type": "execute_result"
    }
   ],
   "source": [
    "y.index(4)"
   ]
  },
  {
   "cell_type": "code",
   "execution_count": 91,
   "metadata": {
    "ExecuteTime": {
     "end_time": "2020-07-09T23:34:07.000682Z",
     "start_time": "2020-07-09T23:34:06.997667Z"
    }
   },
   "outputs": [
    {
     "data": {
      "text/plain": [
       "6"
      ]
     },
     "execution_count": 91,
     "metadata": {},
     "output_type": "execute_result"
    }
   ],
   "source": [
    "y.index(8)"
   ]
  },
  {
   "cell_type": "code",
   "execution_count": 94,
   "metadata": {
    "ExecuteTime": {
     "end_time": "2020-07-09T23:35:39.143507Z",
     "start_time": "2020-07-09T23:35:39.139517Z"
    }
   },
   "outputs": [
    {
     "data": {
      "text/plain": [
       "5"
      ]
     },
     "execution_count": 94,
     "metadata": {},
     "output_type": "execute_result"
    }
   ],
   "source": [
    "y.index(3, 4)"
   ]
  },
  {
   "cell_type": "code",
   "execution_count": 95,
   "metadata": {
    "ExecuteTime": {
     "end_time": "2020-07-09T23:35:56.222853Z",
     "start_time": "2020-07-09T23:35:56.216869Z"
    }
   },
   "outputs": [
    {
     "ename": "ValueError",
     "evalue": "tuple.index(x): x not in tuple",
     "output_type": "error",
     "traceback": [
      "\u001b[1;31m---------------------------------------------------------------------------\u001b[0m",
      "\u001b[1;31mValueError\u001b[0m                                Traceback (most recent call last)",
      "\u001b[1;32m<ipython-input-95-6e5112de7c14>\u001b[0m in \u001b[0;36m<module>\u001b[1;34m\u001b[0m\n\u001b[1;32m----> 1\u001b[1;33m \u001b[0my\u001b[0m\u001b[1;33m.\u001b[0m\u001b[0mindex\u001b[0m\u001b[1;33m(\u001b[0m\u001b[1;33m(\u001b[0m\u001b[1;36m3\u001b[0m\u001b[1;33m,\u001b[0m\u001b[1;36m4\u001b[0m\u001b[1;33m)\u001b[0m\u001b[1;33m)\u001b[0m\u001b[1;33m\u001b[0m\u001b[1;33m\u001b[0m\u001b[0m\n\u001b[0m",
      "\u001b[1;31mValueError\u001b[0m: tuple.index(x): x not in tuple"
     ]
    }
   ],
   "source": [
    "y.index((3,4))"
   ]
  },
  {
   "cell_type": "code",
   "execution_count": 97,
   "metadata": {
    "ExecuteTime": {
     "end_time": "2020-07-09T23:39:24.583756Z",
     "start_time": "2020-07-09T23:39:24.580763Z"
    }
   },
   "outputs": [],
   "source": [
    "x = ((3,4), (4,7))"
   ]
  },
  {
   "cell_type": "code",
   "execution_count": 98,
   "metadata": {
    "ExecuteTime": {
     "end_time": "2020-07-09T23:39:28.515420Z",
     "start_time": "2020-07-09T23:39:28.510434Z"
    }
   },
   "outputs": [
    {
     "data": {
      "text/plain": [
       "0"
      ]
     },
     "execution_count": 98,
     "metadata": {},
     "output_type": "execute_result"
    }
   ],
   "source": [
    "x.index((3,4))"
   ]
  },
  {
   "cell_type": "markdown",
   "metadata": {},
   "source": [
    "## Slicing\n",
    "\n",
    "Taking only some elements of the tuple"
   ]
  },
  {
   "cell_type": "code",
   "execution_count": 99,
   "metadata": {
    "ExecuteTime": {
     "end_time": "2020-07-09T23:40:03.707134Z",
     "start_time": "2020-07-09T23:40:03.703144Z"
    }
   },
   "outputs": [
    {
     "data": {
      "text/plain": [
       "(13, 45, 6, 81, 3, 7, 89)"
      ]
     },
     "execution_count": 99,
     "metadata": {},
     "output_type": "execute_result"
    }
   ],
   "source": [
    "coords = (13,45,6,81,3,7,89)\n",
    "coords"
   ]
  },
  {
   "cell_type": "code",
   "execution_count": 100,
   "metadata": {
    "ExecuteTime": {
     "end_time": "2020-07-09T23:40:07.474625Z",
     "start_time": "2020-07-09T23:40:07.470637Z"
    }
   },
   "outputs": [
    {
     "data": {
      "text/plain": [
       "6"
      ]
     },
     "execution_count": 100,
     "metadata": {},
     "output_type": "execute_result"
    }
   ],
   "source": [
    "coords[2]"
   ]
  },
  {
   "cell_type": "code",
   "execution_count": 101,
   "metadata": {
    "ExecuteTime": {
     "end_time": "2020-07-09T23:40:32.232503Z",
     "start_time": "2020-07-09T23:40:32.228486Z"
    }
   },
   "outputs": [
    {
     "data": {
      "text/plain": [
       "(6, 81, 3)"
      ]
     },
     "execution_count": 101,
     "metadata": {},
     "output_type": "execute_result"
    }
   ],
   "source": [
    "coords[2:5]"
   ]
  },
  {
   "cell_type": "code",
   "execution_count": 102,
   "metadata": {
    "ExecuteTime": {
     "end_time": "2020-07-09T23:41:14.680627Z",
     "start_time": "2020-07-09T23:41:14.676637Z"
    }
   },
   "outputs": [
    {
     "data": {
      "text/plain": [
       "(45, 6, 81)"
      ]
     },
     "execution_count": 102,
     "metadata": {},
     "output_type": "execute_result"
    }
   ],
   "source": [
    "# quero pegar do 45 ao 81\n",
    "\n",
    "# [1, 4) -> 1,2,3\n",
    "coords[1:4]"
   ]
  },
  {
   "cell_type": "code",
   "execution_count": 104,
   "metadata": {
    "ExecuteTime": {
     "end_time": "2020-07-09T23:41:38.544295Z",
     "start_time": "2020-07-09T23:41:38.540306Z"
    }
   },
   "outputs": [
    {
     "data": {
      "text/plain": [
       "(3, 7, 89)"
      ]
     },
     "execution_count": 104,
     "metadata": {},
     "output_type": "execute_result"
    }
   ],
   "source": [
    "# do 45 em diante\n",
    "coords[4:]"
   ]
  },
  {
   "cell_type": "code",
   "execution_count": 105,
   "metadata": {
    "ExecuteTime": {
     "end_time": "2020-07-09T23:42:03.711847Z",
     "start_time": "2020-07-09T23:42:03.707857Z"
    }
   },
   "outputs": [
    {
     "data": {
      "text/plain": [
       "(3, 7, 89)"
      ]
     },
     "execution_count": 105,
     "metadata": {},
     "output_type": "execute_result"
    }
   ],
   "source": [
    "coords[4::]"
   ]
  },
  {
   "cell_type": "code",
   "execution_count": 106,
   "metadata": {
    "ExecuteTime": {
     "end_time": "2020-07-09T23:42:29.727629Z",
     "start_time": "2020-07-09T23:42:29.724119Z"
    }
   },
   "outputs": [
    {
     "data": {
      "text/plain": [
       "(13, 45, 6, 81, 3)"
      ]
     },
     "execution_count": 106,
     "metadata": {},
     "output_type": "execute_result"
    }
   ],
   "source": [
    "# do 3 pra tras\n",
    "# [0, 5)\n",
    "coords[:5]"
   ]
  },
  {
   "cell_type": "code",
   "execution_count": 111,
   "metadata": {
    "ExecuteTime": {
     "end_time": "2020-07-10T00:06:32.335772Z",
     "start_time": "2020-07-10T00:06:32.330785Z"
    }
   },
   "outputs": [
    {
     "data": {
      "text/plain": [
       "(3, 6, 7, 13, 45, 81, 89)"
      ]
     },
     "execution_count": 111,
     "metadata": {},
     "output_type": "execute_result"
    }
   ],
   "source": [
    "# tuple(sorted(coords))"
   ]
  },
  {
   "cell_type": "markdown",
   "metadata": {},
   "source": [
    "-----"
   ]
  },
  {
   "cell_type": "markdown",
   "metadata": {},
   "source": [
    "# DICT's"
   ]
  },
  {
   "cell_type": "markdown",
   "metadata": {},
   "source": [
    "## What is a dictionary?"
   ]
  },
  {
   "cell_type": "markdown",
   "metadata": {},
   "source": [
    "In real life, we use it to find the `description of something`."
   ]
  },
  {
   "cell_type": "markdown",
   "metadata": {},
   "source": [
    "## What are keys and values?"
   ]
  },
  {
   "cell_type": "markdown",
   "metadata": {},
   "source": [
    "`keys`: it is the `something`\n",
    "\n",
    "`values`: it is the `description` of something"
   ]
  },
  {
   "cell_type": "markdown",
   "metadata": {},
   "source": [
    "## Creating a dictionary: dict syntax"
   ]
  },
  {
   "cell_type": "code",
   "execution_count": 115,
   "metadata": {
    "ExecuteTime": {
     "end_time": "2020-07-10T00:09:37.869696Z",
     "start_time": "2020-07-10T00:09:37.865676Z"
    }
   },
   "outputs": [],
   "source": [
    "# curly braces {key:value}\n",
    "\n",
    "my_dict = {'andre' : 'lead-teacher'}"
   ]
  },
  {
   "cell_type": "code",
   "execution_count": 116,
   "metadata": {
    "ExecuteTime": {
     "end_time": "2020-07-10T00:09:39.014670Z",
     "start_time": "2020-07-10T00:09:39.010682Z"
    }
   },
   "outputs": [
    {
     "data": {
      "text/plain": [
       "{'andre': 'lead-teacher'}"
      ]
     },
     "execution_count": 116,
     "metadata": {},
     "output_type": "execute_result"
    }
   ],
   "source": [
    "my_dict"
   ]
  },
  {
   "cell_type": "code",
   "execution_count": 117,
   "metadata": {
    "ExecuteTime": {
     "end_time": "2020-07-10T00:09:42.259485Z",
     "start_time": "2020-07-10T00:09:42.254499Z"
    }
   },
   "outputs": [
    {
     "data": {
      "text/plain": [
       "dict"
      ]
     },
     "execution_count": 117,
     "metadata": {},
     "output_type": "execute_result"
    }
   ],
   "source": [
    "type(my_dict)"
   ]
  },
  {
   "cell_type": "markdown",
   "metadata": {},
   "source": [
    "## Accessing a dictionary value:"
   ]
  },
  {
   "cell_type": "code",
   "execution_count": 118,
   "metadata": {
    "ExecuteTime": {
     "end_time": "2020-07-10T00:10:26.565681Z",
     "start_time": "2020-07-10T00:10:26.560695Z"
    }
   },
   "outputs": [
    {
     "data": {
      "text/plain": [
       "'lead-teacher'"
      ]
     },
     "execution_count": 118,
     "metadata": {},
     "output_type": "execute_result"
    }
   ],
   "source": [
    "my_dict['andre']"
   ]
  },
  {
   "cell_type": "code",
   "execution_count": 119,
   "metadata": {
    "ExecuteTime": {
     "end_time": "2020-07-10T00:11:02.266191Z",
     "start_time": "2020-07-10T00:11:02.262202Z"
    }
   },
   "outputs": [],
   "source": [
    "my_dict = {1 : 'lead-teacher'}"
   ]
  },
  {
   "cell_type": "code",
   "execution_count": 120,
   "metadata": {
    "ExecuteTime": {
     "end_time": "2020-07-10T00:11:06.242080Z",
     "start_time": "2020-07-10T00:11:06.238090Z"
    }
   },
   "outputs": [
    {
     "data": {
      "text/plain": [
       "{1: 'lead-teacher'}"
      ]
     },
     "execution_count": 120,
     "metadata": {},
     "output_type": "execute_result"
    }
   ],
   "source": [
    "my_dict"
   ]
  },
  {
   "cell_type": "code",
   "execution_count": 121,
   "metadata": {
    "ExecuteTime": {
     "end_time": "2020-07-10T00:11:22.408503Z",
     "start_time": "2020-07-10T00:11:22.404513Z"
    }
   },
   "outputs": [
    {
     "data": {
      "text/plain": [
       "'lead-teacher'"
      ]
     },
     "execution_count": 121,
     "metadata": {},
     "output_type": "execute_result"
    }
   ],
   "source": [
    "my_dict[1]"
   ]
  },
  {
   "cell_type": "code",
   "execution_count": 127,
   "metadata": {
    "ExecuteTime": {
     "end_time": "2020-07-10T00:12:31.956515Z",
     "start_time": "2020-07-10T00:12:31.953523Z"
    }
   },
   "outputs": [],
   "source": [
    "my_dict = {1 : 'lead-teacher',\n",
    "           'andre' : 8,\n",
    "           'rodrigo': [1,76,9]}"
   ]
  },
  {
   "cell_type": "code",
   "execution_count": 125,
   "metadata": {
    "ExecuteTime": {
     "end_time": "2020-07-10T00:12:03.315407Z",
     "start_time": "2020-07-10T00:12:03.312408Z"
    }
   },
   "outputs": [
    {
     "data": {
      "text/plain": [
       "{1: 'lead-teacher', 'andre': 8}"
      ]
     },
     "execution_count": 125,
     "metadata": {},
     "output_type": "execute_result"
    }
   ],
   "source": [
    "my_dict"
   ]
  },
  {
   "cell_type": "code",
   "execution_count": 126,
   "metadata": {
    "ExecuteTime": {
     "end_time": "2020-07-10T00:12:14.541164Z",
     "start_time": "2020-07-10T00:12:14.537147Z"
    }
   },
   "outputs": [
    {
     "data": {
      "text/plain": [
       "8"
      ]
     },
     "execution_count": 126,
     "metadata": {},
     "output_type": "execute_result"
    }
   ],
   "source": [
    "my_dict['andre']"
   ]
  },
  {
   "cell_type": "code",
   "execution_count": 129,
   "metadata": {
    "ExecuteTime": {
     "end_time": "2020-07-10T00:13:53.097747Z",
     "start_time": "2020-07-10T00:13:53.093786Z"
    }
   },
   "outputs": [
    {
     "data": {
      "text/plain": [
       "1"
      ]
     },
     "execution_count": 129,
     "metadata": {},
     "output_type": "execute_result"
    }
   ],
   "source": [
    "my_dict['rodrigo'][0]"
   ]
  },
  {
   "cell_type": "code",
   "execution_count": 135,
   "metadata": {
    "ExecuteTime": {
     "end_time": "2020-07-10T00:16:24.710865Z",
     "start_time": "2020-07-10T00:16:24.707873Z"
    }
   },
   "outputs": [],
   "source": [
    "x = { \n",
    "     'Darua': 'Student',\n",
    "     'Rodrigo': 'Teacher Assistant',\n",
    "     'andre' : 'Lead Teacher',\n",
    "     '3' : 3\n",
    "}\n"
   ]
  },
  {
   "cell_type": "code",
   "execution_count": 131,
   "metadata": {
    "ExecuteTime": {
     "end_time": "2020-07-10T00:15:06.904695Z",
     "start_time": "2020-07-10T00:15:06.898711Z"
    }
   },
   "outputs": [
    {
     "ename": "KeyError",
     "evalue": "0",
     "output_type": "error",
     "traceback": [
      "\u001b[1;31m---------------------------------------------------------------------------\u001b[0m",
      "\u001b[1;31mKeyError\u001b[0m                                  Traceback (most recent call last)",
      "\u001b[1;32m<ipython-input-131-2f755f117ac9>\u001b[0m in \u001b[0;36m<module>\u001b[1;34m\u001b[0m\n\u001b[1;32m----> 1\u001b[1;33m \u001b[0mx\u001b[0m\u001b[1;33m[\u001b[0m\u001b[1;36m0\u001b[0m\u001b[1;33m]\u001b[0m\u001b[1;33m\u001b[0m\u001b[1;33m\u001b[0m\u001b[0m\n\u001b[0m",
      "\u001b[1;31mKeyError\u001b[0m: 0"
     ]
    }
   ],
   "source": [
    "x[0]"
   ]
  },
  {
   "cell_type": "code",
   "execution_count": 134,
   "metadata": {
    "ExecuteTime": {
     "end_time": "2020-07-10T00:15:57.575948Z",
     "start_time": "2020-07-10T00:15:57.572928Z"
    }
   },
   "outputs": [
    {
     "data": {
      "text/plain": [
       "'Lead Teacher'"
      ]
     },
     "execution_count": 134,
     "metadata": {},
     "output_type": "execute_result"
    }
   ],
   "source": [
    "x['andre']"
   ]
  },
  {
   "cell_type": "code",
   "execution_count": 132,
   "metadata": {
    "ExecuteTime": {
     "end_time": "2020-07-10T00:15:32.511547Z",
     "start_time": "2020-07-10T00:15:32.508528Z"
    }
   },
   "outputs": [
    {
     "data": {
      "text/plain": [
       "'Student'"
      ]
     },
     "execution_count": 132,
     "metadata": {},
     "output_type": "execute_result"
    }
   ],
   "source": [
    "x['Darua']"
   ]
  },
  {
   "cell_type": "code",
   "execution_count": 138,
   "metadata": {
    "ExecuteTime": {
     "end_time": "2020-07-10T00:16:50.552870Z",
     "start_time": "2020-07-10T00:16:50.548880Z"
    }
   },
   "outputs": [
    {
     "data": {
      "text/plain": [
       "3"
      ]
     },
     "execution_count": 138,
     "metadata": {},
     "output_type": "execute_result"
    }
   ],
   "source": [
    "x['3']"
   ]
  },
  {
   "cell_type": "code",
   "execution_count": 146,
   "metadata": {
    "ExecuteTime": {
     "end_time": "2020-07-10T00:20:53.724639Z",
     "start_time": "2020-07-10T00:20:53.721610Z"
    }
   },
   "outputs": [],
   "source": [
    "# de-para\n",
    "\n",
    "mapear_cores = {\n",
    "    'amarelo' : 0,\n",
    "    'vermelho' : 1,\n",
    "    'azul': 2\n",
    "}\n",
    "\n",
    "mapear_cores_reverse = {\n",
    "    'amarelo' : 2,\n",
    "    'vermelho' : 1,\n",
    "    'azul': 0\n",
    "}"
   ]
  },
  {
   "cell_type": "code",
   "execution_count": 141,
   "metadata": {
    "ExecuteTime": {
     "end_time": "2020-07-10T00:18:20.013059Z",
     "start_time": "2020-07-10T00:18:20.009069Z"
    }
   },
   "outputs": [
    {
     "data": {
      "text/plain": [
       "['amarelo', 'vermelho', 'vermelho', 'vermelho', 'vermelho', 'azul', 'amarelo']"
      ]
     },
     "execution_count": 141,
     "metadata": {},
     "output_type": "execute_result"
    }
   ],
   "source": [
    "my_list = ['amarelo', 'vermelho','vermelho','vermelho','vermelho','azul','amarelo']\n",
    "my_list"
   ]
  },
  {
   "cell_type": "code",
   "execution_count": 143,
   "metadata": {
    "ExecuteTime": {
     "end_time": "2020-07-10T00:18:41.343542Z",
     "start_time": "2020-07-10T00:18:41.340549Z"
    }
   },
   "outputs": [
    {
     "data": {
      "text/plain": [
       "2"
      ]
     },
     "execution_count": 143,
     "metadata": {},
     "output_type": "execute_result"
    }
   ],
   "source": [
    "mapear_cores['azul']"
   ]
  },
  {
   "cell_type": "code",
   "execution_count": 145,
   "metadata": {
    "ExecuteTime": {
     "end_time": "2020-07-10T00:19:47.011049Z",
     "start_time": "2020-07-10T00:19:47.007060Z"
    }
   },
   "outputs": [
    {
     "name": "stdout",
     "output_type": "stream",
     "text": [
      "0\n",
      "1\n",
      "1\n",
      "1\n",
      "1\n",
      "2\n",
      "0\n"
     ]
    }
   ],
   "source": [
    "for each_color in my_list:\n",
    "    print(mapear_cores[each_color])"
   ]
  },
  {
   "cell_type": "code",
   "execution_count": null,
   "metadata": {},
   "outputs": [],
   "source": [
    "# counter -= 1\n",
    "# counter = counter - 1"
   ]
  },
  {
   "cell_type": "code",
   "execution_count": 148,
   "metadata": {
    "ExecuteTime": {
     "end_time": "2020-07-10T00:23:39.542290Z",
     "start_time": "2020-07-10T00:23:39.537304Z"
    }
   },
   "outputs": [
    {
     "name": "stdout",
     "output_type": "stream",
     "text": [
      "Usando mapear cores\n",
      "amarelo 0 0\n",
      "Usando mapear cores\n",
      "vermelho 1 1\n",
      "Usando mapear cores\n",
      "vermelho 1 2\n",
      "Usando mapear cores\n",
      "vermelho 1 3\n",
      "Usando mapear cores reverse\n",
      "vermelho 1 4\n",
      "Usando mapear cores reverse\n",
      "azul 0 5\n",
      "Usando mapear cores reverse\n",
      "amarelo 2 6\n"
     ]
    }
   ],
   "source": [
    "counter = 0\n",
    "\n",
    "for each_color in my_list:\n",
    "    counter = counter + 1\n",
    "    # counter += 1\n",
    "    if counter < 4:\n",
    "        print('Usando mapear cores')\n",
    "        print(each_color, mapear_cores[each_color], counter)\n",
    "    else:\n",
    "        print('Usando mapear cores reverse')\n",
    "        print(each_color, mapear_cores_reverse[each_color], counter)"
   ]
  },
  {
   "cell_type": "markdown",
   "metadata": {},
   "source": [
    "## Dict methods"
   ]
  },
  {
   "cell_type": "code",
   "execution_count": 149,
   "metadata": {
    "ExecuteTime": {
     "end_time": "2020-07-10T00:27:48.318019Z",
     "start_time": "2020-07-10T00:27:48.314028Z"
    }
   },
   "outputs": [
    {
     "data": {
      "text/plain": [
       "{'Darua': 'Student',\n",
       " 'Rodrigo': 'Teacher Assistant',\n",
       " 'andre': 'Lead Teacher',\n",
       " '3': 3}"
      ]
     },
     "execution_count": 149,
     "metadata": {},
     "output_type": "execute_result"
    }
   ],
   "source": [
    "x"
   ]
  },
  {
   "cell_type": "code",
   "execution_count": 150,
   "metadata": {
    "ExecuteTime": {
     "end_time": "2020-07-10T00:28:43.484813Z",
     "start_time": "2020-07-10T00:28:43.481796Z"
    }
   },
   "outputs": [
    {
     "data": {
      "text/plain": [
       "dict_keys(['Darua', 'Rodrigo', 'andre', '3'])"
      ]
     },
     "execution_count": 150,
     "metadata": {},
     "output_type": "execute_result"
    }
   ],
   "source": [
    "x.keys()"
   ]
  },
  {
   "cell_type": "code",
   "execution_count": 151,
   "metadata": {
    "ExecuteTime": {
     "end_time": "2020-07-10T00:29:18.487697Z",
     "start_time": "2020-07-10T00:29:18.483708Z"
    }
   },
   "outputs": [
    {
     "data": {
      "text/plain": [
       "dict_values(['Student', 'Teacher Assistant', 'Lead Teacher', 3])"
      ]
     },
     "execution_count": 151,
     "metadata": {},
     "output_type": "execute_result"
    }
   ],
   "source": [
    "x.values()"
   ]
  },
  {
   "cell_type": "code",
   "execution_count": 152,
   "metadata": {
    "ExecuteTime": {
     "end_time": "2020-07-10T00:29:35.114148Z",
     "start_time": "2020-07-10T00:29:35.111156Z"
    }
   },
   "outputs": [
    {
     "data": {
      "text/plain": [
       "dict_items([('Darua', 'Student'), ('Rodrigo', 'Teacher Assistant'), ('andre', 'Lead Teacher'), ('3', 3)])"
      ]
     },
     "execution_count": 152,
     "metadata": {},
     "output_type": "execute_result"
    }
   ],
   "source": [
    "x.items()"
   ]
  },
  {
   "cell_type": "code",
   "execution_count": 153,
   "metadata": {
    "ExecuteTime": {
     "end_time": "2020-07-10T00:30:27.636419Z",
     "start_time": "2020-07-10T00:30:27.632430Z"
    }
   },
   "outputs": [
    {
     "data": {
      "text/plain": [
       "dict_keys(['Darua', 'Rodrigo', 'andre', '3'])"
      ]
     },
     "execution_count": 153,
     "metadata": {},
     "output_type": "execute_result"
    }
   ],
   "source": [
    "x.keys()"
   ]
  },
  {
   "cell_type": "code",
   "execution_count": 154,
   "metadata": {
    "ExecuteTime": {
     "end_time": "2020-07-10T00:30:31.561292Z",
     "start_time": "2020-07-10T00:30:31.557267Z"
    }
   },
   "outputs": [
    {
     "data": {
      "text/plain": [
       "['Darua', 'Rodrigo', 'andre', '3']"
      ]
     },
     "execution_count": 154,
     "metadata": {},
     "output_type": "execute_result"
    }
   ],
   "source": [
    "list(x.keys())"
   ]
  },
  {
   "cell_type": "code",
   "execution_count": 155,
   "metadata": {
    "ExecuteTime": {
     "end_time": "2020-07-10T00:31:17.862334Z",
     "start_time": "2020-07-10T00:31:17.858344Z"
    }
   },
   "outputs": [
    {
     "name": "stdout",
     "output_type": "stream",
     "text": [
      "Darua\n",
      "Rodrigo\n",
      "andre\n",
      "3\n"
     ]
    }
   ],
   "source": [
    "for each_key in x.keys():\n",
    "    print(each_key)"
   ]
  },
  {
   "cell_type": "code",
   "execution_count": 159,
   "metadata": {
    "ExecuteTime": {
     "end_time": "2020-07-10T00:31:51.896778Z",
     "start_time": "2020-07-10T00:31:51.892789Z"
    }
   },
   "outputs": [
    {
     "data": {
      "text/plain": [
       "'Student'"
      ]
     },
     "execution_count": 159,
     "metadata": {},
     "output_type": "execute_result"
    }
   ],
   "source": [
    "list(x.values())[0]"
   ]
  },
  {
   "cell_type": "code",
   "execution_count": 160,
   "metadata": {
    "ExecuteTime": {
     "end_time": "2020-07-10T00:32:06.439753Z",
     "start_time": "2020-07-10T00:32:06.436760Z"
    }
   },
   "outputs": [
    {
     "name": "stdout",
     "output_type": "stream",
     "text": [
      "Student\n",
      "Teacher Assistant\n",
      "Lead Teacher\n",
      "3\n"
     ]
    }
   ],
   "source": [
    "for valor in x.values():\n",
    "    print(valor)"
   ]
  },
  {
   "cell_type": "markdown",
   "metadata": {},
   "source": [
    "## Iterating through a dict"
   ]
  },
  {
   "cell_type": "code",
   "execution_count": 161,
   "metadata": {
    "ExecuteTime": {
     "end_time": "2020-07-10T00:32:18.522307Z",
     "start_time": "2020-07-10T00:32:18.518319Z"
    }
   },
   "outputs": [
    {
     "data": {
      "text/plain": [
       "dict_items([('Darua', 'Student'), ('Rodrigo', 'Teacher Assistant'), ('andre', 'Lead Teacher'), ('3', 3)])"
      ]
     },
     "execution_count": 161,
     "metadata": {},
     "output_type": "execute_result"
    }
   ],
   "source": [
    "x.items()"
   ]
  },
  {
   "cell_type": "code",
   "execution_count": 162,
   "metadata": {
    "ExecuteTime": {
     "end_time": "2020-07-10T00:32:44.127249Z",
     "start_time": "2020-07-10T00:32:44.123259Z"
    }
   },
   "outputs": [
    {
     "name": "stdout",
     "output_type": "stream",
     "text": [
      "('Darua', 'Student')\n",
      "('Rodrigo', 'Teacher Assistant')\n",
      "('andre', 'Lead Teacher')\n",
      "('3', 3)\n"
     ]
    }
   ],
   "source": [
    "for each_item in x.items():\n",
    "    print(each_item)"
   ]
  },
  {
   "cell_type": "code",
   "execution_count": 163,
   "metadata": {
    "ExecuteTime": {
     "end_time": "2020-07-10T00:33:26.331574Z",
     "start_time": "2020-07-10T00:33:26.326588Z"
    }
   },
   "outputs": [
    {
     "data": {
      "text/plain": [
       "4"
      ]
     },
     "execution_count": 163,
     "metadata": {},
     "output_type": "execute_result"
    }
   ],
   "source": [
    "y, z = (3, 4)\n",
    "z"
   ]
  },
  {
   "cell_type": "markdown",
   "metadata": {},
   "source": [
    "## Loops can receive more than 1 argument"
   ]
  },
  {
   "cell_type": "code",
   "execution_count": 165,
   "metadata": {
    "ExecuteTime": {
     "end_time": "2020-07-10T00:34:29.463563Z",
     "start_time": "2020-07-10T00:34:29.459573Z"
    }
   },
   "outputs": [
    {
     "name": "stdout",
     "output_type": "stream",
     "text": [
      "andre Lead Teacher\n"
     ]
    }
   ],
   "source": [
    "for key, value in x.items():\n",
    "    if value == 'Lead Teacher':\n",
    "        print(key, value)"
   ]
  },
  {
   "cell_type": "markdown",
   "metadata": {},
   "source": [
    "## Verifying if dict contains something"
   ]
  },
  {
   "cell_type": "code",
   "execution_count": 166,
   "metadata": {
    "ExecuteTime": {
     "end_time": "2020-07-10T00:34:57.383338Z",
     "start_time": "2020-07-10T00:34:57.378351Z"
    }
   },
   "outputs": [
    {
     "data": {
      "text/plain": [
       "{'Darua': 'Student',\n",
       " 'Rodrigo': 'Teacher Assistant',\n",
       " 'andre': 'Lead Teacher',\n",
       " '3': 3}"
      ]
     },
     "execution_count": 166,
     "metadata": {},
     "output_type": "execute_result"
    }
   ],
   "source": [
    "x"
   ]
  },
  {
   "cell_type": "code",
   "execution_count": 167,
   "metadata": {
    "ExecuteTime": {
     "end_time": "2020-07-10T00:35:27.646645Z",
     "start_time": "2020-07-10T00:35:27.642656Z"
    }
   },
   "outputs": [
    {
     "data": {
      "text/plain": [
       "False"
      ]
     },
     "execution_count": 167,
     "metadata": {},
     "output_type": "execute_result"
    }
   ],
   "source": [
    "# how it works with lists?\n",
    "4 in [1, 2, 3]"
   ]
  },
  {
   "cell_type": "code",
   "execution_count": 168,
   "metadata": {
    "ExecuteTime": {
     "end_time": "2020-07-10T00:35:34.512323Z",
     "start_time": "2020-07-10T00:35:34.508334Z"
    }
   },
   "outputs": [
    {
     "data": {
      "text/plain": [
       "True"
      ]
     },
     "execution_count": 168,
     "metadata": {},
     "output_type": "execute_result"
    }
   ],
   "source": [
    "1 in [1, 2, 3]"
   ]
  },
  {
   "cell_type": "markdown",
   "metadata": {},
   "source": [
    "actually, it works like this with any **iterator**"
   ]
  },
  {
   "cell_type": "code",
   "execution_count": 170,
   "metadata": {
    "ExecuteTime": {
     "end_time": "2020-07-10T00:35:58.854050Z",
     "start_time": "2020-07-10T00:35:58.851057Z"
    }
   },
   "outputs": [
    {
     "data": {
      "text/plain": [
       "True"
      ]
     },
     "execution_count": 170,
     "metadata": {},
     "output_type": "execute_result"
    }
   ],
   "source": [
    "'andre' in x.keys()"
   ]
  },
  {
   "cell_type": "code",
   "execution_count": 171,
   "metadata": {
    "ExecuteTime": {
     "end_time": "2020-07-10T00:36:03.643891Z",
     "start_time": "2020-07-10T00:36:03.639929Z"
    }
   },
   "outputs": [
    {
     "data": {
      "text/plain": [
       "False"
      ]
     },
     "execution_count": 171,
     "metadata": {},
     "output_type": "execute_result"
    }
   ],
   "source": [
    "'Andre' in x.keys()"
   ]
  },
  {
   "cell_type": "markdown",
   "metadata": {},
   "source": [
    "## Adicionar chaves no dicionario"
   ]
  },
  {
   "cell_type": "code",
   "execution_count": 172,
   "metadata": {
    "ExecuteTime": {
     "end_time": "2020-07-10T00:36:30.890999Z",
     "start_time": "2020-07-10T00:36:30.887011Z"
    }
   },
   "outputs": [
    {
     "data": {
      "text/plain": [
       "{'amarelo': 0, 'vermelho': 1, 'azul': 2}"
      ]
     },
     "execution_count": 172,
     "metadata": {},
     "output_type": "execute_result"
    }
   ],
   "source": [
    "mapear_cores"
   ]
  },
  {
   "cell_type": "code",
   "execution_count": 174,
   "metadata": {
    "ExecuteTime": {
     "end_time": "2020-07-10T00:37:10.438927Z",
     "start_time": "2020-07-10T00:37:10.434938Z"
    }
   },
   "outputs": [],
   "source": [
    "mapear_cores['preto'] = 3"
   ]
  },
  {
   "cell_type": "code",
   "execution_count": 175,
   "metadata": {
    "ExecuteTime": {
     "end_time": "2020-07-10T00:37:12.204833Z",
     "start_time": "2020-07-10T00:37:12.200853Z"
    }
   },
   "outputs": [
    {
     "data": {
      "text/plain": [
       "{'amarelo': 0, 'vermelho': 1, 'azul': 2, 'preto': 3}"
      ]
     },
     "execution_count": 175,
     "metadata": {},
     "output_type": "execute_result"
    }
   ],
   "source": [
    "mapear_cores"
   ]
  },
  {
   "cell_type": "code",
   "execution_count": 176,
   "metadata": {
    "ExecuteTime": {
     "end_time": "2020-07-10T00:37:31.432994Z",
     "start_time": "2020-07-10T00:37:31.429005Z"
    }
   },
   "outputs": [
    {
     "data": {
      "text/plain": [
       "{'azul-marinho': 10, 'branco': 5}"
      ]
     },
     "execution_count": 176,
     "metadata": {},
     "output_type": "execute_result"
    }
   ],
   "source": [
    "{'azul-marinho' : 10, 'branco' : 5}"
   ]
  },
  {
   "cell_type": "code",
   "execution_count": 177,
   "metadata": {
    "ExecuteTime": {
     "end_time": "2020-07-10T00:37:57.296864Z",
     "start_time": "2020-07-10T00:37:57.292875Z"
    }
   },
   "outputs": [],
   "source": [
    "mapear_cores.update({'azul-marinho' : 10, 'branco' : 5})"
   ]
  },
  {
   "cell_type": "code",
   "execution_count": 178,
   "metadata": {
    "ExecuteTime": {
     "end_time": "2020-07-10T00:37:59.790500Z",
     "start_time": "2020-07-10T00:37:59.786509Z"
    }
   },
   "outputs": [
    {
     "data": {
      "text/plain": [
       "{'amarelo': 0,\n",
       " 'vermelho': 1,\n",
       " 'azul': 2,\n",
       " 'preto': 3,\n",
       " 'azul-marinho': 10,\n",
       " 'branco': 5}"
      ]
     },
     "execution_count": 178,
     "metadata": {},
     "output_type": "execute_result"
    }
   ],
   "source": [
    "mapear_cores"
   ]
  },
  {
   "cell_type": "code",
   "execution_count": 179,
   "metadata": {
    "ExecuteTime": {
     "end_time": "2020-07-10T00:38:43.317974Z",
     "start_time": "2020-07-10T00:38:43.314980Z"
    }
   },
   "outputs": [],
   "source": [
    "mapear_cores.update({'amarelo': 13})"
   ]
  },
  {
   "cell_type": "code",
   "execution_count": 182,
   "metadata": {
    "ExecuteTime": {
     "end_time": "2020-07-10T00:39:28.157201Z",
     "start_time": "2020-07-10T00:39:28.153212Z"
    }
   },
   "outputs": [
    {
     "data": {
      "text/plain": [
       "{'amarelo': 13,\n",
       " 'vermelho': 1,\n",
       " 'azul': 2,\n",
       " 'preto': 3,\n",
       " 'azul-marinho': 10,\n",
       " 'branco': 5}"
      ]
     },
     "execution_count": 182,
     "metadata": {},
     "output_type": "execute_result"
    }
   ],
   "source": [
    "mapear_cores"
   ]
  },
  {
   "cell_type": "code",
   "execution_count": 183,
   "metadata": {
    "ExecuteTime": {
     "end_time": "2020-07-10T00:40:03.971153Z",
     "start_time": "2020-07-10T00:40:03.967146Z"
    }
   },
   "outputs": [],
   "source": [
    "mapear_cores.update({'amarelo': 10})"
   ]
  },
  {
   "cell_type": "code",
   "execution_count": 184,
   "metadata": {
    "ExecuteTime": {
     "end_time": "2020-07-10T00:40:06.235612Z",
     "start_time": "2020-07-10T00:40:06.231592Z"
    }
   },
   "outputs": [
    {
     "data": {
      "text/plain": [
       "{'amarelo': 10,\n",
       " 'vermelho': 1,\n",
       " 'azul': 2,\n",
       " 'preto': 3,\n",
       " 'azul-marinho': 10,\n",
       " 'branco': 5}"
      ]
     },
     "execution_count": 184,
     "metadata": {},
     "output_type": "execute_result"
    }
   ],
   "source": [
    "mapear_cores"
   ]
  },
  {
   "cell_type": "code",
   "execution_count": 185,
   "metadata": {
    "ExecuteTime": {
     "end_time": "2020-07-10T00:40:25.545923Z",
     "start_time": "2020-07-10T00:40:25.541934Z"
    }
   },
   "outputs": [
    {
     "data": {
      "text/plain": [
       "{'Darua': 'Student',\n",
       " 'Rodrigo': 'Teacher Assistant',\n",
       " 'andre': 'Lead Teacher',\n",
       " '3': 3}"
      ]
     },
     "execution_count": 185,
     "metadata": {},
     "output_type": "execute_result"
    }
   ],
   "source": [
    "x"
   ]
  },
  {
   "cell_type": "markdown",
   "metadata": {},
   "source": [
    "# SETS"
   ]
  },
  {
   "cell_type": "code",
   "execution_count": 187,
   "metadata": {
    "ExecuteTime": {
     "end_time": "2020-07-10T00:41:16.349560Z",
     "start_time": "2020-07-10T00:41:16.345571Z"
    }
   },
   "outputs": [
    {
     "data": {
      "text/plain": [
       "{1, 2}"
      ]
     },
     "execution_count": 187,
     "metadata": {},
     "output_type": "execute_result"
    }
   ],
   "source": [
    "set((1,2))"
   ]
  },
  {
   "cell_type": "code",
   "execution_count": 188,
   "metadata": {
    "ExecuteTime": {
     "end_time": "2020-07-10T00:41:55.690528Z",
     "start_time": "2020-07-10T00:41:55.686511Z"
    }
   },
   "outputs": [
    {
     "data": {
      "text/plain": [
       "{1, 2, 3, 4, 5}"
      ]
     },
     "execution_count": 188,
     "metadata": {},
     "output_type": "execute_result"
    }
   ],
   "source": [
    "x = set([1,2,3,4,4,4,4,4,5])\n",
    "x"
   ]
  },
  {
   "cell_type": "code",
   "execution_count": 189,
   "metadata": {
    "ExecuteTime": {
     "end_time": "2020-07-10T00:42:16.991900Z",
     "start_time": "2020-07-10T00:42:16.987910Z"
    }
   },
   "outputs": [
    {
     "data": {
      "text/plain": [
       "{4, 5, 6, 7, 8}"
      ]
     },
     "execution_count": 189,
     "metadata": {},
     "output_type": "execute_result"
    }
   ],
   "source": [
    "y = set([4,5,6,7,8,8,6,7])\n",
    "y"
   ]
  },
  {
   "cell_type": "code",
   "execution_count": 190,
   "metadata": {
    "ExecuteTime": {
     "end_time": "2020-07-10T00:42:29.600067Z",
     "start_time": "2020-07-10T00:42:29.596053Z"
    }
   },
   "outputs": [
    {
     "data": {
      "text/plain": [
       "set"
      ]
     },
     "execution_count": 190,
     "metadata": {},
     "output_type": "execute_result"
    }
   ],
   "source": [
    "type(x)"
   ]
  },
  {
   "cell_type": "markdown",
   "metadata": {},
   "source": [
    "## Sets methods."
   ]
  },
  {
   "cell_type": "code",
   "execution_count": 191,
   "metadata": {
    "ExecuteTime": {
     "end_time": "2020-07-10T00:42:33.899233Z",
     "start_time": "2020-07-10T00:42:33.895246Z"
    }
   },
   "outputs": [
    {
     "data": {
      "text/plain": [
       "{1, 2, 3, 4, 5}"
      ]
     },
     "execution_count": 191,
     "metadata": {},
     "output_type": "execute_result"
    }
   ],
   "source": [
    "x"
   ]
  },
  {
   "cell_type": "code",
   "execution_count": 192,
   "metadata": {
    "ExecuteTime": {
     "end_time": "2020-07-10T00:42:35.273183Z",
     "start_time": "2020-07-10T00:42:35.269165Z"
    }
   },
   "outputs": [
    {
     "data": {
      "text/plain": [
       "{4, 5, 6, 7, 8}"
      ]
     },
     "execution_count": 192,
     "metadata": {},
     "output_type": "execute_result"
    }
   ],
   "source": [
    "y"
   ]
  },
  {
   "cell_type": "code",
   "execution_count": 193,
   "metadata": {
    "ExecuteTime": {
     "end_time": "2020-07-10T00:43:05.018692Z",
     "start_time": "2020-07-10T00:43:05.013676Z"
    }
   },
   "outputs": [
    {
     "data": {
      "text/plain": [
       "{4, 5}"
      ]
     },
     "execution_count": 193,
     "metadata": {},
     "output_type": "execute_result"
    }
   ],
   "source": [
    "x.intersection(y)"
   ]
  },
  {
   "cell_type": "code",
   "execution_count": 194,
   "metadata": {
    "ExecuteTime": {
     "end_time": "2020-07-10T00:43:11.000626Z",
     "start_time": "2020-07-10T00:43:10.996637Z"
    }
   },
   "outputs": [
    {
     "data": {
      "text/plain": [
       "{1, 2, 3}"
      ]
     },
     "execution_count": 194,
     "metadata": {},
     "output_type": "execute_result"
    }
   ],
   "source": [
    "x.difference(y)"
   ]
  },
  {
   "cell_type": "code",
   "execution_count": 195,
   "metadata": {
    "ExecuteTime": {
     "end_time": "2020-07-10T00:43:50.192880Z",
     "start_time": "2020-07-10T00:43:50.188865Z"
    }
   },
   "outputs": [
    {
     "data": {
      "text/plain": [
       "{6, 7, 8}"
      ]
     },
     "execution_count": 195,
     "metadata": {},
     "output_type": "execute_result"
    }
   ],
   "source": [
    "y.difference(x)"
   ]
  },
  {
   "cell_type": "code",
   "execution_count": 196,
   "metadata": {
    "ExecuteTime": {
     "end_time": "2020-07-10T00:43:56.810617Z",
     "start_time": "2020-07-10T00:43:56.806629Z"
    }
   },
   "outputs": [
    {
     "data": {
      "text/plain": [
       "{1, 2, 3}"
      ]
     },
     "execution_count": 196,
     "metadata": {},
     "output_type": "execute_result"
    }
   ],
   "source": [
    "x - y"
   ]
  },
  {
   "cell_type": "code",
   "execution_count": 197,
   "metadata": {
    "ExecuteTime": {
     "end_time": "2020-07-10T00:44:02.486819Z",
     "start_time": "2020-07-10T00:44:02.482829Z"
    }
   },
   "outputs": [
    {
     "data": {
      "text/plain": [
       "{6, 7, 8}"
      ]
     },
     "execution_count": 197,
     "metadata": {},
     "output_type": "execute_result"
    }
   ],
   "source": [
    "y - x"
   ]
  },
  {
   "cell_type": "code",
   "execution_count": 198,
   "metadata": {
    "ExecuteTime": {
     "end_time": "2020-07-10T00:44:15.634469Z",
     "start_time": "2020-07-10T00:44:15.629483Z"
    }
   },
   "outputs": [
    {
     "data": {
      "text/plain": [
       "{1, 2, 3, 4, 5, 6, 7, 8}"
      ]
     },
     "execution_count": 198,
     "metadata": {},
     "output_type": "execute_result"
    }
   ],
   "source": [
    "x.union(y)"
   ]
  },
  {
   "cell_type": "code",
   "execution_count": 199,
   "metadata": {
    "ExecuteTime": {
     "end_time": "2020-07-10T00:44:50.502397Z",
     "start_time": "2020-07-10T00:44:50.498409Z"
    }
   },
   "outputs": [
    {
     "data": {
      "text/plain": [
       "{1, 2, 3, 6, 7, 8}"
      ]
     },
     "execution_count": 199,
     "metadata": {},
     "output_type": "execute_result"
    }
   ],
   "source": [
    "y.symmetric_difference(x)"
   ]
  },
  {
   "cell_type": "code",
   "execution_count": 200,
   "metadata": {
    "ExecuteTime": {
     "end_time": "2020-07-10T00:47:18.291003Z",
     "start_time": "2020-07-10T00:47:18.286016Z"
    }
   },
   "outputs": [
    {
     "name": "stdout",
     "output_type": "stream",
     "text": [
      "Missing columns: {'vlr_cheques'}\n"
     ]
    }
   ],
   "source": [
    "# Practical example\n",
    "col_names = ['qtd_cartoes', 'vlr_cartao','qtd_cheques','vlr_cheques']\n",
    "\n",
    "incoming_col_names = ['qtd_cartoes', 'vlr_cartao','qtd_cheques','vlr_cheque']\n",
    "\n",
    "print(f'Missing columns: {set(col_names) - set(incoming_col_names)}')"
   ]
  },
  {
   "cell_type": "code",
   "execution_count": 201,
   "metadata": {
    "ExecuteTime": {
     "end_time": "2020-07-10T00:47:42.106276Z",
     "start_time": "2020-07-10T00:47:42.102287Z"
    }
   },
   "outputs": [
    {
     "name": "stdout",
     "output_type": "stream",
     "text": [
      "Found columns: {'vlr_cheque'}\n"
     ]
    }
   ],
   "source": [
    "print(f'Found columns: {set(incoming_col_names) - set(col_names)}')"
   ]
  },
  {
   "cell_type": "code",
   "execution_count": 204,
   "metadata": {
    "ExecuteTime": {
     "end_time": "2020-07-10T00:49:27.824982Z",
     "start_time": "2020-07-10T00:49:27.819995Z"
    }
   },
   "outputs": [
    {
     "data": {
      "text/plain": [
       "{'vlr_cheques'}"
      ]
     },
     "execution_count": 204,
     "metadata": {},
     "output_type": "execute_result"
    }
   ],
   "source": [
    "set(col_names) - set(incoming_col_names)"
   ]
  },
  {
   "cell_type": "markdown",
   "metadata": {},
   "source": [
    "### List, Functions, classes, objects ... "
   ]
  },
  {
   "cell_type": "markdown",
   "metadata": {},
   "source": [
    "..."
   ]
  }
 ],
 "metadata": {
  "kernelspec": {
   "display_name": "Python 3",
   "language": "python",
   "name": "python3"
  },
  "language_info": {
   "codemirror_mode": {
    "name": "ipython",
    "version": 3
   },
   "file_extension": ".py",
   "mimetype": "text/x-python",
   "name": "python",
   "nbconvert_exporter": "python",
   "pygments_lexer": "ipython3",
   "version": "3.7.6"
  },
  "toc": {
   "base_numbering": 1,
   "nav_menu": {},
   "number_sections": true,
   "sideBar": true,
   "skip_h1_title": false,
   "title_cell": "Table of Contents",
   "title_sidebar": "Contents",
   "toc_cell": false,
   "toc_position": {},
   "toc_section_display": true,
   "toc_window_display": false
  }
 },
 "nbformat": 4,
 "nbformat_minor": 2
}
