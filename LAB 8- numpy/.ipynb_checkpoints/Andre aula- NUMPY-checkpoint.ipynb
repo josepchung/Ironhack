{
 "cells": [
  {
   "cell_type": "markdown",
   "metadata": {},
   "source": [
    "import numpy as np\n",
    "# ^^^ pyforest auto-imports - don't write above this line\n",
    "# Numpy"
   ]
  },
  {
   "cell_type": "markdown",
   "metadata": {},
   "source": [
    "## Importing numpy convention"
   ]
  },
  {
   "cell_type": "code",
   "execution_count": 1,
   "metadata": {
    "collapsed": true
   },
   "outputs": [
    {
     "name": "stdout",
     "output_type": "stream",
     "text": [
      "Requirement already up-to-date: numpy in /Library/Frameworks/Python.framework/Versions/3.8/lib/python3.8/site-packages (1.18.1)\r\n"
     ]
    }
   ],
   "source": [
    "!pip install numpy --upgrade"
   ]
  },
  {
   "cell_type": "code",
   "execution_count": 104,
   "metadata": {
    "ExecuteTime": {
     "end_time": "2020-07-29T00:20:48.588387Z",
     "start_time": "2020-07-29T00:20:48.586387Z"
    },
    "collapsed": true
   },
   "outputs": [],
   "source": [
    "# import numpy\n",
    "import numpy as np"
   ]
  },
  {
   "cell_type": "code",
   "execution_count": 106,
   "metadata": {
    "ExecuteTime": {
     "end_time": "2020-07-29T00:21:31.956740Z",
     "start_time": "2020-07-29T00:21:31.952767Z"
    },
    "collapsed": true
   },
   "outputs": [
    {
     "data": {
      "text/plain": [
       "'1.18.5'"
      ]
     },
     "execution_count": 106,
     "metadata": {},
     "output_type": "execute_result"
    }
   ],
   "source": [
    "np.__version__"
   ]
  },
  {
   "cell_type": "markdown",
   "metadata": {},
   "source": [
    "## What is Numpy?"
   ]
  },
  {
   "cell_type": "markdown",
   "metadata": {
    "ExecuteTime": {
     "end_time": "2020-07-28T13:56:19.061952Z",
     "start_time": "2020-07-28T13:56:19.057952Z"
    }
   },
   "source": [
    "Numpy is a package in Python created to help dealing with mathematical operations. "
   ]
  },
  {
   "cell_type": "code",
   "execution_count": 108,
   "metadata": {
    "ExecuteTime": {
     "end_time": "2020-07-29T00:23:00.036134Z",
     "start_time": "2020-07-29T00:23:00.031136Z"
    }
   },
   "outputs": [
    {
     "data": {
      "text/plain": [
       "2.0816659994661326"
      ]
     },
     "execution_count": 108,
     "metadata": {},
     "output_type": "execute_result"
    }
   ],
   "source": [
    "np.std([10, 10, 12, 13, 8, 7])"
   ]
  },
  {
   "cell_type": "code",
   "execution_count": 110,
   "metadata": {
    "ExecuteTime": {
     "end_time": "2020-07-29T00:23:48.949235Z",
     "start_time": "2020-07-29T00:23:48.945235Z"
    }
   },
   "outputs": [
    {
     "data": {
      "text/plain": [
       "10.166666666666666"
      ]
     },
     "execution_count": 110,
     "metadata": {},
     "output_type": "execute_result"
    }
   ],
   "source": [
    "np.mean([11, 10, 12, 13, 8, 7])"
   ]
  },
  {
   "cell_type": "code",
   "execution_count": 116,
   "metadata": {
    "ExecuteTime": {
     "end_time": "2020-07-29T00:24:36.076142Z",
     "start_time": "2020-07-29T00:24:36.073170Z"
    }
   },
   "outputs": [
    {
     "data": {
      "text/plain": [
       "array([6, 3, 0, 4, 5, 3, 5, 8, 2, 2])"
      ]
     },
     "execution_count": 116,
     "metadata": {},
     "output_type": "execute_result"
    }
   ],
   "source": [
    "np.random.randint(0, 10, size=10)"
   ]
  },
  {
   "cell_type": "code",
   "execution_count": 118,
   "metadata": {
    "ExecuteTime": {
     "end_time": "2020-07-29T00:25:41.973713Z",
     "start_time": "2020-07-29T00:25:41.969685Z"
    }
   },
   "outputs": [
    {
     "data": {
      "text/plain": [
       "array([0.46006736, 0.18815188, 0.22204692])"
      ]
     },
     "execution_count": 118,
     "metadata": {},
     "output_type": "execute_result"
    }
   ],
   "source": [
    "np.random.random(size=3)"
   ]
  },
  {
   "cell_type": "code",
   "execution_count": 122,
   "metadata": {
    "ExecuteTime": {
     "end_time": "2020-07-29T00:26:06.312503Z",
     "start_time": "2020-07-29T00:26:06.308502Z"
    }
   },
   "outputs": [
    {
     "data": {
      "text/plain": [
       "0.2315469112859887"
      ]
     },
     "execution_count": 122,
     "metadata": {},
     "output_type": "execute_result"
    }
   ],
   "source": [
    "np.random.random()"
   ]
  },
  {
   "cell_type": "code",
   "execution_count": 133,
   "metadata": {
    "ExecuteTime": {
     "end_time": "2020-07-29T00:27:16.259979Z",
     "start_time": "2020-07-29T00:27:16.254978Z"
    }
   },
   "outputs": [
    {
     "data": {
      "text/plain": [
       "'Donato'"
      ]
     },
     "execution_count": 133,
     "metadata": {},
     "output_type": "execute_result"
    }
   ],
   "source": [
    "np.random.choice(['Donato','Diego','Raiana','Rodrigo'])"
   ]
  },
  {
   "cell_type": "code",
   "execution_count": 134,
   "metadata": {
    "ExecuteTime": {
     "end_time": "2020-07-29T00:27:28.557877Z",
     "start_time": "2020-07-29T00:27:28.552878Z"
    }
   },
   "outputs": [
    {
     "data": {
      "text/plain": [
       "3.141592653589793"
      ]
     },
     "execution_count": 134,
     "metadata": {},
     "output_type": "execute_result"
    }
   ],
   "source": [
    "np.pi"
   ]
  },
  {
   "cell_type": "code",
   "execution_count": 135,
   "metadata": {
    "ExecuteTime": {
     "end_time": "2020-07-29T00:29:28.147155Z",
     "start_time": "2020-07-29T00:29:28.141152Z"
    }
   },
   "outputs": [
    {
     "data": {
      "text/plain": [
       "0.7071067811865476"
      ]
     },
     "execution_count": 135,
     "metadata": {},
     "output_type": "execute_result"
    }
   ],
   "source": [
    "np.sin(np.pi / 4)"
   ]
  },
  {
   "cell_type": "markdown",
   "metadata": {},
   "source": [
    "## What are numpy arrays?\n",
    "\n",
    "Numpy arrays are very close to **lists** in python. The main differences for us in data analysis are:\n",
    "\n",
    "- You can perform mathematical operations within numpy arrays\n",
    "- There are *LOTS* of new mathematical methods that you can use in numpy arrays\n",
    "- Operations are much faster (if you are dealing with big data)"
   ]
  },
  {
   "cell_type": "code",
   "execution_count": 139,
   "metadata": {
    "ExecuteTime": {
     "end_time": "2020-07-29T00:35:25.110028Z",
     "start_time": "2020-07-29T00:35:25.105999Z"
    }
   },
   "outputs": [
    {
     "data": {
      "text/plain": [
       "array([1, 2])"
      ]
     },
     "execution_count": 139,
     "metadata": {},
     "output_type": "execute_result"
    }
   ],
   "source": [
    "np.array([1, 2])"
   ]
  },
  {
   "cell_type": "code",
   "execution_count": 142,
   "metadata": {
    "ExecuteTime": {
     "end_time": "2020-07-29T00:35:42.064342Z",
     "start_time": "2020-07-29T00:35:42.059341Z"
    }
   },
   "outputs": [
    {
     "data": {
      "text/plain": [
       "list"
      ]
     },
     "execution_count": 142,
     "metadata": {},
     "output_type": "execute_result"
    }
   ],
   "source": [
    "type([1, 2])"
   ]
  },
  {
   "cell_type": "code",
   "execution_count": 141,
   "metadata": {
    "ExecuteTime": {
     "end_time": "2020-07-29T00:35:38.353752Z",
     "start_time": "2020-07-29T00:35:38.349720Z"
    }
   },
   "outputs": [
    {
     "data": {
      "text/plain": [
       "numpy.ndarray"
      ]
     },
     "execution_count": 141,
     "metadata": {},
     "output_type": "execute_result"
    }
   ],
   "source": [
    "type(np.array([1, 2]))"
   ]
  },
  {
   "cell_type": "markdown",
   "metadata": {},
   "source": [
    "## Creating a numpy array from a list"
   ]
  },
  {
   "cell_type": "code",
   "execution_count": 143,
   "metadata": {
    "ExecuteTime": {
     "end_time": "2020-07-29T00:35:59.919254Z",
     "start_time": "2020-07-29T00:35:59.916256Z"
    }
   },
   "outputs": [],
   "source": [
    "a = [1,3,5,10]"
   ]
  },
  {
   "cell_type": "code",
   "execution_count": 144,
   "metadata": {
    "ExecuteTime": {
     "end_time": "2020-07-29T00:36:00.410256Z",
     "start_time": "2020-07-29T00:36:00.406254Z"
    }
   },
   "outputs": [
    {
     "data": {
      "text/plain": [
       "[1, 3, 5, 10]"
      ]
     },
     "execution_count": 144,
     "metadata": {},
     "output_type": "execute_result"
    }
   ],
   "source": [
    "a"
   ]
  },
  {
   "cell_type": "code",
   "execution_count": 145,
   "metadata": {
    "ExecuteTime": {
     "end_time": "2020-07-29T00:36:02.145255Z",
     "start_time": "2020-07-29T00:36:02.142254Z"
    }
   },
   "outputs": [
    {
     "data": {
      "text/plain": [
       "list"
      ]
     },
     "execution_count": 145,
     "metadata": {},
     "output_type": "execute_result"
    }
   ],
   "source": [
    "type(a)"
   ]
  },
  {
   "cell_type": "markdown",
   "metadata": {},
   "source": [
    "- what happens if you try to multiply the elements of a list by 2? \n",
    "- how do you check if the elements of a list is greater than 3?"
   ]
  },
  {
   "cell_type": "code",
   "execution_count": 146,
   "metadata": {
    "ExecuteTime": {
     "end_time": "2020-07-29T00:36:13.611956Z",
     "start_time": "2020-07-29T00:36:13.607958Z"
    }
   },
   "outputs": [
    {
     "data": {
      "text/plain": [
       "[1, 3, 5, 10, 1, 3, 5, 10]"
      ]
     },
     "execution_count": 146,
     "metadata": {},
     "output_type": "execute_result"
    }
   ],
   "source": [
    "a * 2"
   ]
  },
  {
   "cell_type": "code",
   "execution_count": 147,
   "metadata": {
    "ExecuteTime": {
     "end_time": "2020-07-29T00:36:36.095924Z",
     "start_time": "2020-07-29T00:36:36.092924Z"
    }
   },
   "outputs": [
    {
     "data": {
      "text/plain": [
       "[1, 3, 5, 10]"
      ]
     },
     "execution_count": 147,
     "metadata": {},
     "output_type": "execute_result"
    }
   ],
   "source": [
    "a"
   ]
  },
  {
   "cell_type": "code",
   "execution_count": 148,
   "metadata": {
    "ExecuteTime": {
     "end_time": "2020-07-29T00:37:20.247244Z",
     "start_time": "2020-07-29T00:37:20.243245Z"
    }
   },
   "outputs": [
    {
     "data": {
      "text/plain": [
       "True"
      ]
     },
     "execution_count": 148,
     "metadata": {},
     "output_type": "execute_result"
    }
   ],
   "source": [
    "len(a) > 3"
   ]
  },
  {
   "cell_type": "code",
   "execution_count": 149,
   "metadata": {
    "ExecuteTime": {
     "end_time": "2020-07-29T00:37:35.565985Z",
     "start_time": "2020-07-29T00:37:35.555985Z"
    }
   },
   "outputs": [
    {
     "ename": "TypeError",
     "evalue": "'>' not supported between instances of 'list' and 'int'",
     "output_type": "error",
     "traceback": [
      "\u001b[1;31m---------------------------------------------------------------------------\u001b[0m",
      "\u001b[1;31mTypeError\u001b[0m                                 Traceback (most recent call last)",
      "\u001b[1;32m<ipython-input-149-4a7bcd1a5f68>\u001b[0m in \u001b[0;36m<module>\u001b[1;34m\u001b[0m\n\u001b[1;32m----> 1\u001b[1;33m \u001b[0ma\u001b[0m \u001b[1;33m>\u001b[0m \u001b[1;36m3\u001b[0m\u001b[1;33m\u001b[0m\u001b[1;33m\u001b[0m\u001b[0m\n\u001b[0m",
      "\u001b[1;31mTypeError\u001b[0m: '>' not supported between instances of 'list' and 'int'"
     ]
    }
   ],
   "source": [
    "a > 3"
   ]
  },
  {
   "cell_type": "code",
   "execution_count": 150,
   "metadata": {
    "ExecuteTime": {
     "end_time": "2020-07-29T00:38:13.365827Z",
     "start_time": "2020-07-29T00:38:13.362829Z"
    }
   },
   "outputs": [],
   "source": [
    "b = np.array(a)"
   ]
  },
  {
   "cell_type": "code",
   "execution_count": 152,
   "metadata": {
    "ExecuteTime": {
     "end_time": "2020-07-29T00:38:52.142646Z",
     "start_time": "2020-07-29T00:38:52.138644Z"
    }
   },
   "outputs": [
    {
     "data": {
      "text/plain": [
       "array([ 1,  3,  5, 10])"
      ]
     },
     "execution_count": 152,
     "metadata": {},
     "output_type": "execute_result"
    }
   ],
   "source": [
    "b\n",
    "# check methods of b.<TAB>"
   ]
  },
  {
   "cell_type": "code",
   "execution_count": 154,
   "metadata": {
    "ExecuteTime": {
     "end_time": "2020-07-29T00:39:04.707221Z",
     "start_time": "2020-07-29T00:39:04.704221Z"
    }
   },
   "outputs": [
    {
     "data": {
      "text/plain": [
       "array([ 1,  3,  5, 10])"
      ]
     },
     "execution_count": 154,
     "metadata": {},
     "output_type": "execute_result"
    }
   ],
   "source": [
    "b"
   ]
  },
  {
   "cell_type": "code",
   "execution_count": 153,
   "metadata": {
    "ExecuteTime": {
     "end_time": "2020-07-29T00:39:00.549408Z",
     "start_time": "2020-07-29T00:39:00.546406Z"
    }
   },
   "outputs": [
    {
     "data": {
      "text/plain": [
       "array([ 2,  6, 10, 20])"
      ]
     },
     "execution_count": 153,
     "metadata": {},
     "output_type": "execute_result"
    }
   ],
   "source": [
    "b * 2"
   ]
  },
  {
   "cell_type": "code",
   "execution_count": 173,
   "metadata": {
    "ExecuteTime": {
     "end_time": "2020-07-29T00:49:15.461982Z",
     "start_time": "2020-07-29T00:49:15.458981Z"
    }
   },
   "outputs": [
    {
     "data": {
      "text/plain": [
       "array([ 3,  5,  7, 12])"
      ]
     },
     "execution_count": 173,
     "metadata": {},
     "output_type": "execute_result"
    }
   ],
   "source": [
    "b + 2"
   ]
  },
  {
   "cell_type": "code",
   "execution_count": 155,
   "metadata": {
    "ExecuteTime": {
     "end_time": "2020-07-29T00:40:23.360023Z",
     "start_time": "2020-07-29T00:40:23.357023Z"
    }
   },
   "outputs": [
    {
     "data": {
      "text/plain": [
       "array([False, False,  True,  True])"
      ]
     },
     "execution_count": 155,
     "metadata": {},
     "output_type": "execute_result"
    }
   ],
   "source": [
    "b > 3"
   ]
  },
  {
   "cell_type": "code",
   "execution_count": 157,
   "metadata": {
    "ExecuteTime": {
     "end_time": "2020-07-29T00:42:40.109458Z",
     "start_time": "2020-07-29T00:42:40.107459Z"
    }
   },
   "outputs": [],
   "source": [
    "c = np.array(['a','b','x'])"
   ]
  },
  {
   "cell_type": "code",
   "execution_count": 165,
   "metadata": {
    "ExecuteTime": {
     "end_time": "2020-07-29T00:45:35.701545Z",
     "start_time": "2020-07-29T00:45:35.698576Z"
    }
   },
   "outputs": [],
   "source": [
    "d = np.array(['z','b','y'])"
   ]
  },
  {
   "cell_type": "code",
   "execution_count": 169,
   "metadata": {
    "ExecuteTime": {
     "end_time": "2020-07-29T00:47:54.177552Z",
     "start_time": "2020-07-29T00:47:54.175552Z"
    }
   },
   "outputs": [],
   "source": [
    "e = np.array(['z','b','y', 'k'])"
   ]
  },
  {
   "cell_type": "code",
   "execution_count": 170,
   "metadata": {
    "ExecuteTime": {
     "end_time": "2020-07-29T00:47:55.703033Z",
     "start_time": "2020-07-29T00:47:55.700035Z"
    }
   },
   "outputs": [
    {
     "data": {
      "text/plain": [
       "array(['z', 'b', 'y', 'k'], dtype='<U1')"
      ]
     },
     "execution_count": 170,
     "metadata": {},
     "output_type": "execute_result"
    }
   ],
   "source": [
    "e"
   ]
  },
  {
   "cell_type": "code",
   "execution_count": 166,
   "metadata": {
    "ExecuteTime": {
     "end_time": "2020-07-29T00:45:37.226560Z",
     "start_time": "2020-07-29T00:45:37.223558Z"
    }
   },
   "outputs": [
    {
     "data": {
      "text/plain": [
       "array(['z', 'b', 'y'], dtype='<U1')"
      ]
     },
     "execution_count": 166,
     "metadata": {},
     "output_type": "execute_result"
    }
   ],
   "source": [
    "d"
   ]
  },
  {
   "cell_type": "code",
   "execution_count": 168,
   "metadata": {
    "ExecuteTime": {
     "end_time": "2020-07-29T00:47:24.756997Z",
     "start_time": "2020-07-29T00:47:24.752997Z"
    }
   },
   "outputs": [
    {
     "data": {
      "text/plain": [
       "array(['a', 'b', 'x'], dtype='<U1')"
      ]
     },
     "execution_count": 168,
     "metadata": {},
     "output_type": "execute_result"
    }
   ],
   "source": [
    "c"
   ]
  },
  {
   "cell_type": "code",
   "execution_count": 163,
   "metadata": {
    "ExecuteTime": {
     "end_time": "2020-07-29T00:44:23.969829Z",
     "start_time": "2020-07-29T00:44:23.965828Z"
    }
   },
   "outputs": [
    {
     "data": {
      "text/plain": [
       "array([False,  True,  True])"
      ]
     },
     "execution_count": 163,
     "metadata": {},
     "output_type": "execute_result"
    }
   ],
   "source": [
    "c != 'a'"
   ]
  },
  {
   "cell_type": "code",
   "execution_count": 167,
   "metadata": {
    "ExecuteTime": {
     "end_time": "2020-07-29T00:45:41.748992Z",
     "start_time": "2020-07-29T00:45:41.744993Z"
    }
   },
   "outputs": [
    {
     "data": {
      "text/plain": [
       "array([False,  True, False])"
      ]
     },
     "execution_count": 167,
     "metadata": {},
     "output_type": "execute_result"
    }
   ],
   "source": [
    "c == d"
   ]
  },
  {
   "cell_type": "code",
   "execution_count": 171,
   "metadata": {
    "ExecuteTime": {
     "end_time": "2020-07-29T00:48:01.169898Z",
     "start_time": "2020-07-29T00:48:01.160869Z"
    }
   },
   "outputs": [
    {
     "ename": "ValueError",
     "evalue": "shape mismatch: objects cannot be broadcast to a single shape",
     "output_type": "error",
     "traceback": [
      "\u001b[1;31m---------------------------------------------------------------------------\u001b[0m",
      "\u001b[1;31mValueError\u001b[0m                                Traceback (most recent call last)",
      "\u001b[1;32m<ipython-input-171-4e68d2961c3e>\u001b[0m in \u001b[0;36m<module>\u001b[1;34m\u001b[0m\n\u001b[1;32m----> 1\u001b[1;33m \u001b[0mc\u001b[0m \u001b[1;33m==\u001b[0m \u001b[0me\u001b[0m\u001b[1;33m\u001b[0m\u001b[1;33m\u001b[0m\u001b[0m\n\u001b[0m",
      "\u001b[1;31mValueError\u001b[0m: shape mismatch: objects cannot be broadcast to a single shape"
     ]
    }
   ],
   "source": [
    "c == e"
   ]
  },
  {
   "cell_type": "markdown",
   "metadata": {},
   "source": [
    "### 1-D array\n",
    "\n",
    "1-D array is what we usually call a **vector**"
   ]
  },
  {
   "cell_type": "code",
   "execution_count": 174,
   "metadata": {
    "ExecuteTime": {
     "end_time": "2020-07-29T00:50:34.056214Z",
     "start_time": "2020-07-29T00:50:34.053215Z"
    }
   },
   "outputs": [
    {
     "data": {
      "text/plain": [
       "array([0.32571866, 0.13452299, 0.26646165, 0.27095737, 0.71357108,\n",
       "       0.26399217, 0.14304948, 0.2122711 , 0.88405591, 0.19786439])"
      ]
     },
     "execution_count": 174,
     "metadata": {},
     "output_type": "execute_result"
    }
   ],
   "source": [
    "array_1d = np.random.random(size=10)\n",
    "array_1d"
   ]
  },
  {
   "cell_type": "code",
   "execution_count": 175,
   "metadata": {
    "ExecuteTime": {
     "end_time": "2020-07-29T00:51:10.832517Z",
     "start_time": "2020-07-29T00:51:10.829518Z"
    }
   },
   "outputs": [
    {
     "data": {
      "text/plain": [
       "(10,)"
      ]
     },
     "execution_count": 175,
     "metadata": {},
     "output_type": "execute_result"
    }
   ],
   "source": [
    "array_1d.shape"
   ]
  },
  {
   "cell_type": "code",
   "execution_count": 178,
   "metadata": {
    "ExecuteTime": {
     "end_time": "2020-07-29T00:53:03.207476Z",
     "start_time": "2020-07-29T00:53:03.203475Z"
    }
   },
   "outputs": [
    {
     "data": {
      "text/plain": [
       "0.19786439277641998"
      ]
     },
     "execution_count": 178,
     "metadata": {},
     "output_type": "execute_result"
    }
   ],
   "source": [
    "array_1d[-1]"
   ]
  },
  {
   "cell_type": "code",
   "execution_count": 184,
   "metadata": {
    "ExecuteTime": {
     "end_time": "2020-07-29T00:53:49.013699Z",
     "start_time": "2020-07-29T00:53:49.008703Z"
    }
   },
   "outputs": [
    {
     "data": {
      "text/plain": [
       "0.8840559134436324"
      ]
     },
     "execution_count": 184,
     "metadata": {},
     "output_type": "execute_result"
    }
   ],
   "source": [
    "array_1d.max()"
   ]
  },
  {
   "cell_type": "markdown",
   "metadata": {},
   "source": [
    "### 2-D array: **row, column**: this is the most important \n",
    "\n",
    "2-D arrays are what we usually call a **matrix**\n",
    "\n",
    "\n",
    "- Imagine that rows are the observations of your data set\n",
    "- Imagine that columns are the characteristics of your data\n",
    "\n"
   ]
  },
  {
   "cell_type": "code",
   "execution_count": 188,
   "metadata": {
    "ExecuteTime": {
     "end_time": "2020-07-29T00:57:00.519057Z",
     "start_time": "2020-07-29T00:57:00.515056Z"
    }
   },
   "outputs": [
    {
     "data": {
      "text/plain": [
       "array([[0.00701161, 0.81809178, 0.34028829],\n",
       "       [0.29700432, 0.22787709, 0.34704377],\n",
       "       [0.36223744, 0.99303475, 0.26959346],\n",
       "       [0.96904155, 0.48931701, 0.179497  ],\n",
       "       [0.4805856 , 0.76867676, 0.01170807]])"
      ]
     },
     "execution_count": 188,
     "metadata": {},
     "output_type": "execute_result"
    }
   ],
   "source": [
    "np.random.random(size=(5, 3))"
   ]
  },
  {
   "cell_type": "code",
   "execution_count": 189,
   "metadata": {
    "ExecuteTime": {
     "end_time": "2020-07-29T00:58:07.268836Z",
     "start_time": "2020-07-29T00:58:07.265805Z"
    }
   },
   "outputs": [],
   "source": [
    "array_2d = np.random.random(size=(5,3))"
   ]
  },
  {
   "cell_type": "code",
   "execution_count": 190,
   "metadata": {
    "ExecuteTime": {
     "end_time": "2020-07-29T00:58:08.094808Z",
     "start_time": "2020-07-29T00:58:08.091805Z"
    }
   },
   "outputs": [
    {
     "data": {
      "text/plain": [
       "array([[0.18135463, 0.31438918, 0.97270456],\n",
       "       [0.42704058, 0.73386199, 0.00930981],\n",
       "       [0.43836761, 0.73964283, 0.91600159],\n",
       "       [0.55332685, 0.11715914, 0.65999958],\n",
       "       [0.12908152, 0.18950188, 0.70909282]])"
      ]
     },
     "execution_count": 190,
     "metadata": {},
     "output_type": "execute_result"
    }
   ],
   "source": [
    "array_2d"
   ]
  },
  {
   "cell_type": "code",
   "execution_count": 191,
   "metadata": {
    "ExecuteTime": {
     "end_time": "2020-07-29T00:58:22.191570Z",
     "start_time": "2020-07-29T00:58:22.187570Z"
    }
   },
   "outputs": [
    {
     "data": {
      "text/plain": [
       "(5, 3)"
      ]
     },
     "execution_count": 191,
     "metadata": {},
     "output_type": "execute_result"
    }
   ],
   "source": [
    "array_2d.shape"
   ]
  },
  {
   "cell_type": "code",
   "execution_count": 192,
   "metadata": {
    "ExecuteTime": {
     "end_time": "2020-07-29T00:58:53.343413Z",
     "start_time": "2020-07-29T00:58:53.339413Z"
    }
   },
   "outputs": [
    {
     "data": {
      "text/plain": [
       "15"
      ]
     },
     "execution_count": 192,
     "metadata": {},
     "output_type": "execute_result"
    }
   ],
   "source": [
    "array_2d.size"
   ]
  },
  {
   "cell_type": "markdown",
   "metadata": {},
   "source": [
    "### N-D array"
   ]
  },
  {
   "cell_type": "code",
   "execution_count": 194,
   "metadata": {
    "ExecuteTime": {
     "end_time": "2020-07-29T00:59:31.320445Z",
     "start_time": "2020-07-29T00:59:31.318444Z"
    }
   },
   "outputs": [],
   "source": [
    "array_3d = np.random.random((4,2,3))"
   ]
  },
  {
   "cell_type": "code",
   "execution_count": 195,
   "metadata": {
    "ExecuteTime": {
     "end_time": "2020-07-29T00:59:31.897444Z",
     "start_time": "2020-07-29T00:59:31.894474Z"
    }
   },
   "outputs": [
    {
     "data": {
      "text/plain": [
       "array([[[0.7491896 , 0.60802547, 0.63122439],\n",
       "        [0.44121989, 0.61733033, 0.17098891]],\n",
       "\n",
       "       [[0.91775263, 0.2446845 , 0.92191385],\n",
       "        [0.76424235, 0.62664253, 0.02833497]],\n",
       "\n",
       "       [[0.62712831, 0.7062376 , 0.06886759],\n",
       "        [0.46187093, 0.38571787, 0.57441519]],\n",
       "\n",
       "       [[0.60249566, 0.76596365, 0.62577032],\n",
       "        [0.05982422, 0.96801158, 0.00129349]]])"
      ]
     },
     "execution_count": 195,
     "metadata": {},
     "output_type": "execute_result"
    }
   ],
   "source": [
    "array_3d"
   ]
  },
  {
   "cell_type": "code",
   "execution_count": 197,
   "metadata": {
    "ExecuteTime": {
     "end_time": "2020-07-29T00:59:44.117774Z",
     "start_time": "2020-07-29T00:59:44.113774Z"
    }
   },
   "outputs": [
    {
     "data": {
      "text/plain": [
       "(4, 2, 3)"
      ]
     },
     "execution_count": 197,
     "metadata": {},
     "output_type": "execute_result"
    }
   ],
   "source": [
    "array_3d.shape"
   ]
  },
  {
   "cell_type": "markdown",
   "metadata": {},
   "source": [
    "# Accessing elements of numpy arrays"
   ]
  },
  {
   "cell_type": "markdown",
   "metadata": {},
   "source": [
    "## 1-D array: `array_1d[index]` (like lists):"
   ]
  },
  {
   "cell_type": "code",
   "execution_count": 198,
   "metadata": {
    "ExecuteTime": {
     "end_time": "2020-07-29T01:14:41.263208Z",
     "start_time": "2020-07-29T01:14:41.259205Z"
    }
   },
   "outputs": [
    {
     "data": {
      "text/plain": [
       "array([0.32571866, 0.13452299, 0.26646165, 0.27095737, 0.71357108,\n",
       "       0.26399217, 0.14304948, 0.2122711 , 0.88405591, 0.19786439])"
      ]
     },
     "execution_count": 198,
     "metadata": {},
     "output_type": "execute_result"
    }
   ],
   "source": [
    "array_1d"
   ]
  },
  {
   "cell_type": "code",
   "execution_count": 199,
   "metadata": {
    "ExecuteTime": {
     "end_time": "2020-07-29T01:15:25.069319Z",
     "start_time": "2020-07-29T01:15:25.065340Z"
    }
   },
   "outputs": [
    {
     "data": {
      "text/plain": [
       "0.3257186562851875"
      ]
     },
     "execution_count": 199,
     "metadata": {},
     "output_type": "execute_result"
    }
   ],
   "source": [
    "array_1d[0]"
   ]
  },
  {
   "cell_type": "code",
   "execution_count": 200,
   "metadata": {
    "ExecuteTime": {
     "end_time": "2020-07-29T01:15:26.571870Z",
     "start_time": "2020-07-29T01:15:26.568869Z"
    }
   },
   "outputs": [
    {
     "data": {
      "text/plain": [
       "0.2709573660095155"
      ]
     },
     "execution_count": 200,
     "metadata": {},
     "output_type": "execute_result"
    }
   ],
   "source": [
    "array_1d[3]"
   ]
  },
  {
   "cell_type": "code",
   "execution_count": 201,
   "metadata": {
    "ExecuteTime": {
     "end_time": "2020-07-29T01:15:45.975377Z",
     "start_time": "2020-07-29T01:15:45.970379Z"
    }
   },
   "outputs": [
    {
     "data": {
      "text/plain": [
       "0.19786439277641998"
      ]
     },
     "execution_count": 201,
     "metadata": {},
     "output_type": "execute_result"
    }
   ],
   "source": [
    "array_1d[-1]"
   ]
  },
  {
   "cell_type": "markdown",
   "metadata": {},
   "source": [
    "## 2-D arrays:  `array_2d[row_number, column_number]`"
   ]
  },
  {
   "cell_type": "code",
   "execution_count": 202,
   "metadata": {
    "ExecuteTime": {
     "end_time": "2020-07-29T01:16:07.695124Z",
     "start_time": "2020-07-29T01:16:07.692124Z"
    }
   },
   "outputs": [
    {
     "data": {
      "text/plain": [
       "array([[0.18135463, 0.31438918, 0.97270456],\n",
       "       [0.42704058, 0.73386199, 0.00930981],\n",
       "       [0.43836761, 0.73964283, 0.91600159],\n",
       "       [0.55332685, 0.11715914, 0.65999958],\n",
       "       [0.12908152, 0.18950188, 0.70909282]])"
      ]
     },
     "execution_count": 202,
     "metadata": {},
     "output_type": "execute_result"
    }
   ],
   "source": [
    "array_2d"
   ]
  },
  {
   "cell_type": "code",
   "execution_count": 204,
   "metadata": {
    "ExecuteTime": {
     "end_time": "2020-07-29T01:17:21.952530Z",
     "start_time": "2020-07-29T01:17:21.948553Z"
    }
   },
   "outputs": [
    {
     "data": {
      "text/plain": [
       "0.009309807391790992"
      ]
     },
     "execution_count": 204,
     "metadata": {},
     "output_type": "execute_result"
    }
   ],
   "source": [
    "array_2d[1, 2]"
   ]
  },
  {
   "cell_type": "code",
   "execution_count": 206,
   "metadata": {
    "ExecuteTime": {
     "end_time": "2020-07-29T01:17:53.928282Z",
     "start_time": "2020-07-29T01:17:53.925282Z"
    }
   },
   "outputs": [
    {
     "data": {
      "text/plain": [
       "0.009309807391790992"
      ]
     },
     "execution_count": 206,
     "metadata": {},
     "output_type": "execute_result"
    }
   ],
   "source": [
    "array_2d[1, -1]"
   ]
  },
  {
   "cell_type": "code",
   "execution_count": 208,
   "metadata": {
    "ExecuteTime": {
     "end_time": "2020-07-29T01:18:32.615076Z",
     "start_time": "2020-07-29T01:18:32.612077Z"
    }
   },
   "outputs": [
    {
     "data": {
      "text/plain": [
       "0.12908151628493292"
      ]
     },
     "execution_count": 208,
     "metadata": {},
     "output_type": "execute_result"
    }
   ],
   "source": [
    "array_2d[-1, 0]"
   ]
  },
  {
   "cell_type": "code",
   "execution_count": 210,
   "metadata": {
    "ExecuteTime": {
     "end_time": "2020-07-29T01:20:13.397787Z",
     "start_time": "2020-07-29T01:20:13.394786Z"
    }
   },
   "outputs": [
    {
     "data": {
      "text/plain": [
       "array([0.42704058, 0.73386199])"
      ]
     },
     "execution_count": 210,
     "metadata": {},
     "output_type": "execute_result"
    }
   ],
   "source": [
    "array_2d[1, 0:2]"
   ]
  },
  {
   "cell_type": "code",
   "execution_count": 215,
   "metadata": {
    "ExecuteTime": {
     "end_time": "2020-07-29T01:22:07.359370Z",
     "start_time": "2020-07-29T01:22:07.354372Z"
    }
   },
   "outputs": [
    {
     "data": {
      "text/plain": [
       "array([0.97270456, 0.00930981, 0.91600159, 0.65999958, 0.70909282])"
      ]
     },
     "execution_count": 215,
     "metadata": {},
     "output_type": "execute_result"
    }
   ],
   "source": [
    "array_2d[0:,2]"
   ]
  },
  {
   "cell_type": "code",
   "execution_count": 217,
   "metadata": {
    "ExecuteTime": {
     "end_time": "2020-07-29T01:23:08.099387Z",
     "start_time": "2020-07-29T01:23:08.095387Z"
    }
   },
   "outputs": [
    {
     "data": {
      "text/plain": [
       "array([[0.18135463, 0.31438918],\n",
       "       [0.42704058, 0.73386199],\n",
       "       [0.43836761, 0.73964283],\n",
       "       [0.55332685, 0.11715914],\n",
       "       [0.12908152, 0.18950188]])"
      ]
     },
     "execution_count": 217,
     "metadata": {},
     "output_type": "execute_result"
    }
   ],
   "source": [
    "array_2d[:,0:2]"
   ]
  },
  {
   "cell_type": "code",
   "execution_count": 220,
   "metadata": {
    "ExecuteTime": {
     "end_time": "2020-07-29T01:23:55.011455Z",
     "start_time": "2020-07-29T01:23:55.008454Z"
    }
   },
   "outputs": [],
   "source": [
    "array_2d[:, 0] = -1"
   ]
  },
  {
   "cell_type": "code",
   "execution_count": 221,
   "metadata": {
    "ExecuteTime": {
     "end_time": "2020-07-29T01:23:57.509791Z",
     "start_time": "2020-07-29T01:23:57.505819Z"
    }
   },
   "outputs": [
    {
     "data": {
      "text/plain": [
       "array([[-1.        ,  0.31438918,  0.97270456],\n",
       "       [-1.        ,  0.73386199,  0.00930981],\n",
       "       [-1.        ,  0.73964283,  0.91600159],\n",
       "       [-1.        ,  0.11715914,  0.65999958],\n",
       "       [-1.        ,  0.18950188,  0.70909282]])"
      ]
     },
     "execution_count": 221,
     "metadata": {},
     "output_type": "execute_result"
    }
   ],
   "source": [
    "array_2d"
   ]
  },
  {
   "cell_type": "markdown",
   "metadata": {
    "ExecuteTime": {
     "end_time": "2020-07-28T14:12:43.694591Z",
     "start_time": "2020-07-28T14:12:43.690591Z"
    }
   },
   "source": [
    "- 3D arrays works the same way, `array_3d[x_index, y_index, z_index]`"
   ]
  },
  {
   "cell_type": "code",
   "execution_count": 223,
   "metadata": {
    "ExecuteTime": {
     "end_time": "2020-07-29T01:24:46.560295Z",
     "start_time": "2020-07-29T01:24:46.556265Z"
    }
   },
   "outputs": [
    {
     "data": {
      "text/plain": [
       "array([[[0.7491896 , 0.60802547, 0.63122439],\n",
       "        [0.44121989, 0.61733033, 0.17098891]],\n",
       "\n",
       "       [[0.91775263, 0.2446845 , 0.92191385],\n",
       "        [0.76424235, 0.62664253, 0.02833497]],\n",
       "\n",
       "       [[0.62712831, 0.7062376 , 0.06886759],\n",
       "        [0.46187093, 0.38571787, 0.57441519]],\n",
       "\n",
       "       [[0.60249566, 0.76596365, 0.62577032],\n",
       "        [0.05982422, 0.96801158, 0.00129349]]])"
      ]
     },
     "execution_count": 223,
     "metadata": {},
     "output_type": "execute_result"
    }
   ],
   "source": [
    "array_3d"
   ]
  },
  {
   "cell_type": "code",
   "execution_count": 225,
   "metadata": {
    "ExecuteTime": {
     "end_time": "2020-07-29T01:25:09.529482Z",
     "start_time": "2020-07-29T01:25:09.524481Z"
    }
   },
   "outputs": [
    {
     "data": {
      "text/plain": [
       "(4, 2, 3)"
      ]
     },
     "execution_count": 225,
     "metadata": {},
     "output_type": "execute_result"
    }
   ],
   "source": [
    "array_3d.shape"
   ]
  },
  {
   "cell_type": "code",
   "execution_count": 226,
   "metadata": {
    "ExecuteTime": {
     "end_time": "2020-07-29T01:25:13.136482Z",
     "start_time": "2020-07-29T01:25:13.132482Z"
    }
   },
   "outputs": [
    {
     "data": {
      "text/plain": [
       "array([0.76596365, 0.62577032])"
      ]
     },
     "execution_count": 226,
     "metadata": {},
     "output_type": "execute_result"
    }
   ],
   "source": [
    "array_3d[3,0,1:3]"
   ]
  },
  {
   "cell_type": "markdown",
   "metadata": {},
   "source": [
    "# Converting to np.array\n",
    "\n",
    "Sometimes you have a list, or a list of lists and you want to convert it to a numpy array to perform math operations or use the numpy methods. You just need to `np.array(thing)` and it will try to convert it to a numpy array."
   ]
  },
  {
   "cell_type": "code",
   "execution_count": 227,
   "metadata": {
    "ExecuteTime": {
     "end_time": "2020-07-29T01:26:50.128319Z",
     "start_time": "2020-07-29T01:26:50.125320Z"
    }
   },
   "outputs": [
    {
     "data": {
      "text/plain": [
       "[1, 4, 7, 8]"
      ]
     },
     "execution_count": 227,
     "metadata": {},
     "output_type": "execute_result"
    }
   ],
   "source": [
    "my_list = [1,4,7,8]\n",
    "my_list"
   ]
  },
  {
   "cell_type": "code",
   "execution_count": 230,
   "metadata": {
    "ExecuteTime": {
     "end_time": "2020-07-29T01:26:58.245954Z",
     "start_time": "2020-07-29T01:26:58.241930Z"
    }
   },
   "outputs": [
    {
     "data": {
      "text/plain": [
       "array([1, 4, 7, 8])"
      ]
     },
     "execution_count": 230,
     "metadata": {},
     "output_type": "execute_result"
    }
   ],
   "source": [
    "np.array(my_list)"
   ]
  },
  {
   "cell_type": "code",
   "execution_count": 231,
   "metadata": {
    "ExecuteTime": {
     "end_time": "2020-07-29T01:27:00.670292Z",
     "start_time": "2020-07-29T01:27:00.667289Z"
    }
   },
   "outputs": [
    {
     "data": {
      "text/plain": [
       "[1, 4, 7, 8]"
      ]
     },
     "execution_count": 231,
     "metadata": {},
     "output_type": "execute_result"
    }
   ],
   "source": [
    "my_list"
   ]
  },
  {
   "cell_type": "markdown",
   "metadata": {},
   "source": [
    "- **NOTE**: don't forget that the above haven't exactly `converted` my_list to a numpy array. `my_list` remains intact, but `np.array(my_list)` **returns** a numpy array. If you want to store it, you have to **assign** it to another variable (or the same, actually, if you really want to transform it)"
   ]
  },
  {
   "cell_type": "code",
   "execution_count": 232,
   "metadata": {
    "ExecuteTime": {
     "end_time": "2020-07-29T01:27:14.388621Z",
     "start_time": "2020-07-29T01:27:14.386622Z"
    }
   },
   "outputs": [],
   "source": [
    "another_variable = np.array(my_list)"
   ]
  },
  {
   "cell_type": "code",
   "execution_count": 234,
   "metadata": {
    "ExecuteTime": {
     "end_time": "2020-07-29T01:27:22.479870Z",
     "start_time": "2020-07-29T01:27:22.474870Z"
    }
   },
   "outputs": [
    {
     "data": {
      "text/plain": [
       "[1, 4, 7, 8]"
      ]
     },
     "execution_count": 234,
     "metadata": {},
     "output_type": "execute_result"
    }
   ],
   "source": [
    "my_list"
   ]
  },
  {
   "cell_type": "code",
   "execution_count": 233,
   "metadata": {
    "ExecuteTime": {
     "end_time": "2020-07-29T01:27:17.919774Z",
     "start_time": "2020-07-29T01:27:17.916803Z"
    }
   },
   "outputs": [
    {
     "data": {
      "text/plain": [
       "array([1, 4, 7, 8])"
      ]
     },
     "execution_count": 233,
     "metadata": {},
     "output_type": "execute_result"
    }
   ],
   "source": [
    "another_variable"
   ]
  },
  {
   "cell_type": "code",
   "execution_count": 235,
   "metadata": {
    "ExecuteTime": {
     "end_time": "2020-07-29T01:27:49.373487Z",
     "start_time": "2020-07-29T01:27:49.370485Z"
    }
   },
   "outputs": [],
   "source": [
    "# now my_list is in fact converted\n",
    "my_list = np.array(my_list)"
   ]
  },
  {
   "cell_type": "code",
   "execution_count": 236,
   "metadata": {
    "ExecuteTime": {
     "end_time": "2020-07-29T01:27:51.032951Z",
     "start_time": "2020-07-29T01:27:51.028948Z"
    }
   },
   "outputs": [
    {
     "data": {
      "text/plain": [
       "array([1, 4, 7, 8])"
      ]
     },
     "execution_count": 236,
     "metadata": {},
     "output_type": "execute_result"
    }
   ],
   "source": [
    "my_list"
   ]
  },
  {
   "cell_type": "code",
   "execution_count": 237,
   "metadata": {
    "ExecuteTime": {
     "end_time": "2020-07-29T01:28:07.105396Z",
     "start_time": "2020-07-29T01:28:07.102395Z"
    }
   },
   "outputs": [],
   "source": [
    "list_of_lists = [[1,2,3],\n",
    "                 [4,5,6],\n",
    "                 [7,8,9]]"
   ]
  },
  {
   "cell_type": "code",
   "execution_count": 238,
   "metadata": {
    "ExecuteTime": {
     "end_time": "2020-07-29T01:28:07.621395Z",
     "start_time": "2020-07-29T01:28:07.618395Z"
    }
   },
   "outputs": [
    {
     "data": {
      "text/plain": [
       "array([[1, 2, 3],\n",
       "       [4, 5, 6],\n",
       "       [7, 8, 9]])"
      ]
     },
     "execution_count": 238,
     "metadata": {},
     "output_type": "execute_result"
    }
   ],
   "source": [
    "array_lst_lst = np.array(list_of_lists)\n",
    "array_lst_lst"
   ]
  },
  {
   "cell_type": "code",
   "execution_count": 239,
   "metadata": {
    "ExecuteTime": {
     "end_time": "2020-07-29T01:28:12.204711Z",
     "start_time": "2020-07-29T01:28:12.201712Z"
    }
   },
   "outputs": [
    {
     "data": {
      "text/plain": [
       "(3, 3)"
      ]
     },
     "execution_count": 239,
     "metadata": {},
     "output_type": "execute_result"
    }
   ],
   "source": [
    "array_lst_lst.shape"
   ]
  },
  {
   "cell_type": "markdown",
   "metadata": {},
   "source": [
    "# Mathematical methods"
   ]
  },
  {
   "cell_type": "markdown",
   "metadata": {},
   "source": [
    "## sum"
   ]
  },
  {
   "cell_type": "code",
   "execution_count": 240,
   "metadata": {
    "ExecuteTime": {
     "end_time": "2020-07-29T01:28:26.737247Z",
     "start_time": "2020-07-29T01:28:26.733247Z"
    }
   },
   "outputs": [
    {
     "data": {
      "text/plain": [
       "array([[4, 1, 9, 2, 4, 0],\n",
       "       [1, 5, 3, 2, 9, 7],\n",
       "       [5, 5, 5, 8, 2, 8]])"
      ]
     },
     "execution_count": 240,
     "metadata": {},
     "output_type": "execute_result"
    }
   ],
   "source": [
    "a = np.random.randint(0, 10, size=(3,6))\n",
    "a"
   ]
  },
  {
   "cell_type": "code",
   "execution_count": 241,
   "metadata": {
    "ExecuteTime": {
     "end_time": "2020-07-29T01:28:35.625726Z",
     "start_time": "2020-07-29T01:28:35.621724Z"
    }
   },
   "outputs": [
    {
     "data": {
      "text/plain": [
       "(3, 6)"
      ]
     },
     "execution_count": 241,
     "metadata": {},
     "output_type": "execute_result"
    }
   ],
   "source": [
    "a.shape"
   ]
  },
  {
   "cell_type": "code",
   "execution_count": 242,
   "metadata": {
    "ExecuteTime": {
     "end_time": "2020-07-29T01:28:40.934225Z",
     "start_time": "2020-07-29T01:28:40.931226Z"
    }
   },
   "outputs": [
    {
     "data": {
      "text/plain": [
       "80"
      ]
     },
     "execution_count": 242,
     "metadata": {},
     "output_type": "execute_result"
    }
   ],
   "source": [
    "a.sum()"
   ]
  },
  {
   "cell_type": "markdown",
   "metadata": {},
   "source": [
    "### The `axis` concept - very useful"
   ]
  },
  {
   "cell_type": "markdown",
   "metadata": {
    "ExecuteTime": {
     "end_time": "2020-07-28T14:20:29.695076Z",
     "start_time": "2020-07-28T14:20:29.690076Z"
    }
   },
   "source": [
    "- The `axis` concept: \n",
    "    - axis = 0 refers to: \n",
    "    > **sum over the first axis** (first axis == `rows`)\n",
    "        - So for each column, it will sum over all the rows\n",
    "        \n",
    "    - axis = 1 refers to: \n",
    "    > **sum over the second axis** (second axis == `columns`)\n",
    "        - So for each row, it will sum over all the columns"
   ]
  },
  {
   "cell_type": "code",
   "execution_count": 243,
   "metadata": {
    "ExecuteTime": {
     "end_time": "2020-07-29T01:31:08.530325Z",
     "start_time": "2020-07-29T01:31:08.526326Z"
    }
   },
   "outputs": [
    {
     "data": {
      "text/plain": [
       "array([[4, 1, 9, 2, 4, 0],\n",
       "       [1, 5, 3, 2, 9, 7],\n",
       "       [5, 5, 5, 8, 2, 8]])"
      ]
     },
     "execution_count": 243,
     "metadata": {},
     "output_type": "execute_result"
    }
   ],
   "source": [
    "a"
   ]
  },
  {
   "cell_type": "code",
   "execution_count": 244,
   "metadata": {
    "ExecuteTime": {
     "end_time": "2020-07-29T01:31:16.432733Z",
     "start_time": "2020-07-29T01:31:16.428731Z"
    }
   },
   "outputs": [
    {
     "data": {
      "text/plain": [
       "array([10, 11, 17, 12, 15, 15])"
      ]
     },
     "execution_count": 244,
     "metadata": {},
     "output_type": "execute_result"
    }
   ],
   "source": [
    "a.sum(axis=0)"
   ]
  },
  {
   "cell_type": "code",
   "execution_count": 245,
   "metadata": {
    "ExecuteTime": {
     "end_time": "2020-07-29T01:31:44.045974Z",
     "start_time": "2020-07-29T01:31:44.040974Z"
    }
   },
   "outputs": [
    {
     "data": {
      "text/plain": [
       "array([20, 27, 33])"
      ]
     },
     "execution_count": 245,
     "metadata": {},
     "output_type": "execute_result"
    }
   ],
   "source": [
    "a.sum(axis=1)"
   ]
  },
  {
   "cell_type": "markdown",
   "metadata": {},
   "source": [
    "-----"
   ]
  },
  {
   "cell_type": "markdown",
   "metadata": {},
   "source": [
    "## mean\n",
    "\n",
    "$$ \\bar{x} = \\frac{1}{N}\\left(\\sum_{i=0}^{N-1} x_i\\right)  $$"
   ]
  },
  {
   "cell_type": "code",
   "execution_count": 246,
   "metadata": {
    "ExecuteTime": {
     "end_time": "2020-07-29T01:32:09.975481Z",
     "start_time": "2020-07-29T01:32:09.971480Z"
    }
   },
   "outputs": [
    {
     "data": {
      "text/plain": [
       "array([[4, 1, 9, 2, 4, 0],\n",
       "       [1, 5, 3, 2, 9, 7],\n",
       "       [5, 5, 5, 8, 2, 8]])"
      ]
     },
     "execution_count": 246,
     "metadata": {},
     "output_type": "execute_result"
    }
   ],
   "source": [
    "a"
   ]
  },
  {
   "cell_type": "code",
   "execution_count": 247,
   "metadata": {
    "ExecuteTime": {
     "end_time": "2020-07-29T01:32:16.125413Z",
     "start_time": "2020-07-29T01:32:16.122384Z"
    }
   },
   "outputs": [
    {
     "data": {
      "text/plain": [
       "4.444444444444445"
      ]
     },
     "execution_count": 247,
     "metadata": {},
     "output_type": "execute_result"
    }
   ],
   "source": [
    "a.mean()"
   ]
  },
  {
   "cell_type": "code",
   "execution_count": 248,
   "metadata": {
    "ExecuteTime": {
     "end_time": "2020-07-29T01:33:21.195925Z",
     "start_time": "2020-07-29T01:33:21.191895Z"
    }
   },
   "outputs": [
    {
     "data": {
      "text/plain": [
       "array([3.33333333, 3.66666667, 5.66666667, 4.        , 5.        ,\n",
       "       5.        ])"
      ]
     },
     "execution_count": 248,
     "metadata": {},
     "output_type": "execute_result"
    }
   ],
   "source": [
    "# mean for each column?\n",
    "\n",
    "a.mean(axis=0)"
   ]
  },
  {
   "cell_type": "code",
   "execution_count": 249,
   "metadata": {
    "ExecuteTime": {
     "end_time": "2020-07-29T01:33:29.657800Z",
     "start_time": "2020-07-29T01:33:29.654834Z"
    }
   },
   "outputs": [
    {
     "data": {
      "text/plain": [
       "array([3.33333333, 4.5       , 5.5       ])"
      ]
     },
     "execution_count": 249,
     "metadata": {},
     "output_type": "execute_result"
    }
   ],
   "source": [
    "# mean for each row?\n",
    "a.mean(axis=1)"
   ]
  },
  {
   "cell_type": "markdown",
   "metadata": {},
   "source": [
    "# Transpose Matrix"
   ]
  },
  {
   "cell_type": "code",
   "execution_count": 251,
   "metadata": {
    "ExecuteTime": {
     "end_time": "2020-07-29T01:34:03.528079Z",
     "start_time": "2020-07-29T01:34:03.525047Z"
    }
   },
   "outputs": [
    {
     "data": {
      "text/plain": [
       "array([[4, 1, 9, 2, 4, 0],\n",
       "       [1, 5, 3, 2, 9, 7],\n",
       "       [5, 5, 5, 8, 2, 8]])"
      ]
     },
     "execution_count": 251,
     "metadata": {},
     "output_type": "execute_result"
    }
   ],
   "source": [
    "a"
   ]
  },
  {
   "cell_type": "code",
   "execution_count": 252,
   "metadata": {
    "ExecuteTime": {
     "end_time": "2020-07-29T01:34:06.449809Z",
     "start_time": "2020-07-29T01:34:06.445812Z"
    }
   },
   "outputs": [
    {
     "data": {
      "text/plain": [
       "array([[4, 1, 5],\n",
       "       [1, 5, 5],\n",
       "       [9, 3, 5],\n",
       "       [2, 2, 8],\n",
       "       [4, 9, 2],\n",
       "       [0, 7, 8]])"
      ]
     },
     "execution_count": 252,
     "metadata": {},
     "output_type": "execute_result"
    }
   ],
   "source": [
    "a.transpose()"
   ]
  },
  {
   "cell_type": "code",
   "execution_count": 253,
   "metadata": {
    "ExecuteTime": {
     "end_time": "2020-07-29T01:34:22.621995Z",
     "start_time": "2020-07-29T01:34:22.618993Z"
    }
   },
   "outputs": [
    {
     "data": {
      "text/plain": [
       "array([[4, 1, 5],\n",
       "       [1, 5, 5],\n",
       "       [9, 3, 5],\n",
       "       [2, 2, 8],\n",
       "       [4, 9, 2],\n",
       "       [0, 7, 8]])"
      ]
     },
     "execution_count": 253,
     "metadata": {},
     "output_type": "execute_result"
    }
   ],
   "source": [
    "a.T"
   ]
  },
  {
   "cell_type": "markdown",
   "metadata": {},
   "source": [
    "# Operations between np.arrays"
   ]
  },
  {
   "cell_type": "code",
   "execution_count": 254,
   "metadata": {
    "ExecuteTime": {
     "end_time": "2020-07-29T01:34:33.706370Z",
     "start_time": "2020-07-29T01:34:33.703371Z"
    }
   },
   "outputs": [
    {
     "data": {
      "text/plain": [
       "array([[4, 1, 9, 2, 4, 0],\n",
       "       [1, 5, 3, 2, 9, 7],\n",
       "       [5, 5, 5, 8, 2, 8]])"
      ]
     },
     "execution_count": 254,
     "metadata": {},
     "output_type": "execute_result"
    }
   ],
   "source": [
    "a"
   ]
  },
  {
   "cell_type": "code",
   "execution_count": 255,
   "metadata": {
    "ExecuteTime": {
     "end_time": "2020-07-29T01:34:35.665373Z",
     "start_time": "2020-07-29T01:34:35.660370Z"
    }
   },
   "outputs": [
    {
     "data": {
      "text/plain": [
       "array([[8, 8, 0, 4, 0, 8],\n",
       "       [6, 9, 0, 6, 6, 4],\n",
       "       [2, 2, 4, 4, 9, 3]])"
      ]
     },
     "execution_count": 255,
     "metadata": {},
     "output_type": "execute_result"
    }
   ],
   "source": [
    "c = np.random.randint(0,10, size=a.shape)\n",
    "c"
   ]
  },
  {
   "cell_type": "code",
   "execution_count": 256,
   "metadata": {
    "ExecuteTime": {
     "end_time": "2020-07-29T01:34:39.867728Z",
     "start_time": "2020-07-29T01:34:39.864757Z"
    }
   },
   "outputs": [
    {
     "data": {
      "text/plain": [
       "array([[12,  9,  9,  6,  4,  8],\n",
       "       [ 7, 14,  3,  8, 15, 11],\n",
       "       [ 7,  7,  9, 12, 11, 11]])"
      ]
     },
     "execution_count": 256,
     "metadata": {},
     "output_type": "execute_result"
    }
   ],
   "source": [
    "a + c"
   ]
  },
  {
   "cell_type": "code",
   "execution_count": 257,
   "metadata": {
    "ExecuteTime": {
     "end_time": "2020-07-29T01:34:58.141732Z",
     "start_time": "2020-07-29T01:34:58.136886Z"
    }
   },
   "outputs": [
    {
     "data": {
      "text/plain": [
       "array([[-4, -7,  9, -2,  4, -8],\n",
       "       [-5, -4,  3, -4,  3,  3],\n",
       "       [ 3,  3,  1,  4, -7,  5]])"
      ]
     },
     "execution_count": 257,
     "metadata": {},
     "output_type": "execute_result"
    }
   ],
   "source": [
    "a - c"
   ]
  },
  {
   "cell_type": "code",
   "execution_count": 258,
   "metadata": {
    "ExecuteTime": {
     "end_time": "2020-07-29T01:35:01.288236Z",
     "start_time": "2020-07-29T01:35:01.285236Z"
    }
   },
   "outputs": [
    {
     "data": {
      "text/plain": [
       "array([[ 5,  2, 10,  3,  5,  1],\n",
       "       [ 2,  6,  4,  3, 10,  8],\n",
       "       [ 6,  6,  6,  9,  3,  9]])"
      ]
     },
     "execution_count": 258,
     "metadata": {},
     "output_type": "execute_result"
    }
   ],
   "source": [
    "a + 1"
   ]
  },
  {
   "cell_type": "markdown",
   "metadata": {},
   "source": [
    "# Reshaping arrays"
   ]
  },
  {
   "cell_type": "code",
   "execution_count": 85,
   "metadata": {
    "ExecuteTime": {
     "end_time": "2020-07-28T14:26:51.184272Z",
     "start_time": "2020-07-28T14:26:51.179303Z"
    },
    "collapsed": true
   },
   "outputs": [
    {
     "data": {
      "application/javascript": [
       "\n",
       "        if (window._pyforest_update_imports_cell) { window._pyforest_update_imports_cell('import numpy as np'); }\n",
       "    "
      ],
      "text/plain": [
       "<IPython.core.display.Javascript object>"
      ]
     },
     "metadata": {},
     "output_type": "display_data"
    },
    {
     "data": {
      "text/plain": [
       "array([13,  7, 10, 14,  9,  6,  5,  3,  4,  8,  3, 13, 14,  2, 15,  7, 12,\n",
       "        5,  9,  8, 15, 13, 12,  9,  1,  8, 14, 14, 15,  6, 11,  6,  1, 13,\n",
       "        6,  7,  5,  9, 13,  5,  6,  3, 12, 14, 12,  2,  9,  6, 10,  0, 10,\n",
       "        0, 14,  0, 13,  2, 11, 11,  8, 12,  9,  8,  0,  9])"
      ]
     },
     "execution_count": 85,
     "metadata": {},
     "output_type": "execute_result"
    }
   ],
   "source": [
    "a = np.random.randint(0, 16, size=64)\n",
    "a"
   ]
  },
  {
   "cell_type": "code",
   "execution_count": 86,
   "metadata": {
    "ExecuteTime": {
     "end_time": "2020-07-28T14:26:55.803065Z",
     "start_time": "2020-07-28T14:26:55.799064Z"
    },
    "collapsed": true
   },
   "outputs": [
    {
     "data": {
      "text/plain": [
       "array([[13,  7, 10, 14,  9,  6,  5,  3],\n",
       "       [ 4,  8,  3, 13, 14,  2, 15,  7],\n",
       "       [12,  5,  9,  8, 15, 13, 12,  9],\n",
       "       [ 1,  8, 14, 14, 15,  6, 11,  6],\n",
       "       [ 1, 13,  6,  7,  5,  9, 13,  5],\n",
       "       [ 6,  3, 12, 14, 12,  2,  9,  6],\n",
       "       [10,  0, 10,  0, 14,  0, 13,  2],\n",
       "       [11, 11,  8, 12,  9,  8,  0,  9]])"
      ]
     },
     "execution_count": 86,
     "metadata": {},
     "output_type": "execute_result"
    }
   ],
   "source": [
    "a.reshape((8,8))"
   ]
  },
  {
   "cell_type": "code",
   "execution_count": 283,
   "metadata": {
    "ExecuteTime": {
     "end_time": "2020-07-29T21:15:13.691685Z",
     "start_time": "2020-07-29T21:15:13.687685Z"
    }
   },
   "outputs": [],
   "source": [
    "# application: images! \n",
    "\n",
    "image = np.array([0.,  0.,  0., 12., 13.,  0.,  0.,  0.,  0.,  0.,  5., 16.,  8.,\n",
    "                  0.,  0.,  0.,  0.,  0., 13., 16.,  3.,  0.,  0.,  0.,  0.,  0.,\n",
    "                  14., 13.,  0.,  0.,  0.,  0.,  0.,  0., 15., 12.,  7.,  2.,  0.,\n",
    "                  0.,  0.,  0., 13., 16., 13., 16.,  3.,  0.,  0.,  0.,  7., 16.,\n",
    "                  11., 15.,  8.,  0.,  0.,  0.,  1.,  9., 15., 11.,  3.,  0.])"
   ]
  },
  {
   "cell_type": "code",
   "execution_count": 284,
   "metadata": {
    "ExecuteTime": {
     "end_time": "2020-07-29T21:15:13.892714Z",
     "start_time": "2020-07-29T21:15:13.888685Z"
    }
   },
   "outputs": [
    {
     "data": {
      "text/plain": [
       "array([[ 0.,  0.,  0., 12., 13.,  0.,  0.,  0.],\n",
       "       [ 0.,  0.,  5., 16.,  8.,  0.,  0.,  0.],\n",
       "       [ 0.,  0., 13., 16.,  3.,  0.,  0.,  0.],\n",
       "       [ 0.,  0., 14., 13.,  0.,  0.,  0.,  0.],\n",
       "       [ 0.,  0., 15., 12.,  7.,  2.,  0.,  0.],\n",
       "       [ 0.,  0., 13., 16., 13., 16.,  3.,  0.],\n",
       "       [ 0.,  0.,  7., 16., 11., 15.,  8.,  0.],\n",
       "       [ 0.,  0.,  1.,  9., 15., 11.,  3.,  0.]])"
      ]
     },
     "execution_count": 284,
     "metadata": {},
     "output_type": "execute_result"
    }
   ],
   "source": [
    "image.reshape(8,8)"
   ]
  },
  {
   "cell_type": "code",
   "execution_count": 286,
   "metadata": {
    "ExecuteTime": {
     "end_time": "2020-07-29T21:15:18.371327Z",
     "start_time": "2020-07-29T21:15:18.275328Z"
    }
   },
   "outputs": [
    {
     "data": {
      "text/plain": [
       "<matplotlib.image.AxesImage at 0x16d65bae630>"
      ]
     },
     "execution_count": 286,
     "metadata": {},
     "output_type": "execute_result"
    },
    {
     "data": {
      "image/png": "[encoded data removed]",
      "text/plain": [
       "<Figure size 432x288 with 1 Axes>"
      ]
     },
     "metadata": {
      "needs_background": "light"
     },
     "output_type": "display_data"
    }
   ],
   "source": [
    "# sneaky peak on plots <3: \n",
    "import matplotlib.pyplot as plt\n",
    "\n",
    "plt.imshow(image.reshape(8,8))"
   ]
  },
  {
   "cell_type": "code",
   "execution_count": 287,
   "metadata": {
    "ExecuteTime": {
     "end_time": "2020-07-29T21:15:19.156665Z",
     "start_time": "2020-07-29T21:15:19.145683Z"
    }
   },
   "outputs": [
    {
     "data": {
      "text/plain": [
       "array([[[174, 201, 231],\n",
       "        [174, 201, 231],\n",
       "        [174, 201, 231],\n",
       "        ...,\n",
       "        [250, 251, 255],\n",
       "        [250, 251, 255],\n",
       "        [250, 251, 255]],\n",
       "\n",
       "       [[172, 199, 229],\n",
       "        [173, 200, 230],\n",
       "        [173, 200, 230],\n",
       "        ...,\n",
       "        [251, 252, 255],\n",
       "        [251, 252, 255],\n",
       "        [251, 252, 255]],\n",
       "\n",
       "       [[174, 201, 231],\n",
       "        [174, 201, 231],\n",
       "        [174, 201, 231],\n",
       "        ...,\n",
       "        [252, 253, 255],\n",
       "        [252, 253, 255],\n",
       "        [252, 253, 255]],\n",
       "\n",
       "       ...,\n",
       "\n",
       "       [[ 88,  80,   7],\n",
       "        [147, 138,  69],\n",
       "        [122, 116,  38],\n",
       "        ...,\n",
       "        [ 39,  42,  33],\n",
       "        [  8,  14,   2],\n",
       "        [  6,  12,   0]],\n",
       "\n",
       "       [[122, 112,  41],\n",
       "        [129, 120,  53],\n",
       "        [118, 112,  36],\n",
       "        ...,\n",
       "        [  9,  12,   3],\n",
       "        [  9,  15,   3],\n",
       "        [ 16,  24,   9]],\n",
       "\n",
       "       [[116, 103,  35],\n",
       "        [104,  93,  31],\n",
       "        [108, 102,  28],\n",
       "        ...,\n",
       "        [ 43,  49,  39],\n",
       "        [ 13,  21,   6],\n",
       "        [ 15,  24,   7]]], dtype=uint8)"
      ]
     },
     "execution_count": 287,
     "metadata": {},
     "output_type": "execute_result"
    }
   ],
   "source": [
    "from sklearn.datasets import load_sample_image\n",
    "image = load_sample_image('china.jpg')\n",
    "image"
   ]
  },
  {
   "cell_type": "code",
   "execution_count": 288,
   "metadata": {
    "ExecuteTime": {
     "end_time": "2020-07-29T21:15:19.692540Z",
     "start_time": "2020-07-29T21:15:19.543541Z"
    }
   },
   "outputs": [
    {
     "data": {
      "text/plain": [
       "<matplotlib.image.AxesImage at 0x16d65c10710>"
      ]
     },
     "execution_count": 288,
     "metadata": {},
     "output_type": "execute_result"
    },
    {
     "data": {
      "image/png": "[encoded data removed]",
      "text/plain": [
       "<Figure size 432x288 with 1 Axes>"
      ]
     },
     "metadata": {
      "needs_background": "light"
     },
     "output_type": "display_data"
    }
   ],
   "source": [
    "plt.imshow(image)"
   ]
  },
  {
   "cell_type": "code",
   "execution_count": null,
   "metadata": {},
   "outputs": [],
   "source": []
  }
 ],
 "metadata": {
  "kernelspec": {
   "display_name": "Python 3",
   "language": "python",
   "name": "python3"
  },
  "language_info": {
   "codemirror_mode": {
    "name": "ipython",
    "version": 3
   },
   "file_extension": ".py",
   "mimetype": "text/x-python",
   "name": "python",
   "nbconvert_exporter": "python",
   "pygments_lexer": "ipython3",
   "version": "3.7.6"
  },
  "toc": {
   "base_numbering": 1,
   "nav_menu": {},
   "number_sections": true,
   "sideBar": true,
   "skip_h1_title": false,
   "title_cell": "Table of Contents",
   "title_sidebar": "Contents",
   "toc_cell": false,
   "toc_position": {},
   "toc_section_display": true,
   "toc_window_display": false
  }
 },
 "nbformat": 4,
 "nbformat_minor": 2
}
